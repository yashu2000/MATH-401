{
 "cells": [
  {
   "cell_type": "code",
   "execution_count": 38,
   "id": "intermediate-conjunction",
   "metadata": {},
   "outputs": [],
   "source": [
    "import numpy as np\n",
    "import pandas as pd\n",
    "import matplotlib.pyplot as plt\n",
    "import sympy\n",
    "from sympy import *    \n",
    "from sympy.plotting import plot_parametric"
   ]
  },
  {
   "cell_type": "markdown",
   "id": "agreed-inspection",
   "metadata": {},
   "source": [
    "# SVD"
   ]
  },
  {
   "cell_type": "markdown",
   "id": "administrative-collection",
   "metadata": {},
   "source": [
    "## 1)  Compute the Singular Value decomposition U, S, V by following these steps:"
   ]
  },
  {
   "cell_type": "code",
   "execution_count": 10,
   "id": "comparable-communication",
   "metadata": {},
   "outputs": [
    {
     "name": "stdout",
     "output_type": "stream",
     "text": [
      "[[-4  1]\n",
      " [-3  2]\n",
      " [ 7 -4]\n",
      " [-4 -9]\n",
      " [ 7  6]\n",
      " [-3  9]\n",
      " [-8  7]\n",
      " [ 2  3]\n",
      " [ 9 -9]\n",
      " [ 8  7]\n",
      " [-4 -4]\n",
      " [-7 -7]\n",
      " [ 7  9]\n",
      " [-2  4]\n",
      " [-5 -5]\n",
      " [ 5 -4]\n",
      " [ 7 -9]\n",
      " [-2  6]\n",
      " [-1  3]\n",
      " [ 1  6]]\n",
      "(20, 2)\n"
     ]
    }
   ],
   "source": [
    "A = np.array([[-4, 1], [-3, 2], [7, -4], [-4, -9], [7, 6], [-3, 9], [-8, 7], [2, 3], [9, -9], [8, 7], [-4, -4], \n",
    "              [-7, -7], [7, 9], [-2, 4], [-5, -5], [5, -4], [7, -9], [-2, 6], [-1, 3], [1, 6]])\n",
    "print(A)\n",
    "print(A.shape)"
   ]
  },
  {
   "cell_type": "markdown",
   "id": "difficult-comedy",
   "metadata": {},
   "source": [
    "### 1a)  Calculate A dot A-transpose and A-transpose dot A.  What are their dimensions?"
   ]
  },
  {
   "cell_type": "code",
   "execution_count": 7,
   "id": "polyphonic-congress",
   "metadata": {},
   "outputs": [
    {
     "name": "stdout",
     "output_type": "stream",
     "text": [
      "Dimensions for A dot A-Transpose are: (20, 20)\n",
      "Dimensions for A-Transpose dot A are: (2, 2)\n"
     ]
    }
   ],
   "source": [
    "ata = A.T.dot(A)\n",
    "aat = A.dot(A.T)\n",
    "print('Dimensions for A dot A-Transpose are: {}'.format(aat.shape))\n",
    "print('Dimensions for A-Transpose dot A are: {}'.format(ata.shape))"
   ]
  },
  {
   "cell_type": "markdown",
   "id": "compatible-contents",
   "metadata": {},
   "source": [
    "ie\n",
    "\n",
    "$A \\cdot A^T$ is of dimension $20x20$\n",
    "\n",
    "$A^T \\cdot A$ is of dimension $2x2$"
   ]
  },
  {
   "cell_type": "markdown",
   "id": "central-survey",
   "metadata": {},
   "source": [
    "### 1b)  Calculate the eigenvalues of A dot A-transpose and of A-transpose dot A.  If you were doing this by hand, which matrix would you prefer to calculate the eigenvalues?   Use these eigenvalues to make the matrix S in the SVD for A."
   ]
  },
  {
   "cell_type": "markdown",
   "id": "disturbed-reservation",
   "metadata": {},
   "source": [
    "If I were doing this by hand, I would prefer to use the $A^T \\cdot A$ matrix as it will only have 2 eigenvalues we would need to derive. Hence we will be using the eigenvalues of $A^T \\cdot A$ to make matrix S"
   ]
  },
  {
   "cell_type": "code",
   "execution_count": 11,
   "id": "tested-rwanda",
   "metadata": {},
   "outputs": [
    {
     "name": "stdout",
     "output_type": "stream",
     "text": [
      "[583.57013184 772.42986816]\n"
     ]
    }
   ],
   "source": [
    "evals, evecs = np.linalg.eig(ata)\n",
    "print(evals)"
   ]
  },
  {
   "cell_type": "markdown",
   "id": "textile-destruction",
   "metadata": {},
   "source": [
    "Using these two eigenvalues, and the fact that we know that shape of **Σ** will be $20x2$ we can make the following **Σ** matrix"
   ]
  },
  {
   "cell_type": "code",
   "execution_count": 14,
   "id": "referenced-danish",
   "metadata": {},
   "outputs": [
    {
     "name": "stdout",
     "output_type": "stream",
     "text": [
      "(20, 2)\n",
      "[[24.15719627  0.        ]\n",
      " [ 0.         27.79262255]\n",
      " [ 0.          0.        ]\n",
      " [ 0.          0.        ]\n",
      " [ 0.          0.        ]\n",
      " [ 0.          0.        ]\n",
      " [ 0.          0.        ]\n",
      " [ 0.          0.        ]\n",
      " [ 0.          0.        ]\n",
      " [ 0.          0.        ]\n",
      " [ 0.          0.        ]\n",
      " [ 0.          0.        ]\n",
      " [ 0.          0.        ]\n",
      " [ 0.          0.        ]\n",
      " [ 0.          0.        ]\n",
      " [ 0.          0.        ]\n",
      " [ 0.          0.        ]\n",
      " [ 0.          0.        ]\n",
      " [ 0.          0.        ]\n",
      " [ 0.          0.        ]]\n"
     ]
    }
   ],
   "source": [
    "sigma = np.array([[np.sqrt(evals[0]), 0], [0,np.sqrt(evals[1])], [0,0], [0,0], [0,0], [0,0], [0,0], [0,0], [0,0], [0,0], [0,0], [0,0], [0,0], [0,0], [0,0], [0,0],[0,0],[0,0],[0,0],[0,0]])\n",
    "print(sigma.shape)\n",
    "print(sigma)"
   ]
  },
  {
   "cell_type": "markdown",
   "id": "figured-hamilton",
   "metadata": {},
   "source": [
    "### 1c)  Calculate the symbolic eigenvalues of A dot A-transpose, in this case, in the form a + Sqrt[b] where a and b are integers  (if your software is not symbolic, calculate det(M - x*I) and use the quadratic formula).  Let An = numerical version of A  (in Mathematica N[A] ) and calculate the eigenvalues of An dot An-transpose.  Compare the numerical with the symbolic."
   ]
  },
  {
   "cell_type": "markdown",
   "id": "extreme-better",
   "metadata": {},
   "source": [
    "Unsure how to do this, sorry =("
   ]
  },
  {
   "cell_type": "markdown",
   "id": "norwegian-crime",
   "metadata": {},
   "source": [
    "### 1d)  Calculate the eigenvectors of A-transpose dot A, normalize to unit length if necessary, and call them v1 and v2.  Use v1 and v2 to make the matrix V of the SVD of A.  "
   ]
  },
  {
   "cell_type": "code",
   "execution_count": 43,
   "id": "exposed-german",
   "metadata": {},
   "outputs": [
    {
     "name": "stdout",
     "output_type": "stream",
     "text": [
      "v1 is [ 0.04770874 -0.99886129]\n",
      "1.0\n",
      "v2 is [-0.99886129 -0.04770874]\n",
      "1.0\n"
     ]
    }
   ],
   "source": [
    "v2 = evecs[:,0]\n",
    "v1 = evecs[:,1]\n",
    "print('v1 is {}'.format(v1))\n",
    "print(np.linalg.norm(v1))\n",
    "print('v2 is {}'.format(v2))\n",
    "print(np.linalg.norm(v2))"
   ]
  },
  {
   "cell_type": "markdown",
   "id": "operating-amino",
   "metadata": {},
   "source": [
    "Since the dimensions of the **v1** and **v2** are $2x1$, we can then readily craft V to be:"
   ]
  },
  {
   "cell_type": "code",
   "execution_count": 44,
   "id": "informed-going",
   "metadata": {},
   "outputs": [
    {
     "name": "stdout",
     "output_type": "stream",
     "text": [
      "[[ 0.04770874 -0.99886129]\n",
      " [-0.99886129 -0.04770874]]\n"
     ]
    }
   ],
   "source": [
    "V = np.array([v1,v2]).T\n",
    "print(V)"
   ]
  },
  {
   "cell_type": "markdown",
   "id": "mounted-dairy",
   "metadata": {},
   "source": [
    "### 1e)  Calculate u1 = A dot v1 and u2 = A dot v2.  Verify that u1 and u2 are eigenvectors of A dot A-transpose.  Verify that u1 is perpendicular to u2.  What do you have to do to these vectors before making the first two columns of U of the SVD of A?  In order to complete the columns of U, describe in words what you would do if you were doing it by hand."
   ]
  },
  {
   "cell_type": "code",
   "execution_count": 25,
   "id": "impaired-circular",
   "metadata": {},
   "outputs": [
    {
     "name": "stdout",
     "output_type": "stream",
     "text": [
      "u1: [ 3.94773642  2.90116639 -6.80119407  4.42482382 -7.27828147  2.56720521\n",
      "  7.65692914 -2.1408488  -8.56037295 -8.3248515   4.18628012  7.32599021\n",
      " -7.42140769  1.80688762  5.23285015 -4.80347149 -6.56265037  1.71147014\n",
      "  0.85573507 -1.28511373]\n",
      "------------------------------------------------\n",
      "u2: [-1.18969625 -2.1408488   4.32940634  8.79891665 -5.65920656 -9.13287783\n",
      " -7.37369895 -2.90116639  9.41913027 -6.61035911  3.8046102   6.65806785\n",
      " -8.65579043 -4.09086264  4.75576275  4.23398886  9.32371279 -6.08858522\n",
      " -3.04429261 -5.945459  ]\n",
      "------------------------------------------------\n",
      "Verification that u1 & u2 are perpendicular: u1 dot u2 = 2.042810365310288e-14\n"
     ]
    }
   ],
   "source": [
    "u1 = A.dot(v1)\n",
    "u2 = A.dot(v2)\n",
    "print('u1: {}'.format(u1))\n",
    "print('------------------------------------------------')\n",
    "print('u2: {}'.format(u2))\n",
    "print('------------------------------------------------')\n",
    "print('Verification that u1 & u2 are perpendicular: u1 dot u2 = {}'.format(u1.dot(u2)))"
   ]
  },
  {
   "cell_type": "markdown",
   "id": "imported-gentleman",
   "metadata": {},
   "source": [
    "Given that computer systems are not always numerically stable, we can consider such a small number of $2 * 10^{-14}$ to be effectively equal to $0$. Hence we have **proven** that u1 and u2 are **perpendicular**"
   ]
  },
  {
   "cell_type": "markdown",
   "id": "dirty-commercial",
   "metadata": {},
   "source": [
    "We know that u1 and u2 are eigenvectors of $A \\cdot A^T$ by the proof that the eigenpairs of $A^T \\cdot A$ can be transformed to produce the eigenpairs of $A \\cdot A^T$. This can be further verified by computing $\\frac{1}{\\sigma} * A*v$"
   ]
  },
  {
   "cell_type": "markdown",
   "id": "acting-syracuse",
   "metadata": {},
   "source": [
    "Prior to using these vectors to make the first two coluns of U, we need to **normalize** them. \n",
    "\n",
    "**IF I WERE DOING THIS VIA HAND**\n",
    "\n",
    "I would first approximate the square root of the eigenvalues above. This is because we know that \n",
    "\n",
    "$A \\cdot v = \\sigma * u$ and\n",
    "\n",
    "$\\lambda_i = \\sigma_i^2$\n",
    "\n",
    "where u and v are unit normal vectors and $\\sigma$ is our singular value. Thereby, to normalize the above vectors u1 and u2, we can simply divide by $\\sigma$ as that is the multiple that is causing u1 and u2 not to be normalized. Hence, by approximating $\\sigma$ we can divide the u1 and u2 above by the approximated $\\sigma$ to generate their unit norm form."
   ]
  },
  {
   "cell_type": "markdown",
   "id": "progressive-lunch",
   "metadata": {},
   "source": [
    "#### Constructing U"
   ]
  },
  {
   "cell_type": "code",
   "execution_count": 29,
   "id": "alleged-snake",
   "metadata": {},
   "outputs": [
    {
     "name": "stdout",
     "output_type": "stream",
     "text": [
      "[[ 0.16341865 -0.04280619  0.          0.          0.          0.\n",
      "   0.          0.          0.          0.          0.          0.\n",
      "   0.          0.          0.          0.          0.          0.\n",
      "   0.          0.        ]\n",
      " [ 0.12009533 -0.07702939  0.          0.          0.          0.\n",
      "   0.          0.          0.          0.          0.          0.\n",
      "   0.          0.          0.          0.          0.          0.\n",
      "   0.          0.        ]\n",
      " [-0.28153905  0.15577538  0.          0.          0.          0.\n",
      "   0.          0.          0.          0.          0.          0.\n",
      "   0.          0.          0.          0.          0.          0.\n",
      "   0.          0.        ]\n",
      " [ 0.18316794  0.31659181  0.          0.          0.          0.\n",
      "   0.          0.          0.          0.          0.          0.\n",
      "   0.          0.          0.          0.          0.          0.\n",
      "   0.          0.        ]\n",
      " [-0.30128834 -0.20362262  0.          0.          0.          0.\n",
      "   0.          0.          0.          0.          0.          0.\n",
      "   0.          0.          0.          0.          0.          0.\n",
      "   0.          0.        ]\n",
      " [ 0.10627083 -0.32860799  0.          0.          0.          0.\n",
      "   0.          0.          0.          0.          0.          0.\n",
      "   0.          0.          0.          0.          0.          0.\n",
      "   0.          0.        ]\n",
      " [ 0.31696266 -0.26531138  0.          0.          0.          0.\n",
      "   0.          0.          0.          0.          0.          0.\n",
      "   0.          0.          0.          0.          0.          0.\n",
      "   0.          0.        ]\n",
      " [-0.08862158 -0.1043862   0.          0.          0.          0.\n",
      "   0.          0.          0.          0.          0.          0.\n",
      "   0.          0.          0.          0.          0.          0.\n",
      "   0.          0.        ]\n",
      " [-0.3543612   0.33890757  0.          0.          0.          0.\n",
      "   0.          0.          0.          0.          0.          0.\n",
      "   0.          0.          0.          0.          0.          0.\n",
      "   0.          0.        ]\n",
      " [-0.34461166 -0.23784582  0.          0.          0.          0.\n",
      "   0.          0.          0.          0.          0.          0.\n",
      "   0.          0.          0.          0.          0.          0.\n",
      "   0.          0.        ]\n",
      " [ 0.17329329  0.13689281  0.          0.          0.          0.\n",
      "   0.          0.          0.          0.          0.          0.\n",
      "   0.          0.          0.          0.          0.          0.\n",
      "   0.          0.        ]\n",
      " [ 0.30326326  0.23956242  0.          0.          0.          0.\n",
      "   0.          0.          0.          0.          0.          0.\n",
      "   0.          0.          0.          0.          0.          0.\n",
      "   0.          0.        ]\n",
      " [-0.30721312 -0.31144202  0.          0.          0.          0.\n",
      "   0.          0.          0.          0.          0.          0.\n",
      "   0.          0.          0.          0.          0.          0.\n",
      "   0.          0.        ]\n",
      " [ 0.07479707 -0.14719239  0.          0.          0.          0.\n",
      "   0.          0.          0.          0.          0.          0.\n",
      "   0.          0.          0.          0.          0.          0.\n",
      "   0.          0.        ]\n",
      " [ 0.21661662  0.17111601  0.          0.          0.          0.\n",
      "   0.          0.          0.          0.          0.          0.\n",
      "   0.          0.          0.          0.          0.          0.\n",
      "   0.          0.        ]\n",
      " [-0.19884226  0.15234219  0.          0.          0.          0.\n",
      "   0.          0.          0.          0.          0.          0.\n",
      "   0.          0.          0.          0.          0.          0.\n",
      "   0.          0.        ]\n",
      " [-0.27166441  0.33547438  0.          0.          0.          0.\n",
      "   0.          0.          0.          0.          0.          0.\n",
      "   0.          0.          0.          0.          0.          0.\n",
      "   0.          0.        ]\n",
      " [ 0.07084722 -0.21907199  0.          0.          0.          0.\n",
      "   0.          0.          0.          0.          0.          0.\n",
      "   0.          0.          0.          0.          0.          0.\n",
      "   0.          0.        ]\n",
      " [ 0.03542361 -0.109536    0.          0.          0.          0.\n",
      "   0.          0.          0.          0.          0.          0.\n",
      "   0.          0.          0.          0.          0.          0.\n",
      "   0.          0.        ]\n",
      " [-0.05319797 -0.2139222   0.          0.          0.          0.\n",
      "   0.          0.          0.          0.          0.          0.\n",
      "   0.          0.          0.          0.          0.          0.\n",
      "   0.          0.        ]]\n",
      "(20, 20)\n"
     ]
    }
   ],
   "source": [
    "u1 = u1 / np.linalg.norm(u1)\n",
    "u2 = u2 / np.linalg.norm(u2)\n",
    "\n",
    "U = np.array([u1, u2, np.zeros(20), np.zeros(20),np.zeros(20),np.zeros(20),np.zeros(20),np.zeros(20),np.zeros(20),np.zeros(20),np.zeros(20),np.zeros(20),np.zeros(20),np.zeros(20),np.zeros(20),np.zeros(20),np.zeros(20),np.zeros(20),np.zeros(20),np.zeros(20)]).T\n",
    "print(U)\n",
    "print(U.shape)"
   ]
  },
  {
   "cell_type": "markdown",
   "id": "prescription-boxing",
   "metadata": {},
   "source": [
    "## 2)  What is the list of singular values of A using the eigenvalues in (1b)?  "
   ]
  },
  {
   "cell_type": "code",
   "execution_count": 39,
   "id": "clinical-sullivan",
   "metadata": {},
   "outputs": [
    {
     "name": "stdout",
     "output_type": "stream",
     "text": [
      "Singular Value 1: 27.79262254909051\n",
      "Singular Value 2: 24.157196274480732\n"
     ]
    }
   ],
   "source": [
    "singval2 = np.sqrt(evals[0])\n",
    "singval1 = np.sqrt(evals[1])\n",
    "\n",
    "print('Singular Value 1: {}'.format(singval1))\n",
    "print(\"Singular Value 2: {}\".format(singval2))"
   ]
  },
  {
   "cell_type": "markdown",
   "id": "neutral-observation",
   "metadata": {},
   "source": [
    "## 3)  Show the eigenvectors v1,v2 from (1d) in the plane.  "
   ]
  },
  {
   "cell_type": "code",
   "execution_count": 37,
   "id": "labeled-california",
   "metadata": {},
   "outputs": [
    {
     "data": {
      "image/png": "[encoded data removed]",
      "text/plain": [
       "<Figure size 504x504 with 1 Axes>"
      ]
     },
     "metadata": {
      "needs_background": "light"
     },
     "output_type": "display_data"
    }
   ],
   "source": [
    "plt.figure(figsize=(7,7))\n",
    "plt.xlim(-1,1)\n",
    "plt.ylim(-1,1)\n",
    "plt.quiver(v1[0], v1[1],color='red',label='v1')\n",
    "plt.quiver(v2[0],v2[1],color='blue',label='v2')\n",
    "plt.legend(bbox_to_anchor=(1.05,1))\n",
    "plt.show()"
   ]
  },
  {
   "cell_type": "markdown",
   "id": "attended-dealing",
   "metadata": {},
   "source": [
    "## 4)  Compute the quadratic form Q(v)=(A dot v) dot (A dot v) and plot the parametric curve r = Q(v) where v= {Cos[t], Sin[t]} is on the unit circle. TODO"
   ]
  },
  {
   "cell_type": "code",
   "execution_count": null,
   "id": "harmful-client",
   "metadata": {},
   "outputs": [],
   "source": []
  },
  {
   "cell_type": "markdown",
   "id": "honey-calvin",
   "metadata": {},
   "source": [
    "## 5)  What is the maximum length of A dot v for unit vectors v?  That is stretching.   "
   ]
  },
  {
   "cell_type": "code",
   "execution_count": 40,
   "id": "iraqi-heater",
   "metadata": {},
   "outputs": [
    {
     "name": "stdout",
     "output_type": "stream",
     "text": [
      "27.79262254909051\n"
     ]
    }
   ],
   "source": [
    "print(singval1)"
   ]
  },
  {
   "cell_type": "markdown",
   "id": "centered-jacksonville",
   "metadata": {},
   "source": [
    "The maximum length of $A \\cdot v$, for all unit vectors v, is the largest singular value of A. Its corresponding $v_1$ is the direction in which the stretching is the largest."
   ]
  },
  {
   "cell_type": "markdown",
   "id": "practical-reggae",
   "metadata": {},
   "source": [
    "## 6) What is the minimum length of A dot v for unit vectors v?  That is squeezing. "
   ]
  },
  {
   "cell_type": "code",
   "execution_count": 41,
   "id": "stunning-library",
   "metadata": {},
   "outputs": [
    {
     "name": "stdout",
     "output_type": "stream",
     "text": [
      "24.157196274480732\n"
     ]
    }
   ],
   "source": [
    "print(singval2)"
   ]
  },
  {
   "cell_type": "markdown",
   "id": "knowing-nowhere",
   "metadata": {},
   "source": [
    "The minimum length of $A \\cdot v$, for all unit vectors v, is the smallest singular value of A. Its corresponding $v_2$ is the direciton in which the stretching is the smallest, hence it is squeezing."
   ]
  },
  {
   "cell_type": "markdown",
   "id": "violent-composer",
   "metadata": {},
   "source": [
    "# Dimension Reduction"
   ]
  },
  {
   "cell_type": "markdown",
   "id": "amateur-scoop",
   "metadata": {},
   "source": [
    "## 7)"
   ]
  },
  {
   "cell_type": "markdown",
   "id": "basic-delight",
   "metadata": {},
   "source": [
    "### a) Given the matrix B below, use SVD to approximate it with a rank 2 matrix  and call it Bnew."
   ]
  },
  {
   "cell_type": "code",
   "execution_count": 45,
   "id": "environmental-czech",
   "metadata": {},
   "outputs": [
    {
     "data": {
      "text/plain": [
       "(10, 10)"
      ]
     },
     "execution_count": 45,
     "metadata": {},
     "output_type": "execute_result"
    }
   ],
   "source": [
    "B = np.array([[0.23, 0.6, 0.74, 0.72, 0.04, 0.91, 0.3, 0.43, 0.65, 0.19], [0.78, 0.13, 0.63, 0.15, 0.08, 0.17, 0.25, 0.22, 0.72, 0.51], [0.5, 0.67, 0.18, 0.79, 0.36, 0.55, 0.6, 0.72, 0.14, 0.84], [0.39, 0.61, 0.43, 0.36, 0.99, 0.67, 0.3, 0.61, 0.93, 0.5], [0.7, 0.94, 0.65, 0.63, 0.97, 0.3, 0.17, 0.86, 0.76, 0.76], [0.24, 0.03, 0.46, 0.5, 0.51, 0.33, 0.86, 0.29, 0.57, 0.75], [0.51, 0.31, 0.86, 0.08, 0.27, 0.11, 0.22, 0.9, 0.68, 0.05], [0.21, 0.83, 0.17, 0.61, 0.29, 0.26, 0.77, 0.45, 0.81, 0.95], [0.1, 0.37, 0.16, 0.97, 0.49, 0.79, 0.82, 0.34, 0.26, 0.38], [0.72, 0.76, 0.22, 0.38, 0.27, 0.43, 0.36, 0.39, 0.19, 0.76]])\n",
    "B.shape"
   ]
  },
  {
   "cell_type": "code",
   "execution_count": 47,
   "id": "endless-substitute",
   "metadata": {},
   "outputs": [
    {
     "name": "stdout",
     "output_type": "stream",
     "text": [
      "[[ 0.41264985  0.52776526  0.41973051  0.49857305  0.43960698  0.42656182\n",
      "   0.42551425  0.50989495  0.5502858   0.55093132]\n",
      " [ 0.46581807  0.37611952  0.54986738  0.15771735  0.36298145  0.19051408\n",
      "   0.10632383  0.50293888  0.59679677  0.29409875]\n",
      " [ 0.31147476  0.61606342  0.24143769  0.77783228  0.46390733  0.61040275\n",
      "   0.6918834   0.45688636  0.43953931  0.74076165]\n",
      " [ 0.57862301  0.6300898   0.62662357  0.49632497  0.54971237  0.45245873\n",
      "   0.40943816  0.67861256  0.75940836  0.60842541]\n",
      " [ 0.71194428  0.73473057  0.78504207  0.53591745  0.65177585  0.5030003\n",
      "   0.43474697  0.82156318  0.92988287  0.68810973]\n",
      " [ 0.30825536  0.50871124  0.27390988  0.58354613  0.39784148  0.47029951\n",
      "   0.51277433  0.4187606   0.42378219  0.58238755]\n",
      " [ 0.60032719  0.398093    0.73864517  0.04347928  0.41523144  0.13074509\n",
      "  -0.01049634  0.6195103   0.75950666  0.24972216]\n",
      " [ 0.36528054  0.62885407  0.31556642  0.73951414  0.48723564  0.591795\n",
      "   0.65196628  0.50484019  0.50507014  0.72898159]\n",
      " [ 0.1588178   0.54341425  0.04371099  0.81948943  0.37565984  0.61502349\n",
      "   0.74322185  0.30880553  0.2495786   0.71991762]\n",
      " [ 0.34187407  0.50247853  0.32515218  0.53336998  0.40378687  0.43982707\n",
      "   0.46361179  0.44401777  0.4631473   0.55379736]]\n"
     ]
    }
   ],
   "source": [
    "u, s, v = np.linalg.svd(B, full_matrices=False)\n",
    "Bnew = np.zeros((len(u), len(v)))\n",
    "for i in range(2):\n",
    "    Bnew += s[i] * np.outer(u.T[i], v[i])\n",
    "print(Bnew)"
   ]
  },
  {
   "cell_type": "markdown",
   "id": "twelve-admission",
   "metadata": {},
   "source": [
    "### b) Calculate the rank of Bnew"
   ]
  },
  {
   "cell_type": "code",
   "execution_count": 48,
   "id": "interim-counter",
   "metadata": {},
   "outputs": [
    {
     "name": "stdout",
     "output_type": "stream",
     "text": [
      "2\n"
     ]
    }
   ],
   "source": [
    "print(np.linalg.matrix_rank(Bnew))"
   ]
  },
  {
   "cell_type": "markdown",
   "id": "toxic-advocate",
   "metadata": {},
   "source": [
    "### c) Calculate the singular values of the difference B - Bnew and compare to the singular values of B."
   ]
  },
  {
   "cell_type": "code",
   "execution_count": 49,
   "id": "treated-insurance",
   "metadata": {},
   "outputs": [
    {
     "name": "stdout",
     "output_type": "stream",
     "text": [
      "B's Singular Values: [5.04282981 1.5072937  1.08938674 0.96787892 0.89255825 0.65286199\n",
      " 0.59124593 0.32225928 0.19364291 0.15959561]\n",
      "---------------------------------------------------------------\n",
      "B-Bnew's Singular Values: [1.08938674e+00 9.67878921e-01 8.92558247e-01 6.52861986e-01\n",
      " 5.91245933e-01 3.22259285e-01 1.93642907e-01 1.59595612e-01\n",
      " 3.06966341e-14 7.78374345e-16]\n"
     ]
    }
   ],
   "source": [
    "unew, snew, vnew = np.linalg.svd(B - Bnew)\n",
    "print(\"B's Singular Values: {}\".format(s))\n",
    "print('---------------------------------------------------------------')\n",
    "print(\"B-Bnew's Singular Values: {}\".format(snew))"
   ]
  },
  {
   "cell_type": "markdown",
   "id": "internal-breakdown",
   "metadata": {},
   "source": [
    "The singular values of B and B - Bnew are very close, with only the largest 2 singluar values missing in the list of singular values of B - Bnew. This makes sense as we approximated Bnew with rank 2, hence Bnew generated the 2 largest singular values which are missing here because we subtract Bnew from B. This thereby causes B-Bnew to have correctly approximated 8 out of 10 of the singular values of B."
   ]
  },
  {
   "cell_type": "markdown",
   "id": "comparative-medicaid",
   "metadata": {},
   "source": [
    "## 8)  Clustering.  Below, P is a list of data points in 20 dimensions.  Project them to 2D using dimension reduction with SVD (the eigenvectors of U) and make a picture.  By hand, separate them into two lists by giving two lists of indices.  Make another picture with the two sets of points in different colors.  It is ok to have an outlier or two."
   ]
  },
  {
   "cell_type": "code",
   "execution_count": 50,
   "id": "incorrect-canon",
   "metadata": {},
   "outputs": [
    {
     "data": {
      "text/plain": [
       "(9, 10)"
      ]
     },
     "execution_count": 50,
     "metadata": {},
     "output_type": "execute_result"
    }
   ],
   "source": [
    "P = np.array([[0.08, 0.23, 0.43, 0.14, 0.12, 0.04, 0.3, 0.13, 0.02, 0.], [0.58, 0.28, 0., 0., 0.23, 0., 0., 0., 0., 0.], [0.38, 0.47, 0.27, 0.65, 0.06, 0.09, 0.17, 0.13, 0.07, 0.19], [0.13, 0.16, 0.14, 0.13, 0.35, 0.09, 0.13, 0.29, 0.02, 0.], [0.22, 0.18, 0.04, 0.07, 0.35, 0., 0.08, 0.79, 0., 0.02], [0.13, 0.36, 0., 0., 0., 0., 0.08, 0.18, 0., 0.], [0.15, 0.4, 0., 0., 0., 0., 0.17, 0.31, 0., 0.], [0.16, 0.22, 0.78, 0.07, 0.12, 0., 0.08, 0., 0., 0.], [0.08, 0.42, 0.17, 0.72, 0., 0.09, 0.17, 0.13, 0., 0.]])\n",
    "P.shape"
   ]
  },
  {
   "cell_type": "code",
   "execution_count": 58,
   "id": "given-clause",
   "metadata": {},
   "outputs": [
    {
     "data": {
      "text/plain": [
       "(9,)"
      ]
     },
     "execution_count": 58,
     "metadata": {},
     "output_type": "execute_result"
    }
   ],
   "source": [
    "u,s,v = np.linalg.svd(P, full_matrices=False)\n",
    "\n",
    "\n",
    "pts = u.dot(s)\n",
    "pts.shape"
   ]
  },
  {
   "cell_type": "markdown",
   "id": "pressed-lyric",
   "metadata": {},
   "source": [
    "## 9"
   ]
  },
  {
   "cell_type": "markdown",
   "id": "developmental-extent",
   "metadata": {},
   "source": [
    "SORRY I WAS NOT ABLE TO DO 8 & 9 :("
   ]
  }
 ],
 "metadata": {
  "kernelspec": {
   "display_name": "Python 3",
   "language": "python",
   "name": "python3"
  },
  "language_info": {
   "codemirror_mode": {
    "name": "ipython",
    "version": 3
   },
   "file_extension": ".py",
   "mimetype": "text/x-python",
   "name": "python",
   "nbconvert_exporter": "python",
   "pygments_lexer": "ipython3",
   "version": "3.8.6"
  }
 },
 "nbformat": 4,
 "nbformat_minor": 5
}
