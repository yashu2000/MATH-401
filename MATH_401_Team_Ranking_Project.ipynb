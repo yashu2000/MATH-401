{
  "nbformat": 4,
  "nbformat_minor": 0,
  "metadata": {
    "colab": {
      "name": "MATH 401 Team Ranking Project.ipynb",
      "provenance": []
    },
    "kernelspec": {
      "name": "python3",
      "display_name": "Python 3"
    },
    "language_info": {
      "name": "python"
    }
  },
  "cells": [
    {
      "cell_type": "code",
      "metadata": {
        "id": "DoFJWvzxfShz"
      },
      "source": [
        "import numpy as np\n",
        "import matplotlib.pyplot as plt"
      ],
      "execution_count": 1,
      "outputs": []
    },
    {
      "cell_type": "markdown",
      "metadata": {
        "id": "vwctrkFNRuET"
      },
      "source": [
        "# **Remarks**\n",
        "\n",
        "***Name:*** Yashaswi Sharma\n",
        "\n",
        "***UID:*** 116245821\n",
        "\n",
        "***Link To File:*** **https://colab.research.google.com/drive/1KAJ9852efG1eWNIFeVAOP2zfYml2tW7j?usp=sharing**"
      ]
    },
    {
      "cell_type": "markdown",
      "metadata": {
        "id": "9-U8npBdRwDI"
      },
      "source": [
        "I am sharing this file because at times google colab has image formatting issues. Hence, with access to this link if there are any images that are misplaced or half presented, the grader will have full and ready access to the actual image."
      ]
    },
    {
      "cell_type": "markdown",
      "metadata": {
        "id": "gnDui1aNevE-"
      },
      "source": [
        "# **Rank the Teams**"
      ]
    },
    {
      "cell_type": "markdown",
      "metadata": {
        "id": "KEbfgA0teysV"
      },
      "source": [
        "## 1)  The teams need to be ranked from first to fourth. Use the Massey method"
      ]
    },
    {
      "cell_type": "markdown",
      "metadata": {
        "id": "Jp_RKMSHfCUR"
      },
      "source": [
        "Tournament Final Scores:\n",
        "\n",
        "{{\"A\", \"B\"} -> 46, {\"A\", \"C\"} -> 1, {\"A\", \"D\"} -> 47, {\"B\", \"C\"} -> -23, {\"B\", \"D\"} -> 24, {\"C\", \"D\"} -> -37}\n"
      ]
    },
    {
      "cell_type": "markdown",
      "metadata": {
        "id": "EBMV0g_vhhGA"
      },
      "source": [
        "Below are the **original** scores vector and teams matrix"
      ]
    },
    {
      "cell_type": "code",
      "metadata": {
        "colab": {
          "base_uri": "https://localhost:8080/",
          "height": 0
        },
        "id": "QwqCgYqKer48",
        "outputId": "49ea354f-0c4b-41ad-be2b-d63eba86d8dd"
      },
      "source": [
        "score = np.array([46,1,47,-23,24,-37]) # will act as our \"b\" vector\n",
        "teams = np.array([[1,-1,0,0], [1,0,-1,0], [1,0,0,-1], [0,1,-1,0], [0,1,0,-1], [0,0,1,-1]])\n",
        "print('scores: {}'.format(score))\n",
        "print('------------------')\n",
        "print(teams)"
      ],
      "execution_count": 10,
      "outputs": [
        {
          "output_type": "stream",
          "text": [
            "scores: [ 46   1  47 -23  24 -37]\n",
            "------------------\n",
            "[[ 1 -1  0  0]\n",
            " [ 1  0 -1  0]\n",
            " [ 1  0  0 -1]\n",
            " [ 0  1 -1  0]\n",
            " [ 0  1  0 -1]\n",
            " [ 0  0  1 -1]]\n"
          ],
          "name": "stdout"
        }
      ]
    },
    {
      "cell_type": "markdown",
      "metadata": {
        "id": "bUioBEfHhmFm"
      },
      "source": [
        "Now we will modify them to apply the **Massey** method"
      ]
    },
    {
      "cell_type": "code",
      "metadata": {
        "colab": {
          "base_uri": "https://localhost:8080/",
          "height": 0
        },
        "id": "OoycOQtHhBMv",
        "outputId": "b0e56180-136c-4dbb-e647-453b2026a94b"
      },
      "source": [
        "teamta = teams.T.dot(teams)\n",
        "score_new = teams.T.dot(score)\n",
        "teamta[3,:] = 1\n",
        "score_new[3] = 0\n",
        "print(teamta)\n",
        "print(score_new)"
      ],
      "execution_count": 22,
      "outputs": [
        {
          "output_type": "stream",
          "text": [
            "[[ 3 -1 -1 -1]\n",
            " [-1  3 -1 -1]\n",
            " [-1 -1  3 -1]\n",
            " [ 1  1  1  1]]\n",
            "[ 94 -45 -15   0]\n"
          ],
          "name": "stdout"
        }
      ]
    },
    {
      "cell_type": "code",
      "metadata": {
        "colab": {
          "base_uri": "https://localhost:8080/",
          "height": 0
        },
        "id": "u1hhgruKk-di",
        "outputId": "4e428c7d-a865-4044-830d-ce4d4c9bd612"
      },
      "source": [
        "solu = np.linalg.inv(teamta).dot(score_new)\n",
        "print(solu)"
      ],
      "execution_count": 23,
      "outputs": [
        {
          "output_type": "stream",
          "text": [
            "[ 23.5  -11.25  -3.75  -8.5 ]\n"
          ],
          "name": "stdout"
        }
      ]
    },
    {
      "cell_type": "markdown",
      "metadata": {
        "id": "GhLJxg0slyUE"
      },
      "source": [
        "***Final Ranking of Teams:***\n",
        "\n",
        "1. Team A\n",
        "2. Team C\n",
        "3. Team D\n",
        "4. Team B"
      ]
    },
    {
      "cell_type": "markdown",
      "metadata": {
        "id": "x7vqd2UTl9Bp"
      },
      "source": [
        "# **Predict the Last Game**"
      ]
    },
    {
      "cell_type": "markdown",
      "metadata": {
        "id": "HUhwSgODmBfL"
      },
      "source": [
        "## 2)  Teams C and D are going to play one more game next Friday. The committee will make a new ranking by including this game in the ranking calculation.  Assume the point difference can range from -50 to +50, as measured in C's favor."
      ]
    },
    {
      "cell_type": "markdown",
      "metadata": {
        "id": "epfFqg1lmJ0j"
      },
      "source": [
        "### a)  Based on your answer to the previous question, who is predicted to win C or D?\n",
        "\n"
      ]
    },
    {
      "cell_type": "markdown",
      "metadata": {
        "id": "ala5imM4nDI5"
      },
      "source": [
        "***Answer:*** By earlier order, **Team C** is predicted to win as it has a higher rank *when compared to* Team D."
      ]
    },
    {
      "cell_type": "markdown",
      "metadata": {
        "id": "oMmJIKAOnPb9"
      },
      "source": [
        "### b)  What is the predicted point difference?"
      ]
    },
    {
      "cell_type": "code",
      "metadata": {
        "colab": {
          "base_uri": "https://localhost:8080/",
          "height": 0
        },
        "id": "iF__dXMImakp",
        "outputId": "91ec796f-096e-4636-b49c-6a8d02c227ef"
      },
      "source": [
        "solu[2] - solu[1]"
      ],
      "execution_count": 25,
      "outputs": [
        {
          "output_type": "execute_result",
          "data": {
            "text/plain": [
              "7.5"
            ]
          },
          "metadata": {
            "tags": []
          },
          "execution_count": 25
        }
      ]
    },
    {
      "cell_type": "markdown",
      "metadata": {
        "id": "s8tPMQztm-9i"
      },
      "source": [
        "***Answer:*** The point difference is expected to be about 7.5 points."
      ]
    },
    {
      "cell_type": "markdown",
      "metadata": {
        "id": "eYQfN_kknYt_"
      },
      "source": [
        "# **Analyze the possible outcomes of the last game**"
      ]
    },
    {
      "cell_type": "markdown",
      "metadata": {
        "id": "uT4daVBpncLs"
      },
      "source": [
        "## 3)  Answer these questions about how can this game between C and D can affect the rankings."
      ]
    },
    {
      "cell_type": "markdown",
      "metadata": {
        "id": "5yafWuDIpGau"
      },
      "source": [
        "### a)    What is the point range where the ranking from the previous question is unchanged?\n",
        "\n"
      ]
    },
    {
      "cell_type": "code",
      "metadata": {
        "colab": {
          "base_uri": "https://localhost:8080/",
          "height": 0
        },
        "id": "mhMqT42PpKzX",
        "outputId": "8c9a7b0d-c43c-44df-cc0b-bf59bde2b073"
      },
      "source": [
        "# NOTE THE LAST VALUE IN SCORE => REFERS TO THE LOWER END OF WHAT THE POINT DIFF\n",
        "# CAN BE S.T. THE OVERALL RANKINGS DO NOT CHANGE => IF CHANGE TO LOWER NUMBER \n",
        "# WILL CHANGE RANKINGS\n",
        "score = np.array([46,1,47,-23,24,-37, -9]) \n",
        "teams = np.array([[1,-1,0,0], [1,0,-1,0], [1,0,0,-1], [0,1,-1,0], [0,1,0,-1], \n",
        "                  [0,0,1,-1], [0,0,1,-1]])\n",
        "teamta = teams.T.dot(teams)\n",
        "score_new = teams.T.dot(score)\n",
        "teamta[3,:] = 1\n",
        "score_new[3] = 0\n",
        "solu = np.linalg.inv(teamta).dot(score_new)\n",
        "solulst = list(solu)\n",
        "names = ['A', 'B', 'C', 'D']\n",
        "while len(solulst) > 0:\n",
        "  max_ele = max(solulst)\n",
        "  solulst.remove(max_ele)\n",
        "  count = 1\n",
        "  for val in solu:\n",
        "    if max_ele == val:\n",
        "      break\n",
        "    count += 1\n",
        "  print('Rank {}: Team {}'.format(len(solu) - len(solulst), names[count-1]))"
      ],
      "execution_count": 46,
      "outputs": [
        {
          "output_type": "stream",
          "text": [
            "Rank 1: Team A\n",
            "Rank 2: Team C\n",
            "Rank 3: Team D\n",
            "Rank 4: Team B\n"
          ],
          "name": "stdout"
        }
      ]
    },
    {
      "cell_type": "code",
      "metadata": {
        "colab": {
          "base_uri": "https://localhost:8080/",
          "height": 0
        },
        "id": "4JWnzTuW73Oa",
        "outputId": "027fb472-87b7-47a4-a1dd-b0244e7a65be"
      },
      "source": [
        "# NOTE THE LAST VALUE IN SCORE => REFERS TO THE UPPER END OF WHAT THE POINT DIFF\n",
        "# CAN BE S.T. THE OVERALL RANKINGS DO NOT CHANGE => IF CHANGE TO HIGHER NUMBER \n",
        "# WILL CHANGE RANKINGS\n",
        "score = np.array([46,1,47,-23,24,-37, 21]) \n",
        "teams = np.array([[1,-1,0,0], [1,0,-1,0], [1,0,0,-1], [0,1,-1,0], [0,1,0,-1], \n",
        "                  [0,0,1,-1], [0,0,1,-1]])\n",
        "teamta = teams.T.dot(teams)\n",
        "score_new = teams.T.dot(score)\n",
        "teamta[3,:] = 1\n",
        "score_new[3] = 0\n",
        "solu = np.linalg.inv(teamta).dot(score_new)\n",
        "solulst = list(solu)\n",
        "names = ['A', 'B', 'C', 'D']\n",
        "while len(solulst) > 0:\n",
        "  max_ele = max(solulst)\n",
        "  solulst.remove(max_ele)\n",
        "  count = 1\n",
        "  for val in solu:\n",
        "    if max_ele == val:\n",
        "      break\n",
        "    count += 1\n",
        "  print('Rank {}: Team {}'.format(len(solu) - len(solulst), names[count-1]))"
      ],
      "execution_count": 52,
      "outputs": [
        {
          "output_type": "stream",
          "text": [
            "Rank 1: Team A\n",
            "Rank 2: Team C\n",
            "Rank 3: Team D\n",
            "Rank 4: Team B\n"
          ],
          "name": "stdout"
        }
      ]
    },
    {
      "cell_type": "markdown",
      "metadata": {
        "id": "Ca5xXmIT8KxU"
      },
      "source": [
        "As you can see above, the finalised range for where the **point difference** can lie in this final game between **Team C** & **Team D** s.t. the original rankings *DO NOT* change is: \n",
        "\n",
        "$\\textbf{[-9,21]}$"
      ]
    },
    {
      "cell_type": "markdown",
      "metadata": {
        "id": "DOd5q2IL8yNN"
      },
      "source": [
        "### b)   What is one final ranking which cannot result from this final game?"
      ]
    },
    {
      "cell_type": "code",
      "metadata": {
        "colab": {
          "base_uri": "https://localhost:8080/",
          "height": 0
        },
        "id": "XxIfW4DR_M1y",
        "outputId": "278ca467-8919-4a39-c6b9-6a074bd51593"
      },
      "source": [
        "for i in range(-50,60,10):\n",
        "  print('Rankings with point diff {}'.format(i))\n",
        "  score = np.array([46,1,47,-23,24,-37, i]) \n",
        "  teams = np.array([[1,-1,0,0], [1,0,-1,0], [1,0,0,-1], [0,1,-1,0], [0,1,0,-1], \n",
        "                  [0,0,1,-1], [0,0,1,-1]])\n",
        "  teamta = teams.T.dot(teams)\n",
        "  score_new = teams.T.dot(score)\n",
        "  teamta[3,:] = 1\n",
        "  score_new[3] = 0\n",
        "  solu = np.linalg.inv(teamta).dot(score_new)\n",
        "  solulst = list(solu)\n",
        "  names = ['A', 'B', 'C', 'D']\n",
        "  while len(solulst) > 0:\n",
        "    max_ele = max(solulst)\n",
        "    solulst.remove(max_ele)\n",
        "    count = 1\n",
        "    for val in solu:\n",
        "      if max_ele == val:\n",
        "        break\n",
        "      count += 1\n",
        "    print('Rank {}: Team {}'.format(len(solu) - len(solulst), names[count-1]))\n",
        "  print('------------------------------------------------')"
      ],
      "execution_count": 61,
      "outputs": [
        {
          "output_type": "stream",
          "text": [
            "Rankings with point diff -50\n",
            "Rank 1: Team A\n",
            "Rank 2: Team D\n",
            "Rank 3: Team B\n",
            "Rank 4: Team C\n",
            "------------------------------------------------\n",
            "Rankings with point diff -40\n",
            "Rank 1: Team A\n",
            "Rank 2: Team D\n",
            "Rank 3: Team C\n",
            "Rank 4: Team B\n",
            "------------------------------------------------\n",
            "Rankings with point diff -30\n",
            "Rank 1: Team A\n",
            "Rank 2: Team D\n",
            "Rank 3: Team C\n",
            "Rank 4: Team B\n",
            "------------------------------------------------\n",
            "Rankings with point diff -20\n",
            "Rank 1: Team A\n",
            "Rank 2: Team D\n",
            "Rank 3: Team C\n",
            "Rank 4: Team B\n",
            "------------------------------------------------\n",
            "Rankings with point diff -10\n",
            "Rank 1: Team A\n",
            "Rank 2: Team D\n",
            "Rank 3: Team C\n",
            "Rank 4: Team B\n",
            "------------------------------------------------\n",
            "Rankings with point diff 0\n",
            "Rank 1: Team A\n",
            "Rank 2: Team C\n",
            "Rank 3: Team D\n",
            "Rank 4: Team B\n",
            "------------------------------------------------\n",
            "Rankings with point diff 10\n",
            "Rank 1: Team A\n",
            "Rank 2: Team C\n",
            "Rank 3: Team D\n",
            "Rank 4: Team B\n",
            "------------------------------------------------\n",
            "Rankings with point diff 20\n",
            "Rank 1: Team A\n",
            "Rank 2: Team C\n",
            "Rank 3: Team D\n",
            "Rank 4: Team B\n",
            "------------------------------------------------\n",
            "Rankings with point diff 30\n",
            "Rank 1: Team A\n",
            "Rank 2: Team C\n",
            "Rank 3: Team B\n",
            "Rank 4: Team D\n",
            "------------------------------------------------\n",
            "Rankings with point diff 40\n",
            "Rank 1: Team A\n",
            "Rank 2: Team C\n",
            "Rank 3: Team B\n",
            "Rank 4: Team D\n",
            "------------------------------------------------\n",
            "Rankings with point diff 50\n",
            "Rank 1: Team A\n",
            "Rank 2: Team C\n",
            "Rank 3: Team B\n",
            "Rank 4: Team D\n",
            "------------------------------------------------\n"
          ],
          "name": "stdout"
        }
      ]
    },
    {
      "cell_type": "markdown",
      "metadata": {
        "id": "kClQXUY7AKcn"
      },
      "source": [
        "As you can see from above, it is impossible, regardless of the result of the game between **Team C** & **Team D**, for **Team A** to be knocked off first place. \n",
        "\n",
        "Hence the following ranking is **IMPOSSIBLE** to achieve:\n",
        "\n",
        "1. Team C\n",
        "2. Team D \n",
        "3. Team B\n",
        "4. Team A"
      ]
    },
    {
      "cell_type": "markdown",
      "metadata": {
        "id": "tvwsvX_wA1kp"
      },
      "source": [
        "### c)   What are the possible new rankings after the last game?  For each ranking give the point range which gives that ranking.  Make a visualization that shows the possibilities."
      ]
    },
    {
      "cell_type": "code",
      "metadata": {
        "id": "PaqPjcgWA7j2"
      },
      "source": [
        "rank_ord = []\n",
        "rank_score = []\n",
        "for i in range(-50,51):\n",
        "  score = np.array([46,1,47,-23,24,-37, i]) \n",
        "  teams = np.array([[1,-1,0,0], [1,0,-1,0], [1,0,0,-1], [0,1,-1,0], [0,1,0,-1], \n",
        "                  [0,0,1,-1], [0,0,1,-1]])\n",
        "  teamta = teams.T.dot(teams)\n",
        "  score_new = teams.T.dot(score)\n",
        "  teamta[3,:] = 1\n",
        "  score_new[3] = 0\n",
        "  solu = np.linalg.inv(teamta).dot(score_new)\n",
        "  solulst = list(enumerate(solu))\n",
        "  solulst = sorted(solulst, key=lambda x:x[1])\n",
        "  rank_score.append(solu)\n",
        "  rank_ord.append([solulst[i][0] for i in range(len(solulst) - 1, -1, -1)])"
      ],
      "execution_count": 91,
      "outputs": []
    },
    {
      "cell_type": "code",
      "metadata": {
        "colab": {
          "base_uri": "https://localhost:8080/",
          "height": 497
        },
        "id": "-Ev5yMOkGChH",
        "outputId": "b0d0516f-991f-4d7c-9d40-1b99206dfdba"
      },
      "source": [
        "rank_score = np.array(rank_score)\n",
        "plt.figure(figsize=(8,8))\n",
        "plt.xlabel('Possible Final Game Team C vs Team D Score Differences')\n",
        "plt.xlim(-50,50)\n",
        "plt.ylabel('Ordinality Scores for Every Team')\n",
        "plt.plot(list(range(-50,51)), rank_score[:,0], label='TEAM A',color='red')\n",
        "plt.plot(list(range(-50,51)), rank_score[:,1], label='TEAM B', color='blue')\n",
        "plt.plot(list(range(-50,51)), rank_score[:,2], label='TEAM C', color='green')\n",
        "plt.plot(list(range(-50,51)), rank_score[:,3], label='TEAM D', color='black')\n",
        "plt.legend(bbox_to_anchor=(1.05,1))\n",
        "plt.show()"
      ],
      "execution_count": 94,
      "outputs": [
        {
          "output_type": "display_data",
          "data": {
            "image/png": "[encoded data removed]",
            "text/plain": [
              "<Figure size 576x576 with 1 Axes>"
            ]
          },
          "metadata": {
            "tags": [],
            "needs_background": "light"
          }
        }
      ]
    },
    {
      "cell_type": "markdown",
      "metadata": {
        "id": "Z72oTznaL7Ik"
      },
      "source": [
        "As we can see above, there are 3 intersections that occur in the graph, hence there are 4 sets of final team ranking possibilities. Those rankings and the required score differential are listed below (score differential derived from Team C vs Team D)\n",
        "\n",
        "***Range:*** $[-50,-41]$\n",
        "\n",
        "***Rankings:***\n",
        "1. Team A\n",
        "2. Team D\n",
        "3. Team B\n",
        "4. Team C\n",
        "\n",
        "***Range:*** $[-40,-10]$\n",
        "\n",
        "***Rankings:***\n",
        "1. Team A\n",
        "2. Team D\n",
        "3. Team C\n",
        "4. Team B\n",
        "\n",
        "***Range:*** $[-9, 21]$\n",
        "\n",
        "***Rankings:***\n",
        "1. Team A\n",
        "2. Team C\n",
        "3. Team D\n",
        "4. Team B\n",
        "\n",
        "***Range:*** $[22, 50]$\n",
        "\n",
        "***Rankings:***\n",
        "1. Team A\n",
        "2. Team C\n",
        "3. Team B\n",
        "4. Team D\n",
        "\n",
        "\n",
        "Further code is provided below to validate these rankings. 0 = Team A, 1 = Team B and so on."
      ]
    },
    {
      "cell_type": "code",
      "metadata": {
        "colab": {
          "base_uri": "https://localhost:8080/",
          "height": 0
        },
        "id": "ludfvJs_MR5P",
        "outputId": "dd1fa803-b2ca-4216-b1ae-c7228fef414e"
      },
      "source": [
        "for i in range(len(rank_ord)):\n",
        "  if i < 100 and rank_ord[i] != rank_ord[i+1]:\n",
        "    print('Change up right after Score Differential: {}'.format(i-50))\n",
        "    print(rank_ord[i])\n",
        "    print(rank_ord[i+1])"
      ],
      "execution_count": 93,
      "outputs": [
        {
          "output_type": "stream",
          "text": [
            "Change up right after Score Differential: -41\n",
            "[0, 3, 1, 2]\n",
            "[0, 3, 2, 1]\n",
            "Change up right after Score Differential: -10\n",
            "[0, 3, 2, 1]\n",
            "[0, 2, 3, 1]\n",
            "Change up right after Score Differential: 21\n",
            "[0, 2, 3, 1]\n",
            "[0, 2, 1, 3]\n"
          ],
          "name": "stdout"
        }
      ]
    }
  ]
}