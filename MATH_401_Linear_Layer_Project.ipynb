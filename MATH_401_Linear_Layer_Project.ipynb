{
  "nbformat": 4,
  "nbformat_minor": 0,
  "metadata": {
    "colab": {
      "name": "MATH 401 Linear Layer Project.ipynb",
      "provenance": [],
      "collapsed_sections": [
        "cK-INq7hY92d",
        "dNhc-BH6b3Sg",
        "Jv6g1L51cauP"
      ]
    },
    "kernelspec": {
      "name": "python3",
      "display_name": "Python 3"
    },
    "language_info": {
      "name": "python"
    }
  },
  "cells": [
    {
      "cell_type": "markdown",
      "metadata": {
        "id": "n3cJCVPEX48t"
      },
      "source": [
        "## General Info\n",
        "\n",
        "Analyze a trained network with descriptions of how vectors transform, their dimensions, ranks, visualizations.\n",
        "\n",
        "Your network has three layers.  The first layer is a linear layer with a 3x2 matrix.\n",
        "\n",
        "The second layer is a Ramp layer.\n",
        "\n",
        "The third layer is a linear layer with a 2x3 matrix.\n",
        "\n",
        "$\n",
        "A=\\begin{bmatrix} -3 & 3 \\\\ 3 & -8 \\\\ 6 & 4 \\end{bmatrix} \\\\\n",
        "B=\\begin{bmatrix} 1 & -5 & 4 \\\\ -4 & -1 & 5 \\end{bmatrix}\n",
        "$"
      ]
    },
    {
      "cell_type": "markdown",
      "metadata": {
        "id": "vEKl5tWCXqUz"
      },
      "source": [
        "## 1) Determine which vectors $\\vec{x} = {x_1 \\choose x_2}$ are mapped to the first quadrant $\\vec{z} = {z_1 \\choose z_2}$ where $z_1>0$ and $z_2>0$ by following these steps."
      ]
    },
    {
      "cell_type": "markdown",
      "metadata": {
        "id": "cK-INq7hY92d"
      },
      "source": [
        "### a) Symbolically calculate $ \\vec{y} = \\begin{pmatrix} y_1 \\\\ y_2 \\\\ y_3 \\end{pmatrix} = A \\cdot \\begin{pmatrix} x_1 \\\\ x_2 \\end{pmatrix}$ for the first layer."
      ]
    },
    {
      "cell_type": "markdown",
      "metadata": {
        "id": "Sy6viAFVam_C"
      },
      "source": [
        "$\n",
        "\\vec{y} = A \\cdot \\vec{x} = \\begin{bmatrix} -3 & 3 \\\\ 3 & -8 \\\\ 6 & 4 \\end{bmatrix} \\cdot \\begin{pmatrix} x_1 \\\\ x_2 \\end{pmatrix} = \\begin{pmatrix} -3 * x_1 + 3 * x_2 \\\\ 3 * x_1 - 8 * x_2 \\\\ 6 * x_1 + 4 * x_2\\end{pmatrix}\n",
        "$\n",
        "\n",
        "This breaks down to:\n",
        "\n",
        "$\n",
        "y_1 = -3 * x_1 + 3 * x_2 \\\\\n",
        "y_2 = 3 * x_1 - 8 * x_2 \\\\\n",
        "y_3 = 6 * x_1 + 4 * x_2\n",
        "$"
      ]
    },
    {
      "cell_type": "markdown",
      "metadata": {
        "id": "dNhc-BH6b3Sg"
      },
      "source": [
        "### b) Write three inequalities for $y_1 < 0, y_2 < 0$, and $y_3 < 0$ in terms of $x_1$ and $x_2$ using (a)"
      ]
    },
    {
      "cell_type": "markdown",
      "metadata": {
        "id": "HI3tEWuQcPDD"
      },
      "source": [
        "$\n",
        "y_1 = -3 * x_1 + 3 * x_2 < 0 \\\\\n",
        "y_2 = 3 * x_1 - 8 * x_2 < 0 \\\\\n",
        "y_3 = 6 * x_1 + 4 * x_2 < 0\n",
        "$"
      ]
    },
    {
      "cell_type": "markdown",
      "metadata": {
        "id": "Jv6g1L51cauP"
      },
      "source": [
        "### c) How many cases are there for the second layer's Ramp operation?  One case is $y_1,y_2,y_3$ are all negative.  Another case is $y_1<0,y_2<0,$ and $y_3>0$."
      ]
    },
    {
      "cell_type": "markdown",
      "metadata": {
        "id": "-qYX631qeMPp"
      },
      "source": [
        "***Case 1:*** $ y_1 < 0, y_2 < 0, y_3 > 0 $\n",
        "\n",
        "***Case 2:*** $ y_1 > 0, y_2 < 0, y_3 > 0 $\n",
        "\n",
        "***Case 3:*** $ y_1 > 0, y_2 < 0, y_3 < 0 $\n",
        "\n",
        "***Case 4:*** $ y_1 > 0, y_2 > 0, y_3 < 0 $\n",
        "\n",
        "***Case 5:*** $ y_1 < 0, y_2 > 0, y_3 < 0 $\n",
        "\n",
        "***Case 6:*** $ y_1 < 0, y_2 > 0, y_3 > 0 $\n"
      ]
    },
    {
      "cell_type": "markdown",
      "metadata": {
        "id": "zhqIYBBofvDV"
      },
      "source": [
        "### d) Let c be the answer for c.  In each of these c cases, the composition of the layers $B \\cdot Ramp[ A \\cdot \\vec{x}]$ is a linear transformation.  Write down the equations $z_1 = a_{11} * x_1 +  a_{12} * x_2 \\\\  z_2 = a_{21} * x_1+  a_{22} * x_2$  by finding the coefficients $a_{ij}$ in each of those cases."
      ]
    },
    {
      "cell_type": "markdown",
      "metadata": {
        "id": "B6tIVtL5hs2F"
      },
      "source": [
        "***Case 1:***\n",
        "\n",
        "$\n",
        "B \\cdot \\begin{pmatrix} 0 \\\\ 0 \\\\ y_3 \\end{pmatrix} = \\begin{pmatrix} 4y_3 \\\\ 5y_3 \\end{pmatrix}\n",
        "$\n",
        "\n",
        "Hence,\n",
        "\n",
        "$z_1 = 4 * [y_3] = 4 * [6*x_1 + 4*x_2] = \\boldsymbol{24x_1 + 16x_2 = z_1} \\\\  \n",
        "z_2 = 5 * [y_3] = 5 * [6*x_1 + 4*x_2] = \\boldsymbol{30x_1 + 20x_2 = z_2}$\n",
        "\n",
        "\n",
        "***Case 2:***\n",
        "\n",
        "$\n",
        "B \\cdot \\begin{pmatrix} y_1 \\\\ 0 \\\\ y_3 \\end{pmatrix} = \\begin{pmatrix} y_1 + 4y_3 \\\\ -4y_1 + 5y_3 \\end{pmatrix}\n",
        "$\n",
        "\n",
        "Hence,\n",
        "\n",
        "$z_1 = y_1 + 4y_3 = -3x_1 + 3x_2 + 24x_1 + 16x_2 = \\boldsymbol{21x_1 + 19x_2 = z_1} \\\\  \n",
        "z_2 = -4y_1 + 5y_3 = 12x_1 - 12x_2 + 30x_1 + 20x_2 = \\boldsymbol{42x_1 + 8x_2 = z_2}$\n",
        "\n",
        "***Case 3:***\n",
        "\n",
        "$\n",
        "B \\cdot \\begin{pmatrix} y_1 \\\\ 0 \\\\ 0 \\end{pmatrix} = \\begin{pmatrix} y_1 \\\\ -4y_1 \\end{pmatrix}\n",
        "$\n",
        "\n",
        "Hence,\n",
        "\n",
        "$z_1 = \\boldsymbol{-3x_1 + 3x_2 = z_1} \\\\  \n",
        "z_2 = -4 * [-3x_1 + 3x_2]  =  \\boldsymbol{12x_1 - 12x_2 = z_2}$\n",
        "\n",
        "***Case 4:***\n",
        "\n",
        "$\n",
        "B \\cdot \\begin{pmatrix} y_1 \\\\ y_2 \\\\ 0 \\end{pmatrix} = \\begin{pmatrix} y_1 - 5y_2 \\\\ -4y_1 - y_2\\end{pmatrix}\n",
        "$\n",
        "\n",
        "Hence,\n",
        "\n",
        "$z_1 = y_1 - 5y_2 = -3x_1 + 3x_2 - 5 [3x_1 - 8x_2] = \\boldsymbol{18x_1 + 43x_2 = z_1} \\\\  \n",
        "z_2 = -4y_1 - y_2 = 12x_1 - 12x_2 - 3x_1 + 8x_2 = \\boldsymbol{9x_1 - 4x_2 = z_2}$\n",
        "\n",
        "***Case 5:***\n",
        "\n",
        "$\n",
        "B \\cdot \\begin{pmatrix} 0 \\\\ y_2 \\\\ 0 \\end{pmatrix} = \\begin{pmatrix} - 5y_2 \\\\ - y_2\\end{pmatrix}\n",
        "$\n",
        "\n",
        "Hence,\n",
        "\n",
        "$z_1 = - 5y_2 = - 5 [3x_1 - 8x_2] = \\boldsymbol{-15x_1 + 40x_2 = z_1} \\\\  \n",
        "z_2 = - y_2 = - 3x_1 + 8x_2 = \\boldsymbol{-3x_1 + 8x_2 = z_2}$\n",
        "\n",
        "***Case 6:***\n",
        "\n",
        "$\n",
        "B \\cdot \\begin{pmatrix} 0 \\\\ y_2 \\\\ y_3 \\end{pmatrix} = \\begin{pmatrix} - 5y_2 + 4y_3\\\\ - y_2 + 5y_3\\end{pmatrix}\n",
        "$\n",
        "\n",
        "Hence,\n",
        "\n",
        "$z_1 = - 5y_2 + 4y_3 = - 5 [3x_1 - 8x_2] + 4[6x_1 + 4x_2] = \\boldsymbol{9x_1 + 56x_2 = z_1} \\\\  \n",
        "z_2 = - y_2 + 5y_3 = - 3x_1 + 8x_2 + 5[6x_1 + 4x_2] = \\boldsymbol{27x_1 + 28x_2 = z_2}$"
      ]
    },
    {
      "cell_type": "markdown",
      "metadata": {
        "id": "wS7Y6fDTpA4j"
      },
      "source": [
        "### e) In each of those c cases, solve the inequalities $z_1>0$ and $z_2>0$ in terms of $x_1$ and $x_2$.  Those are the conditions that $x_1$ and $x_2$ are mapped to the first quadrant.   In words, why does it depend on which case of the Ramp operation?"
      ]
    },
    {
      "cell_type": "markdown",
      "metadata": {
        "id": "1wJCEARMpQtO"
      },
      "source": [
        "***Case 1:*** $z_1 > 0 \\rightarrow \\frac{-3}{2} x_1 < x_2 \\\\ z_2 > 0 \\rightarrow \\frac{-3}{2} x_1 < x_2$\n",
        "\n",
        "***Case 2:*** $z_1 > 0 \\rightarrow \\frac{-21}{19} x_1 < x_2 \\\\ z_2 > 0 \\rightarrow \\frac{-21}{4} x_1 < x_2$\n",
        "\n",
        "***Case 3:*** $z_1 > 0 \\rightarrow  x_1 < x_2 \\\\ z_2 > 0 \\rightarrow x_1 > x_2$\n",
        "\n",
        "***Case 4:*** $z_1 > 0 \\rightarrow \\frac{18}{43} x_1 < x_2 \\\\ z_2 > 0 \\rightarrow \\frac{9}{4} x_1 > x_2$\n",
        "\n",
        "***Case 5:*** $z_1 > 0 \\rightarrow \\frac{3}{8} x_1 < x_2 \\\\ z_2 > 0 \\rightarrow \\frac{3}{8} x_1 < x_2$\n",
        "\n",
        "***Case 6:*** $z_1 > 0 \\rightarrow \\frac{-9}{56} x_1 < x_2 \\\\ z_2 > 0 \\rightarrow \\frac{-27}{28} x_1 < x_2$"
      ]
    },
    {
      "cell_type": "markdown",
      "metadata": {
        "id": "JJZdjPKZLbn7"
      },
      "source": [
        "## 2) \n",
        "\n",
        "Produce a list X of 1000 random points in the square from {-1,-1} to {1,1}.  Calculate their image after B dot Ramp[ A dot (x1,x2)] and display them as a scatter plot  (Either use ListPlot, or Graphics, or in matlab you can use scatter)."
      ]
    },
    {
      "cell_type": "code",
      "metadata": {
        "colab": {
          "base_uri": "https://localhost:8080/",
          "height": 0
        },
        "id": "tWRH3qL2LYGD",
        "outputId": "1a1c3d58-96d6-4a8b-bf1a-b2352a1ec9fa"
      },
      "source": [
        "import numpy as np\n",
        "X = np.random.uniform(low=-1, high=1, size=(1000,2))\n",
        "X"
      ],
      "execution_count": 3,
      "outputs": [
        {
          "output_type": "execute_result",
          "data": {
            "text/plain": [
              "array([[-0.6797198 , -0.87233234],\n",
              "       [ 0.27503687, -0.14139204],\n",
              "       [-0.47691756,  0.54981191],\n",
              "       ...,\n",
              "       [ 0.90362723,  0.62180443],\n",
              "       [-0.16405016,  0.1646129 ],\n",
              "       [-0.2661679 , -0.61848575]])"
            ]
          },
          "metadata": {
            "tags": []
          },
          "execution_count": 3
        }
      ]
    },
    {
      "cell_type": "code",
      "metadata": {
        "colab": {
          "base_uri": "https://localhost:8080/",
          "height": 0
        },
        "id": "vOv9y7EoMUAe",
        "outputId": "d4d03411-8f73-4294-880b-a86b143a89eb"
      },
      "source": [
        "A = np.array([[-3, 3], [3, -8], [6, 4]])\n",
        "B = np.array([[1,-5,4], [-4,-1,5]])\n",
        "print(A.shape)\n",
        "print(B.shape)"
      ],
      "execution_count": 4,
      "outputs": [
        {
          "output_type": "stream",
          "text": [
            "(3, 2)\n",
            "(2, 3)\n"
          ],
          "name": "stdout"
        }
      ]
    },
    {
      "cell_type": "code",
      "metadata": {
        "id": "UJyBTEjCNXN3"
      },
      "source": [
        "def relu(x):\n",
        "  return np.maximum(0, x)"
      ],
      "execution_count": 5,
      "outputs": []
    },
    {
      "cell_type": "code",
      "metadata": {
        "colab": {
          "base_uri": "https://localhost:8080/",
          "height": 0
        },
        "id": "IdNGmLSZNCn8",
        "outputId": "4e1fef11-2335-47b6-d689-53f502eecb4d"
      },
      "source": [
        "out = []\n",
        "for x in X:\n",
        "  out.append(B.dot(relu(A.dot(x))))\n",
        "\n",
        "out = np.array(out)\n",
        "out.shape"
      ],
      "execution_count": 8,
      "outputs": [
        {
          "output_type": "execute_result",
          "data": {
            "text/plain": [
              "(1000, 2)"
            ]
          },
          "metadata": {
            "tags": []
          },
          "execution_count": 8
        }
      ]
    },
    {
      "cell_type": "code",
      "metadata": {
        "colab": {
          "base_uri": "https://localhost:8080/",
          "height": 279
        },
        "id": "eb-7BwEMNfsL",
        "outputId": "58b78dea-7376-4afe-f65a-d00be003f3f4"
      },
      "source": [
        "import matplotlib.pyplot as plt\n",
        "x_vals = [x[0] for x in out]\n",
        "y_vals = [y[1] for y in out]\n",
        "plt.scatter(x=x_vals, y=y_vals)\n",
        "plt.xlabel('transformered x1')\n",
        "plt.ylabel('transformed x2')\n",
        "plt.show()"
      ],
      "execution_count": 16,
      "outputs": [
        {
          "output_type": "display_data",
          "data": {
            "image/png": "[encoded data removed]",
            "text/plain": [
              "<Figure size 432x288 with 1 Axes>"
            ]
          },
          "metadata": {
            "tags": [],
            "needs_background": "light"
          }
        }
      ]
    }
  ]
}