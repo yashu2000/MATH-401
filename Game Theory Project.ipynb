{
 "cells": [
  {
   "cell_type": "code",
   "execution_count": 1,
   "id": "cognitive-multiple",
   "metadata": {},
   "outputs": [],
   "source": [
    "import numpy as np\n",
    "import pandas as pd\n",
    "import matplotlib.pyplot as plt"
   ]
  },
  {
   "cell_type": "markdown",
   "id": "provincial-martin",
   "metadata": {},
   "source": [
    "# For the game with payoff matrix X (the data is below)  the payoffs are given from the perspective of the row player. (1)"
   ]
  },
  {
   "cell_type": "code",
   "execution_count": 33,
   "id": "previous-perfume",
   "metadata": {},
   "outputs": [
    {
     "name": "stdout",
     "output_type": "stream",
     "text": [
      "(6, 6)\n",
      "[[ 4 -3  1  3  6  2]\n",
      " [ 5  9  3  9 -5  5]\n",
      " [ 3  8  3  5  7 -7]\n",
      " [-9  9  7  3  2  4]\n",
      " [ 9  4  8 -1  1  1]\n",
      " [ 2  4 -2  2  5  9]]\n"
     ]
    }
   ],
   "source": [
    "X = np.array([[4, -3, 1, 3, 6, 2], [5, 9, 3, 9, -5, 5], [3, 8, 3, 5, 7, -7], [-9, 9, 7, 3, 2, 4], [9, 4, 8, -1, 1, 1], [2, 4, -2, 2, 5, 9]])\n",
    "print(X.shape)\n",
    "print(X)"
   ]
  },
  {
   "cell_type": "markdown",
   "id": "twelve-retail",
   "metadata": {},
   "source": [
    "## Check to see if there are any rows or columns that are dominated and can be removed.  Iterate to remove as many as possible. (a)"
   ]
  },
  {
   "cell_type": "markdown",
   "id": "successful-ranking",
   "metadata": {},
   "source": [
    "There does not seem to exist any dominated rows/cols. Every row/col is doing better in at least on entry compared to every other row/col hence, no decision/choice can be removed out right because its payoffs are dominated by other choices."
   ]
  },
  {
   "cell_type": "markdown",
   "id": "distant-portsmouth",
   "metadata": {},
   "source": [
    "## Find the game's expectation.  Does this game favor the row player or the column player? (b)"
   ]
  },
  {
   "cell_type": "code",
   "execution_count": 34,
   "id": "appreciated-midwest",
   "metadata": {},
   "outputs": [
    {
     "name": "stdout",
     "output_type": "stream",
     "text": [
      "[0.11885846 0.04373951 0.01708339 0.04346948 0.06119001 0.04756682]\n"
     ]
    }
   ],
   "source": [
    "solu = np.linalg.solve(X.T, np.ones(6))\n",
    "print(solu)"
   ]
  },
  {
   "cell_type": "code",
   "execution_count": 35,
   "id": "similar-engineer",
   "metadata": {},
   "outputs": [
    {
     "name": "stdout",
     "output_type": "stream",
     "text": [
      "Expectation of the Game is 3.012886069395837\n"
     ]
    }
   ],
   "source": [
    "print('Expectation of the Game is {}'.format(1/np.sum(solu)))"
   ]
  },
  {
   "cell_type": "markdown",
   "id": "virtual-holder",
   "metadata": {},
   "source": [
    "Because the expectation of the Game was **positive**, this game favours the row player."
   ]
  },
  {
   "cell_type": "markdown",
   "id": "reflected-jewel",
   "metadata": {},
   "source": [
    "## Find the probability for options A, B, C, D, E, F which will guarantee the row player's results meet the game's expectation in the long run. (c)"
   ]
  },
  {
   "cell_type": "code",
   "execution_count": 36,
   "id": "blind-delaware",
   "metadata": {},
   "outputs": [
    {
     "name": "stdout",
     "output_type": "stream",
     "text": [
      "Probability for Option A: 0.3581069950546809\n",
      "Probability for Option B: 0.1317821639048858\n",
      "Probability for Option C: 0.051470316318880605\n",
      "Probability for Option D: 0.13096858999573044\n",
      "Probability for Option E: 0.18435853731513885\n",
      "Probability for Option F: 0.14331339741068333\n"
     ]
    }
   ],
   "source": [
    "prob_row_vec = solu/np.sum(solu)\n",
    "options = ['A', 'B', 'C', 'D', 'E', 'F']\n",
    "for i in range(len(options)):\n",
    "    print('Probability for Option {}: {}'.format(options[i], prob_row_vec[i]))"
   ]
  },
  {
   "cell_type": "markdown",
   "id": "sized-editor",
   "metadata": {},
   "source": [
    "## Find the probability for options A, B, C, D, E, F which will guarantee the column player's results meet the game's expectation in the long run. (d) RELOOK"
   ]
  },
  {
   "cell_type": "code",
   "execution_count": 37,
   "id": "egyptian-kinase",
   "metadata": {},
   "outputs": [
    {
     "name": "stdout",
     "output_type": "stream",
     "text": [
      "Probability for Option A: 0.3581069950546809\n",
      "Probability for Option B: 0.1317821639048858\n",
      "Probability for Option C: 0.051470316318880605\n",
      "Probability for Option D: 0.13096858999573044\n",
      "Probability for Option E: 0.18435853731513885\n",
      "Probability for Option F: 0.14331339741068333\n"
     ]
    }
   ],
   "source": [
    "solu1 = np.linalg.solve(X.T, np.ones(6))\n",
    "prob_col_vec = solu1/np.sum(solu1)\n",
    "options = ['A', 'B', 'C', 'D', 'E', 'F']\n",
    "for i in range(len(options)):\n",
    "    print('Probability for Option {}: {}'.format(options[i], prob_col_vec[i]))"
   ]
  },
  {
   "cell_type": "markdown",
   "id": "sweet-runner",
   "metadata": {},
   "source": [
    "# For the game with payoff matrix Y (the data is below)  the payoffs are given from the perspective of the row player. (2)"
   ]
  },
  {
   "cell_type": "code",
   "execution_count": 40,
   "id": "familiar-system",
   "metadata": {},
   "outputs": [
    {
     "name": "stdout",
     "output_type": "stream",
     "text": [
      "(6, 6)\n",
      "[[1 8 8 6 3 8]\n",
      " [5 5 8 9 9 9]\n",
      " [3 3 3 4 8 7]\n",
      " [0 2 3 3 2 5]\n",
      " [7 9 4 4 6 4]\n",
      " [5 0 3 5 7 1]]\n"
     ]
    }
   ],
   "source": [
    "Y = np.array([[1, 8, 8, 6, 3, 8], [5, 5, 8, 9, 9, 9], [3, 3, 3, 4, 8, 7], [0, 2, 3, 3, 2, 5], [7, 9, 4, 4, 6, 4], [5, 0, 3, 5, 7, 1]])\n",
    "print(Y.shape)\n",
    "print(Y)"
   ]
  },
  {
   "cell_type": "markdown",
   "id": "liberal-president",
   "metadata": {},
   "source": [
    "## Check to see if there are any rows or columns that are dominated and can be removed.  Iterate to remove as many as possible. (a)"
   ]
  },
  {
   "cell_type": "markdown",
   "id": "wrapped-balloon",
   "metadata": {},
   "source": [
    "***First Set of Row Deletions:*** The rows that are dominated with Y in its current form.\n",
    "1. Row 3 dominated by Row 2\n",
    "2. Row 4 dominated by Row 2\n",
    "3. Row 6 dominated by Row 2\n"
   ]
  },
  {
   "cell_type": "code",
   "execution_count": 41,
   "id": "cross-category",
   "metadata": {},
   "outputs": [
    {
     "name": "stdout",
     "output_type": "stream",
     "text": [
      "(3, 6)\n",
      "[[1 8 8 6 3 8]\n",
      " [5 5 8 9 9 9]\n",
      " [7 9 4 4 6 4]]\n"
     ]
    }
   ],
   "source": [
    "Y = np.delete(Y, 2, axis=0) # 3rd row deletion as it is dominated by 2nd row\n",
    "Y = np.delete(Y, 2, axis=0) # \"4th\" row deletion (technically indices fall after the first deletion, \n",
    "                            # so 4th row is considered in the new Y after the first deletion as the 3rd row)\n",
    "Y = np.delete(Y, 3, axis=0) # \"6th\" row deletion\n",
    "print(Y.shape)\n",
    "print(Y)"
   ]
  },
  {
   "cell_type": "markdown",
   "id": "colored-literacy",
   "metadata": {},
   "source": [
    "***First Set of Column Deletions:*** The columns that are dominated with the Y **above** are\n",
    "1. Column 2 (dominated by Column 1)\n",
    "2. Column 6 (dominated by Column 3)"
   ]
  },
  {
   "cell_type": "code",
   "execution_count": 42,
   "id": "theoretical-begin",
   "metadata": {},
   "outputs": [
    {
     "name": "stdout",
     "output_type": "stream",
     "text": [
      "(3, 4)\n",
      "[[1 8 6 3]\n",
      " [5 8 9 9]\n",
      " [7 4 4 6]]\n"
     ]
    }
   ],
   "source": [
    "Y = np.delete(Y, 1, axis=1)\n",
    "Y = np.delete(Y, 4, axis=1)\n",
    "print(Y.shape)\n",
    "print(Y)"
   ]
  },
  {
   "cell_type": "markdown",
   "id": "developmental-brisbane",
   "metadata": {},
   "source": [
    "***Second Set of Row Deletions:*** The rows that are dominated with the Y **above** are\n",
    "1. Row 1 (dominated by Row 2)"
   ]
  },
  {
   "cell_type": "code",
   "execution_count": 43,
   "id": "improved-catering",
   "metadata": {},
   "outputs": [
    {
     "name": "stdout",
     "output_type": "stream",
     "text": [
      "(2, 4)\n",
      "[[5 8 9 9]\n",
      " [7 4 4 6]]\n"
     ]
    }
   ],
   "source": [
    "Y = np.delete(Y, 0, axis=0)\n",
    "print(Y.shape)\n",
    "print(Y)"
   ]
  },
  {
   "cell_type": "markdown",
   "id": "deadly-cameroon",
   "metadata": {},
   "source": [
    "***Second Set of Column Deletions:*** The columns that are dominated with the Y **above** are\n",
    "1. Column 3 (dominated by Column 2)\n",
    "2. Column 4 (dominated by Column 2)"
   ]
  },
  {
   "cell_type": "code",
   "execution_count": 44,
   "id": "fatal-breathing",
   "metadata": {},
   "outputs": [
    {
     "name": "stdout",
     "output_type": "stream",
     "text": [
      "(2, 2)\n",
      "[[5 8]\n",
      " [7 4]]\n"
     ]
    }
   ],
   "source": [
    "Y = np.delete(Y, 2, axis=1)\n",
    "Y = np.delete(Y, 2, axis=1)\n",
    "print(Y.shape)\n",
    "print(Y)"
   ]
  },
  {
   "cell_type": "markdown",
   "id": "religious-mixer",
   "metadata": {},
   "source": [
    "The rows in the matrix above correspond to **row 2** and **row 5**\n",
    "\n",
    "The columns in the matrix above correspond to **col 1** and **col 3**"
   ]
  },
  {
   "cell_type": "markdown",
   "id": "joined-employer",
   "metadata": {},
   "source": [
    "## Find the game's expectation.  Does this game favor the row player or the column player? (b)"
   ]
  },
  {
   "cell_type": "code",
   "execution_count": 45,
   "id": "welsh-defendant",
   "metadata": {},
   "outputs": [
    {
     "name": "stdout",
     "output_type": "stream",
     "text": [
      "Expectation of the Game is 5.999999999999999\n"
     ]
    }
   ],
   "source": [
    "solu2b = np.linalg.solve(Y.T, np.ones(2))\n",
    "print('Expectation of the Game is {}'.format(1/np.sum(solu2b)))"
   ]
  },
  {
   "cell_type": "markdown",
   "id": "objective-baker",
   "metadata": {},
   "source": [
    "Because the expectation is greater than 0, this game clearly favours the **row player**"
   ]
  },
  {
   "cell_type": "markdown",
   "id": "southwest-delta",
   "metadata": {},
   "source": [
    "## Find the probability for options A, B, C, D, E, F which will guarantee the row player's results meet the game's expectation in the long run. (c)"
   ]
  },
  {
   "cell_type": "code",
   "execution_count": 46,
   "id": "adaptive-emperor",
   "metadata": {},
   "outputs": [
    {
     "name": "stdout",
     "output_type": "stream",
     "text": [
      "Probability for Option A: 0\n",
      "Probability for Option B: 0.5\n",
      "Probability for Option C: 0\n",
      "Probability for Option D: 0\n",
      "Probability for Option E: 0.49999999999999994\n",
      "Probability for Option F: 0\n"
     ]
    }
   ],
   "source": [
    "prv = solu2b/np.sum(solu2b)\n",
    "results = [(0,'A'), (prv[0], 'B'), (0,'C'), (0,'D'), (prv[1], 'E'), (0,'F')]\n",
    "for val, let in results:\n",
    "    print('Probability for Option {}: {}'.format(let, val))"
   ]
  },
  {
   "cell_type": "markdown",
   "id": "silver-shaft",
   "metadata": {},
   "source": [
    "## Find the probability for options A, B, C, D, E, F which will guarantee the column player's results meet the game's expectation in the long run. (d)"
   ]
  },
  {
   "cell_type": "code",
   "execution_count": 47,
   "id": "cubic-alberta",
   "metadata": {},
   "outputs": [
    {
     "name": "stdout",
     "output_type": "stream",
     "text": [
      "Probability for Option A: 0.6666666666666666\n",
      "Probability for Option B: 0\n",
      "Probability for Option C: 0.3333333333333335\n",
      "Probability for Option D: 0\n",
      "Probability for Option E: 0\n",
      "Probability for Option F: 0\n"
     ]
    }
   ],
   "source": [
    "solu2d = np.linalg.solve(Y, np.ones(2))\n",
    "pcv = solu2d/np.sum(solu2d)\n",
    "results = [(pcv[0],'A'), (0, 'B'), (pcv[1],'C'), (0,'D'), (0, 'E'), (0,'F')]\n",
    "for val, let in results:\n",
    "    print('Probability for Option {}: {}'.format(let, val))"
   ]
  },
  {
   "cell_type": "markdown",
   "id": "grand-gravity",
   "metadata": {},
   "source": [
    "# For the game with payoff matrix Z (the data is below) .  The payoffs are given from the perspective of the row player. (3)"
   ]
  },
  {
   "cell_type": "code",
   "execution_count": 50,
   "id": "massive-treat",
   "metadata": {},
   "outputs": [
    {
     "name": "stdout",
     "output_type": "stream",
     "text": [
      "(3, 3)\n",
      "[[9 8 1]\n",
      " [6 7 7]\n",
      " [8 8 2]]\n"
     ]
    }
   ],
   "source": [
    "Z = np.array([[9, 8, 1], [6, 7, 7], [8, 8, 2]])\n",
    "print(Z.shape)\n",
    "print(Z)"
   ]
  },
  {
   "cell_type": "markdown",
   "id": "baking-planning",
   "metadata": {},
   "source": [
    "## Check to see if there are any rows or columns that are dominated and can be removed.  Iterate to remove as many as possible. (a)"
   ]
  },
  {
   "cell_type": "markdown",
   "id": "floating-order",
   "metadata": {},
   "source": [
    "By looking at the matrix above, no row is dominated by another row, hence we immediately move to column elimination. \n",
    "\n",
    "In column elimination, we can get rid of **col 2** as it is **dominated by col 3**. "
   ]
  },
  {
   "cell_type": "code",
   "execution_count": 51,
   "id": "strange-corruption",
   "metadata": {},
   "outputs": [
    {
     "name": "stdout",
     "output_type": "stream",
     "text": [
      "(3, 2)\n",
      "[[9 1]\n",
      " [6 7]\n",
      " [8 2]]\n"
     ]
    }
   ],
   "source": [
    "Z = np.delete(Z, 1, axis=1)\n",
    "print(Z.shape)\n",
    "print(Z)"
   ]
  },
  {
   "cell_type": "markdown",
   "id": "south-cutting",
   "metadata": {},
   "source": [
    "With this new Z matrix, there are **no row eliminations** that we can conduct because no row dominates another row."
   ]
  },
  {
   "cell_type": "markdown",
   "id": "ideal-wilderness",
   "metadata": {},
   "source": [
    "## Find the game's expectation.  Does this game favor the row player or the column player? (b)"
   ]
  },
  {
   "cell_type": "markdown",
   "id": "applied-perfume",
   "metadata": {},
   "source": [
    "Given the fact that we have boundary cases present here, we need to test 3 sets of cases: when the row player **does not consider option A**, when the row player **does not consider option B**, and finally similarly for **option C**."
   ]
  },
  {
   "cell_type": "code",
   "execution_count": 56,
   "id": "excited-visiting",
   "metadata": {},
   "outputs": [
    {
     "name": "stdout",
     "output_type": "stream",
     "text": [
      "Expectation (without row player considering option A) of the Game is 6.285714285714285\n"
     ]
    }
   ],
   "source": [
    "# w/o option A Expectation\n",
    "optA = Z[1:]\n",
    "soluA = np.linalg.solve(optA.T, np.ones(2))\n",
    "print('Expectation (without row player considering option A) of the Game is {}'.format(1/np.sum(soluA)))"
   ]
  },
  {
   "cell_type": "code",
   "execution_count": 57,
   "id": "afraid-letters",
   "metadata": {},
   "outputs": [
    {
     "name": "stdout",
     "output_type": "stream",
     "text": [
      "Expectation (without row player considering option B) of the Game is 5.000000000000001\n"
     ]
    }
   ],
   "source": [
    "# w/o option B expectation\n",
    "optB = np.array([Z[0], Z[2]])\n",
    "soluB = np.linalg.solve(optB.T, np.ones(2))\n",
    "print('Expectation (without row player considering option B) of the Game is {}'.format(1/np.sum(soluB)))"
   ]
  },
  {
   "cell_type": "code",
   "execution_count": 59,
   "id": "insured-involvement",
   "metadata": {},
   "outputs": [
    {
     "name": "stdout",
     "output_type": "stream",
     "text": [
      "Expectation (without row player considering option C) of the Game is 6.333333333333334\n"
     ]
    }
   ],
   "source": [
    "# w/o option C expectation\n",
    "optC = Z[:2]\n",
    "soluC = np.linalg.solve(optC.T, np.ones(2))\n",
    "print('Expectation (without row player considering option C) of the Game is {}'.format(1/np.sum(soluC)))"
   ]
  },
  {
   "cell_type": "markdown",
   "id": "meaningful-spiritual",
   "metadata": {},
   "source": [
    "In all the above cases, where the row player ignored a certain option in favour of 2 other options, the row player was expected to win. Thereby, because in all cases the row player was expected to win, overall the game favours **the row player**."
   ]
  },
  {
   "cell_type": "markdown",
   "id": "final-husband",
   "metadata": {},
   "source": [
    "## Find the probability for options A, B, C which will guarantee the row player's results meet the game's expectation in the long run. (c)"
   ]
  },
  {
   "cell_type": "markdown",
   "id": "advisory-sheep",
   "metadata": {},
   "source": [
    "Because the row player is choosing a **mixed strategy**, we know that the row player will only consider the set of options that provides them the highest expectation. Since above, the set of options that **omit C** have the highest expected pay out, the row player will then **only choose** between **options A & B**. \n",
    "\n",
    "Thereby, we can consider the probability of option C to be 0."
   ]
  },
  {
   "cell_type": "code",
   "execution_count": 60,
   "id": "sapphire-banking",
   "metadata": {},
   "outputs": [
    {
     "name": "stdout",
     "output_type": "stream",
     "text": [
      "Probability for Option A: 0.11111111111111116\n",
      "Probability for Option B: 0.8888888888888888\n",
      "Probability for Option C: 0\n"
     ]
    }
   ],
   "source": [
    "prv = soluC/np.sum(soluC)\n",
    "print('Probability for Option {}: {}'.format('A', prv[0]))\n",
    "print('Probability for Option {}: {}'.format('B', prv[1]))\n",
    "print('Probability for Option {}: {}'.format('C', 0))"
   ]
  },
  {
   "cell_type": "markdown",
   "id": "electric-chamber",
   "metadata": {},
   "source": [
    "##  Find the probability for options A, B, C which will guarantee the column player's results meet the game's expectation in the long run. (d)\n",
    "\n"
   ]
  },
  {
   "cell_type": "markdown",
   "id": "touched-capacity",
   "metadata": {},
   "source": [
    "Because we know that the row player will **omit option C** from their deliberations, and we know that the column player has a dominant strategy present leading to the middle column being eliminated earlier, we know then that only the ***soluC*** matrix will be used to calculate their long run decisions. "
   ]
  },
  {
   "cell_type": "code",
   "execution_count": 61,
   "id": "mysterious-satisfaction",
   "metadata": {},
   "outputs": [
    {
     "name": "stdout",
     "output_type": "stream",
     "text": [
      "Probability for Option A: 0.6666666666666666\n",
      "Probability for Option B: 0\n",
      "Probability for Option C: 0.3333333333333334\n"
     ]
    }
   ],
   "source": [
    "optC = Z[:2]\n",
    "soluC = np.linalg.solve(optC, np.ones(2))\n",
    "prc = soluC/np.sum(soluC)\n",
    "print('Probability for Option {}: {}'.format('A', prc[0]))\n",
    "print('Probability for Option {}: {}'.format('B', 0))\n",
    "print('Probability for Option {}: {}'.format('C', prc[1]))"
   ]
  },
  {
   "cell_type": "markdown",
   "id": "functioning-operation",
   "metadata": {},
   "source": [
    "# General Comments"
   ]
  },
  {
   "cell_type": "markdown",
   "id": "incident-candle",
   "metadata": {},
   "source": [
    "***Name:*** Yashaswi Sharma\n",
    "\n",
    "***UID:*** 116245821\n",
    "\n",
    "With each section below, I have labelled what question it comes from. For example, the first section is has a \"(1)\" appended to it, signifying that this section is for question 1."
   ]
  }
 ],
 "metadata": {
  "kernelspec": {
   "display_name": "Python 3",
   "language": "python",
   "name": "python3"
  },
  "language_info": {
   "codemirror_mode": {
    "name": "ipython",
    "version": 3
   },
   "file_extension": ".py",
   "mimetype": "text/x-python",
   "name": "python",
   "nbconvert_exporter": "python",
   "pygments_lexer": "ipython3",
   "version": "3.8.6"
  }
 },
 "nbformat": 4,
 "nbformat_minor": 5
}
