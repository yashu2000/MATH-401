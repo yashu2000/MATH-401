{
  "nbformat": 4,
  "nbformat_minor": 0,
  "metadata": {
    "colab": {
      "name": "MATH 401 Random Walks Project.ipynb",
      "provenance": []
    },
    "kernelspec": {
      "name": "python3",
      "display_name": "Python 3"
    },
    "language_info": {
      "name": "python"
    }
  },
  "cells": [
    {
      "cell_type": "code",
      "metadata": {
        "id": "AKvl6Oi2bSag"
      },
      "source": [
        "import numpy as np\n",
        "import matplotlib.pyplot as plt"
      ],
      "execution_count": 2,
      "outputs": []
    },
    {
      "cell_type": "markdown",
      "metadata": {
        "id": "msVRFniUaY20"
      },
      "source": [
        "# **2D**"
      ]
    },
    {
      "cell_type": "markdown",
      "metadata": {
        "id": "rRGvMmRWijUy"
      },
      "source": [
        "## General Point Equations for Rotation and Transformation"
      ]
    },
    {
      "cell_type": "markdown",
      "metadata": {
        "id": "-dFoZfxPipDa"
      },
      "source": [
        "***Rotation Matrix***\n",
        "\n",
        "$R(\\theta) = \\begin{bmatrix} cos(\\theta) & -sin(\\theta) & 0 \\\\ sin(\\theta) & cos(\\theta) & 0 \\\\ 0 & 0 & 1 \\end{bmatrix}$\n",
        "\n",
        "***Transformation Matrix***\n",
        "\n",
        "$T(p1, p2) = \\begin{bmatrix} 1 & 0 & p1 \\\\ 0 & 1 & p2 \\\\ 0 & 0 & 1 \\end{bmatrix}$\n",
        "\n",
        "***Conduct Rotation Around a Point***\n",
        "\n",
        "Let $x_1, x_2$ be our our rotation point coordinates\n",
        "\n",
        "Rotation $\\theta$ around $x_1,x_2$ = $T(x_1,x_2) \\cdot R(\\theta) \\cdot T(-x_1,-x_2)$\n",
        "\n",
        "You go about and dot every point in our set to the above matrix produced to produce the rotation about point $x_1, x_2$"
      ]
    },
    {
      "cell_type": "markdown",
      "metadata": {
        "id": "PlEqAT3hacdk"
      },
      "source": [
        "## **1)**\n",
        "\n",
        "Start with these four points S = {{1.14412, -0.371748}, {0.511667, -0.371748}, {0.707107, -0.973249}, {1.33956, -0.973249}}\n",
        "\n",
        "Make a picture.   "
      ]
    },
    {
      "cell_type": "code",
      "metadata": {
        "colab": {
          "base_uri": "https://localhost:8080/",
          "height": 0
        },
        "id": "1FttTOfKaUdw",
        "outputId": "6319c84d-1d09-4d1f-b61f-d7b3f342728a"
      },
      "source": [
        "S = np.array([[1.14412, -0.371748], [0.511667, -0.371748], [0.707107, -0.973249], [1.33956, -0.973249]])\n",
        "S.shape"
      ],
      "execution_count": 50,
      "outputs": [
        {
          "output_type": "execute_result",
          "data": {
            "text/plain": [
              "(4, 2)"
            ]
          },
          "metadata": {
            "tags": []
          },
          "execution_count": 50
        }
      ]
    },
    {
      "cell_type": "code",
      "metadata": {
        "colab": {
          "base_uri": "https://localhost:8080/",
          "height": 265
        },
        "id": "nOzQQQp6bQfU",
        "outputId": "e94a5721-2397-4b7a-9e1d-8e5b22302d93"
      },
      "source": [
        "plt.scatter(S[:,0], S[:,1])\n",
        "plt.show()"
      ],
      "execution_count": 4,
      "outputs": [
        {
          "output_type": "display_data",
          "data": {
            "image/png": "[encoded data removed]",
            "text/plain": [
              "<Figure size 432x288 with 1 Axes>"
            ]
          },
          "metadata": {
            "tags": [],
            "needs_background": "light"
          }
        }
      ]
    },
    {
      "cell_type": "markdown",
      "metadata": {
        "id": "Nc7dXTHJfvao"
      },
      "source": [
        "## **2)**\n",
        "\n",
        "Rotate the points in S by five multiples of 2Pi/5 around the last point in S\n",
        "\n",
        "$\\theta = $ **0, 2Pi/5, 4Pi/5, 6Pi/5, and 8Pi/5**\n",
        "\n",
        "Make separate pictures of these points."
      ]
    },
    {
      "cell_type": "code",
      "metadata": {
        "colab": {
          "base_uri": "https://localhost:8080/",
          "height": 0
        },
        "id": "fRCThSn6f65D",
        "outputId": "5165039c-cae7-463b-ba44-b410a2df89c2"
      },
      "source": [
        "last_point = S[-1].copy()\n",
        "last_point"
      ],
      "execution_count": 10,
      "outputs": [
        {
          "output_type": "execute_result",
          "data": {
            "text/plain": [
              "array([ 1.33956 , -0.973249])"
            ]
          },
          "metadata": {
            "tags": []
          },
          "execution_count": 10
        }
      ]
    },
    {
      "cell_type": "markdown",
      "metadata": {
        "id": "EQxFHc4Qm_Vk"
      },
      "source": [
        "Because we will be using the **same transformation matrix** throughout, we will declare those matrices here."
      ]
    },
    {
      "cell_type": "code",
      "metadata": {
        "colab": {
          "base_uri": "https://localhost:8080/",
          "height": 0
        },
        "id": "MD1qyW-vnETQ",
        "outputId": "93307cc0-2464-4c74-a314-751da7cb2499"
      },
      "source": [
        "Tpos = np.array([[1,0,last_point[0]], [0,1,last_point[1]], [0,0,1]])\n",
        "Tneg = np.array([[1,0,-last_point[0]], [0,1,-last_point[1]], [0,0,1]])\n",
        "print(Tpos)\n",
        "print('--------------------')\n",
        "print(Tneg)"
      ],
      "execution_count": 19,
      "outputs": [
        {
          "output_type": "stream",
          "text": [
            "[[ 1.        0.        1.33956 ]\n",
            " [ 0.        1.       -0.973249]\n",
            " [ 0.        0.        1.      ]]\n",
            "--------------------\n",
            "[[ 1.        0.       -1.33956 ]\n",
            " [ 0.        1.        0.973249]\n",
            " [ 0.        0.        1.      ]]\n"
          ],
          "name": "stdout"
        }
      ]
    },
    {
      "cell_type": "markdown",
      "metadata": {
        "id": "-fu2ymongKK0"
      },
      "source": [
        "### First Rotation: $\\theta = 0$"
      ]
    },
    {
      "cell_type": "code",
      "metadata": {
        "colab": {
          "base_uri": "https://localhost:8080/",
          "height": 0
        },
        "id": "YiPagHM0gJX4",
        "outputId": "894a767b-bc12-4660-a019-42345d42c9bf"
      },
      "source": [
        "R = np.array([[np.cos(0), 0, 0], [np.sin(0), np.cos(0), 0], [0,0,1]])\n",
        "print(R)"
      ],
      "execution_count": 18,
      "outputs": [
        {
          "output_type": "stream",
          "text": [
            "[[1. 0. 0.]\n",
            " [0. 1. 0.]\n",
            " [0. 0. 1.]]\n"
          ],
          "name": "stdout"
        }
      ]
    },
    {
      "cell_type": "code",
      "metadata": {
        "colab": {
          "base_uri": "https://localhost:8080/",
          "height": 0
        },
        "id": "5Bb7bgpMlCJs",
        "outputId": "8104e42d-7de0-4289-e5b0-ceb6703cffd5"
      },
      "source": [
        "Total_Trans = Tneg.dot(R.dot(Tpos))\n",
        "print(Total_Trans)"
      ],
      "execution_count": 20,
      "outputs": [
        {
          "output_type": "stream",
          "text": [
            "[[1. 0. 0.]\n",
            " [0. 1. 0.]\n",
            " [0. 0. 1.]]\n"
          ],
          "name": "stdout"
        }
      ]
    },
    {
      "cell_type": "code",
      "metadata": {
        "colab": {
          "base_uri": "https://localhost:8080/",
          "height": 265
        },
        "id": "xyhM_IeZlm9N",
        "outputId": "190a6df4-ab45-4dfa-9fcd-0c8fdcf57afc"
      },
      "source": [
        "for pt in S:\n",
        "  adj = np.append(pt, 1)\n",
        "  adj = Total_Trans.dot(adj)\n",
        "  plt.scatter(adj[0], adj[1])\n",
        "plt.show()"
      ],
      "execution_count": 21,
      "outputs": [
        {
          "output_type": "display_data",
          "data": {
            "image/png": "[encoded data removed]",
            "text/plain": [
              "<Figure size 432x288 with 1 Axes>"
            ]
          },
          "metadata": {
            "tags": [],
            "needs_background": "light"
          }
        }
      ]
    },
    {
      "cell_type": "markdown",
      "metadata": {
        "id": "PAEaWfPqmBd8"
      },
      "source": [
        "**NOTE:** Effectively, we do not see a change in our points because we had a rotation matrix that was the identity matrix hence, when we \n",
        "\n",
        "* adjusted our origin to the last point in S \n",
        "* then rotated \n",
        "* then adjusted back to original origin \n",
        "\n",
        "we don't see a change in our points since the points never changed during the rotation step.\n",
        "\n",
        "This is observed further in our net transition matrix printed above called ***Total_Trans*** which is equal to 0.\n",
        "\n",
        "**NOTE:** I broke this apart into 3 cells to show output for this one. Moving forward it will all occur in one cell per rotation"
      ]
    },
    {
      "cell_type": "markdown",
      "metadata": {
        "id": "pyRaBKUYmn2a"
      },
      "source": [
        "### Second Rotation: $\\theta = 2\\pi/5$"
      ]
    },
    {
      "cell_type": "code",
      "metadata": {
        "colab": {
          "base_uri": "https://localhost:8080/",
          "height": 265
        },
        "id": "l9cqcJgqmz6n",
        "outputId": "6fe8111b-0532-43bf-d676-0eea8ab7cf12"
      },
      "source": [
        "R = np.array([[np.cos(2*np.pi/5), -np.sin(2*np.pi/5), 0], [np.sin(2*np.pi), np.cos(2*np.pi/5), 0], [0,0,1]])\n",
        "Total_Trans = Tneg.dot(R.dot(Tpos))\n",
        "for pt in S:\n",
        "  adj = np.append(pt, 1)\n",
        "  adj = Total_Trans.dot(adj)\n",
        "  plt.scatter(adj[0], adj[1])\n",
        "plt.show()"
      ],
      "execution_count": 35,
      "outputs": [
        {
          "output_type": "display_data",
          "data": {
            "image/png": "[encoded data removed]",
            "text/plain": [
              "<Figure size 432x288 with 1 Axes>"
            ]
          },
          "metadata": {
            "tags": [],
            "needs_background": "light"
          }
        }
      ]
    },
    {
      "cell_type": "markdown",
      "metadata": {
        "id": "0xNRAIXCn95x"
      },
      "source": [
        "### Third Rotation: $\\theta = 4\\pi/5$"
      ]
    },
    {
      "cell_type": "code",
      "metadata": {
        "colab": {
          "base_uri": "https://localhost:8080/",
          "height": 265
        },
        "id": "9diUXyHToEXM",
        "outputId": "7a7bf121-2f4d-4784-ae5e-fc5a41282d24"
      },
      "source": [
        "R = np.array([[np.cos(4*np.pi/5), -np.sin(4*np.pi/5), 0], [np.sin(4*np.pi), np.cos(4*np.pi/5), 0], [0,0,1]])\n",
        "Total_Trans = Tneg.dot(R.dot(Tpos))\n",
        "for pt in S:\n",
        "  adj = np.append(pt, 1)\n",
        "  adj = Total_Trans.dot(adj)\n",
        "  plt.scatter(adj[0], adj[1])\n",
        "plt.show()"
      ],
      "execution_count": 36,
      "outputs": [
        {
          "output_type": "display_data",
          "data": {
            "image/png": "[encoded data removed]",
            "text/plain": [
              "<Figure size 432x288 with 1 Axes>"
            ]
          },
          "metadata": {
            "tags": [],
            "needs_background": "light"
          }
        }
      ]
    },
    {
      "cell_type": "markdown",
      "metadata": {
        "id": "dLzDX8H6onqD"
      },
      "source": [
        "### Fourth Rotation: $\\theta = 6\\pi/5$"
      ]
    },
    {
      "cell_type": "code",
      "metadata": {
        "colab": {
          "base_uri": "https://localhost:8080/",
          "height": 265
        },
        "id": "VitRvpijos8j",
        "outputId": "dd8e7ea7-ab51-4696-a1d3-c4dcc6f030fe"
      },
      "source": [
        "R = np.array([[np.cos(6*np.pi/5), -np.sin(6*np.pi/5), 0], [np.sin(6*np.pi), np.cos(6*np.pi/5), 0], [0,0,1]])\n",
        "Total_Trans = Tneg.dot(R.dot(Tpos))\n",
        "for pt in S:\n",
        "  adj = np.append(pt, 1)\n",
        "  adj = Total_Trans.dot(adj)\n",
        "  plt.scatter(adj[0], adj[1])\n",
        "plt.show()"
      ],
      "execution_count": 37,
      "outputs": [
        {
          "output_type": "display_data",
          "data": {
            "image/png": "[encoded data removed]",
            "text/plain": [
              "<Figure size 432x288 with 1 Axes>"
            ]
          },
          "metadata": {
            "tags": [],
            "needs_background": "light"
          }
        }
      ]
    },
    {
      "cell_type": "markdown",
      "metadata": {
        "id": "hHrpoR-No1B-"
      },
      "source": [
        "### Fifth Rotation: $\\theta = 8\\pi/5$"
      ]
    },
    {
      "cell_type": "code",
      "metadata": {
        "colab": {
          "base_uri": "https://localhost:8080/",
          "height": 265
        },
        "id": "1wbs8UKCozr5",
        "outputId": "d4985294-032e-495e-9026-e90da219050f"
      },
      "source": [
        "R = np.array([[np.cos(8*np.pi/5), -np.sin(8*np.pi/5), 0], [np.sin(8*np.pi), np.cos(8*np.pi/5), 0], [0,0,1]])\n",
        "Total_Trans = Tneg.dot(R.dot(Tpos))\n",
        "for pt in S:\n",
        "  adj = np.append(pt, 1)\n",
        "  adj = Total_Trans.dot(adj)\n",
        "  plt.scatter(adj[0], adj[1])\n",
        "plt.show()"
      ],
      "execution_count": 38,
      "outputs": [
        {
          "output_type": "display_data",
          "data": {
            "image/png": "[encoded data removed]",
            "text/plain": [
              "<Figure size 432x288 with 1 Axes>"
            ]
          },
          "metadata": {
            "tags": [],
            "needs_background": "light"
          }
        }
      ]
    },
    {
      "cell_type": "markdown",
      "metadata": {
        "id": "PA5DgovZptcm"
      },
      "source": [
        "## **3)**\n",
        "\n",
        "Translate the points in S by these offsets, using a single matrix multiplication for each point in S.\n",
        "\n",
        "offsets = {{-2.995, 0.973}, {-1.851, -0.6015}, {-1.851, 2.548}, {0, 0}, {0, 1.9465}}\n",
        "\n",
        "Make a picture of the resulting points."
      ]
    },
    {
      "cell_type": "markdown",
      "metadata": {
        "id": "ybJDA3vYtASl"
      },
      "source": [
        "### offset = {-2.995, 0.973}"
      ]
    },
    {
      "cell_type": "code",
      "metadata": {
        "colab": {
          "base_uri": "https://localhost:8080/",
          "height": 0
        },
        "id": "MpQhkbPjqEx_",
        "outputId": "6d45d48b-cad1-478c-bb18-c783fc6d3d2f"
      },
      "source": [
        "Tpos = np.array([[1,0,-2.995], [0,1,0.973], [0,0,1]])\n",
        "M = np.empty((S.shape[0], S.shape[1] + 1))\n",
        "M[:,0] = S[:,0]\n",
        "M[:,1] = S[:,1]\n",
        "M[:,2] = 1\n",
        "print(M)"
      ],
      "execution_count": 51,
      "outputs": [
        {
          "output_type": "stream",
          "text": [
            "[[ 1.14412  -0.371748  1.      ]\n",
            " [ 0.511667 -0.371748  1.      ]\n",
            " [ 0.707107 -0.973249  1.      ]\n",
            " [ 1.33956  -0.973249  1.      ]]\n"
          ],
          "name": "stdout"
        }
      ]
    },
    {
      "cell_type": "code",
      "metadata": {
        "colab": {
          "base_uri": "https://localhost:8080/",
          "height": 0
        },
        "id": "7NaR2M3Itd0D",
        "outputId": "03e1f88f-a5fb-4cca-cf8d-e9cc979663a6"
      },
      "source": [
        "AdjPts = Tpos.dot(M.T)\n",
        "AdjPts"
      ],
      "execution_count": 55,
      "outputs": [
        {
          "output_type": "execute_result",
          "data": {
            "text/plain": [
              "array([[-1.850880e+00, -2.483333e+00, -2.287893e+00, -1.655440e+00],\n",
              "       [ 6.012520e-01,  6.012520e-01, -2.490000e-04, -2.490000e-04],\n",
              "       [ 1.000000e+00,  1.000000e+00,  1.000000e+00,  1.000000e+00]])"
            ]
          },
          "metadata": {
            "tags": []
          },
          "execution_count": 55
        }
      ]
    },
    {
      "cell_type": "code",
      "metadata": {
        "colab": {
          "base_uri": "https://localhost:8080/",
          "height": 265
        },
        "id": "VBMltHVXv4Ct",
        "outputId": "e04d7c74-35cf-418a-bdf8-8b0cd742e32d"
      },
      "source": [
        "plt.scatter(AdjPts[0], AdjPts[1])\n",
        "plt.show()"
      ],
      "execution_count": 56,
      "outputs": [
        {
          "output_type": "display_data",
          "data": {
            "image/png": "[encoded data removed]",
            "text/plain": [
              "<Figure size 432x288 with 1 Axes>"
            ]
          },
          "metadata": {
            "tags": [],
            "needs_background": "light"
          }
        }
      ]
    },
    {
      "cell_type": "markdown",
      "metadata": {
        "id": "9ZleNH3LwTja"
      },
      "source": [
        "***NOTE:*** CHANGE IN AXIS IN THE ABOVE IMAGE. These points look the same as in the original set of points **S**, which makes sense since we performed a linear transformation, however, these points have transformed as we observe the adjusted x & y axis."
      ]
    },
    {
      "cell_type": "markdown",
      "metadata": {
        "id": "WDT1EU8cwxWt"
      },
      "source": [
        "***NOTE:*** I showed the break down to achieve our full transition matrix and the offsetted points above in cell-by-cell. Going forward I will put all into just one cell."
      ]
    },
    {
      "cell_type": "markdown",
      "metadata": {
        "id": "yeXBdABzwtXT"
      },
      "source": [
        "### offset = {-1.851, -0.6015}"
      ]
    },
    {
      "cell_type": "code",
      "metadata": {
        "colab": {
          "base_uri": "https://localhost:8080/",
          "height": 265
        },
        "id": "KZ4s4kzxw7j5",
        "outputId": "462d901c-32e7-4a19-cdb9-1af927169550"
      },
      "source": [
        "Tpos = np.array([[1,0,-1.851], [0,1,-0.6015], [0,0,1]])\n",
        "M = np.empty((S.shape[0], S.shape[1] + 1))\n",
        "M[:,0] = S[:,0]\n",
        "M[:,1] = S[:,1]\n",
        "M[:,2] = 1\n",
        "AdjPts = Tpos.dot(M.T)\n",
        "plt.scatter(AdjPts[0], AdjPts[1])\n",
        "plt.show()"
      ],
      "execution_count": 57,
      "outputs": [
        {
          "output_type": "display_data",
          "data": {
            "image/png": "[encoded data removed]",
            "text/plain": [
              "<Figure size 432x288 with 1 Axes>"
            ]
          },
          "metadata": {
            "tags": [],
            "needs_background": "light"
          }
        }
      ]
    },
    {
      "cell_type": "markdown",
      "metadata": {
        "id": "FvICTBuaxKfk"
      },
      "source": [
        "### offset = {-1.851, 2.548}"
      ]
    },
    {
      "cell_type": "code",
      "metadata": {
        "colab": {
          "base_uri": "https://localhost:8080/",
          "height": 267
        },
        "id": "Y410UxzLxPAF",
        "outputId": "3dad0329-e7c9-479e-df22-4e7620b3d68f"
      },
      "source": [
        "Tpos = np.array([[1,0,-1.851], [0,1,2.548], [0,0,1]])\n",
        "M = np.empty((S.shape[0], S.shape[1] + 1))\n",
        "M[:,0] = S[:,0]\n",
        "M[:,1] = S[:,1]\n",
        "M[:,2] = 1\n",
        "AdjPts = Tpos.dot(M.T)\n",
        "plt.scatter(AdjPts[0], AdjPts[1])\n",
        "plt.show()"
      ],
      "execution_count": 58,
      "outputs": [
        {
          "output_type": "display_data",
          "data": {
            "image/png": "[encoded data removed]",
            "text/plain": [
              "<Figure size 432x288 with 1 Axes>"
            ]
          },
          "metadata": {
            "tags": [],
            "needs_background": "light"
          }
        }
      ]
    },
    {
      "cell_type": "markdown",
      "metadata": {
        "id": "ixBdsgynxps0"
      },
      "source": [
        "### offset = {0, 0}"
      ]
    },
    {
      "cell_type": "code",
      "metadata": {
        "colab": {
          "base_uri": "https://localhost:8080/",
          "height": 265
        },
        "id": "zZzu-tyTxw_E",
        "outputId": "0ea32ea9-f1dc-4736-b9d1-943b3146b615"
      },
      "source": [
        "Tpos = np.array([[1,0,0], [0,1,0], [0,0,1]])\n",
        "M = np.empty((S.shape[0], S.shape[1] + 1))\n",
        "M[:,0] = S[:,0]\n",
        "M[:,1] = S[:,1]\n",
        "M[:,2] = 1\n",
        "AdjPts = Tpos.dot(M.T)\n",
        "plt.scatter(AdjPts[0], AdjPts[1])\n",
        "plt.show()"
      ],
      "execution_count": 59,
      "outputs": [
        {
          "output_type": "display_data",
          "data": {
            "image/png": "[encoded data removed]",
            "text/plain": [
              "<Figure size 432x288 with 1 Axes>"
            ]
          },
          "metadata": {
            "tags": [],
            "needs_background": "light"
          }
        }
      ]
    },
    {
      "cell_type": "markdown",
      "metadata": {
        "id": "uu1Gepfax3C4"
      },
      "source": [
        "Same as original graph because we didn't offset away from origin :)"
      ]
    },
    {
      "cell_type": "markdown",
      "metadata": {
        "id": "ZK1zrFRfx8lx"
      },
      "source": [
        "### offset = {0, 1.9465}"
      ]
    },
    {
      "cell_type": "code",
      "metadata": {
        "colab": {
          "base_uri": "https://localhost:8080/",
          "height": 268
        },
        "id": "XJbd1FdzyD2O",
        "outputId": "7285eb54-92d5-442f-c4a2-6fe652c04bdc"
      },
      "source": [
        "Tpos = np.array([[1,0,0], [0,1,1.9465], [0,0,1]])\n",
        "M = np.empty((S.shape[0], S.shape[1] + 1))\n",
        "M[:,0] = S[:,0]\n",
        "M[:,1] = S[:,1]\n",
        "M[:,2] = 1\n",
        "AdjPts = Tpos.dot(M.T)\n",
        "plt.scatter(AdjPts[0], AdjPts[1])\n",
        "plt.show()"
      ],
      "execution_count": 60,
      "outputs": [
        {
          "output_type": "display_data",
          "data": {
            "image/png": "[encoded data removed]",
            "text/plain": [
              "<Figure size 432x288 with 1 Axes>"
            ]
          },
          "metadata": {
            "tags": [],
            "needs_background": "light"
          }
        }
      ]
    },
    {
      "cell_type": "markdown",
      "metadata": {
        "id": "fdZ6xZQAyM8X"
      },
      "source": [
        "## **4)**\n",
        "\n",
        "Rotate the points in (3) by five multiples of 2Pi/5 around the last point in S\n",
        "\n",
        "Make a picture of these points altogether.  What do you observe?  Do you think this pattern can be extended?"
      ]
    },
    {
      "cell_type": "code",
      "metadata": {
        "colab": {
          "base_uri": "https://localhost:8080/",
          "height": 0
        },
        "id": "1pfmG9V31PSk",
        "outputId": "a52bad9f-077a-4c72-cac5-bbc369389b7d"
      },
      "source": [
        "Tpos1 = np.array([[1,0,-2.995], [0,1,0.973], [0,0,1]])\n",
        "Tpos2 = np.array([[1,0,-1.851], [0,1,-0.6015], [0,0,1]])\n",
        "Tpos3 = np.array([[1,0,-1.851], [0,1,2.548], [0,0,1]])\n",
        "# will not do translation by 0,0 because points were not actually effected, will just record the rotations from earlier\n",
        "Tpos5 = np.array([[1,0,0], [0,1,1.9465], [0,0,1]])\n",
        "M = np.empty((S.shape[0], S.shape[1] + 1))\n",
        "M[:,0] = S[:,0]\n",
        "M[:,1] = S[:,1]\n",
        "M[:,2] = 1\n",
        "AdjPts1 = Tpos1.dot(M.T)\n",
        "AdjPts2 = Tpos2.dot(M.T)\n",
        "AdjPts3 = Tpos3.dot(M.T)\n",
        "AdjPts4 = M.T.copy()\n",
        "AdjPts5 = Tpos5.dot(M.T)\n",
        "print(AdjPts1)\n",
        "print('---------------------')\n",
        "print(AdjPts2)\n",
        "print('---------------------')\n",
        "print(AdjPts3)\n",
        "print('---------------------')\n",
        "print(AdjPts4)\n",
        "print('---------------------')\n",
        "print(AdjPts5)"
      ],
      "execution_count": 69,
      "outputs": [
        {
          "output_type": "stream",
          "text": [
            "[[-1.850880e+00 -2.483333e+00 -2.287893e+00 -1.655440e+00]\n",
            " [ 6.012520e-01  6.012520e-01 -2.490000e-04 -2.490000e-04]\n",
            " [ 1.000000e+00  1.000000e+00  1.000000e+00  1.000000e+00]]\n",
            "---------------------\n",
            "[[-0.70688  -1.339333 -1.143893 -0.51144 ]\n",
            " [-0.973248 -0.973248 -1.574749 -1.574749]\n",
            " [ 1.        1.        1.        1.      ]]\n",
            "---------------------\n",
            "[[-0.70688  -1.339333 -1.143893 -0.51144 ]\n",
            " [ 2.176252  2.176252  1.574751  1.574751]\n",
            " [ 1.        1.        1.        1.      ]]\n",
            "---------------------\n",
            "[[ 1.14412   0.511667  0.707107  1.33956 ]\n",
            " [-0.371748 -0.371748 -0.973249 -0.973249]\n",
            " [ 1.        1.        1.        1.      ]]\n",
            "---------------------\n",
            "[[1.14412  0.511667 0.707107 1.33956 ]\n",
            " [1.574752 1.574752 0.973251 0.973251]\n",
            " [1.       1.       1.       1.      ]]\n"
          ],
          "name": "stdout"
        }
      ]
    },
    {
      "cell_type": "code",
      "metadata": {
        "colab": {
          "base_uri": "https://localhost:8080/",
          "height": 483
        },
        "id": "guUMdLGD4rRd",
        "outputId": "06b6b67f-af50-4a70-feb3-1f3cdba8bf1a"
      },
      "source": [
        "AdjPs = [AdjPts1, AdjPts2, AdjPts3, AdjPts4, AdjPts5]\n",
        "R0 = np.array([[1, 0, 0], [0, 1, 0], [0,0,1]])\n",
        "R2 = np.array([[np.cos(2*np.pi/5), -np.sin(2*np.pi/5), 0], [np.sin(2*np.pi), np.cos(2*np.pi/5), 0], [0,0,1]])\n",
        "R4 = np.array([[np.cos(4*np.pi/5), -np.sin(4*np.pi/5), 0], [np.sin(4*np.pi), np.cos(4*np.pi/5), 0], [0,0,1]])\n",
        "R6 = np.array([[np.cos(6*np.pi/5), -np.sin(6*np.pi/5), 0], [np.sin(6*np.pi), np.cos(6*np.pi/5), 0], [0,0,1]])\n",
        "R8 = np.array([[np.cos(8*np.pi/5), -np.sin(8*np.pi/5), 0], [np.sin(8*np.pi), np.cos(8*np.pi/5), 0], [0,0,1]])\n",
        "\n",
        "Rs = [R0, R2,R4,R6,R8]\n",
        "\n",
        "last_point = S[-1].copy()\n",
        "Tpos = np.array([[1,0,last_point[0]], [0,1,last_point[1]], [0,0,1]])\n",
        "Tneg = np.array([[1,0,-last_point[0]], [0,1,-last_point[1]], [0,0,1]])\n",
        "\n",
        "plt.figure(figsize=(8,8))\n",
        "xpts = []\n",
        "ypts = []\n",
        "count = 1\n",
        "for adj in AdjPs:\n",
        "  for r in Rs:\n",
        "    tot = Tneg.dot(r.dot(Tpos))\n",
        "    out = tot.T.dot(adj)\n",
        "    xpts.extend(out[0])\n",
        "    ypts.extend(out[1])\n",
        "  labeler = 'Set {}'.format(count)\n",
        "  plt.scatter(xpts, ypts, label=labeler)\n",
        "  xpts = []\n",
        "  ypts = []\n",
        "  count += 1\n",
        "plt.legend(bbox_to_anchor=(1.05, 1))\n",
        "plt.show()"
      ],
      "execution_count": 110,
      "outputs": [
        {
          "output_type": "display_data",
          "data": {
            "image/png": "[encoded data removed]",
            "text/plain": [
              "<Figure size 576x576 with 1 Axes>"
            ]
          },
          "metadata": {
            "tags": [],
            "needs_background": "light"
          }
        }
      ]
    },
    {
      "cell_type": "markdown",
      "metadata": {
        "id": "JcKDtC4t_uon"
      },
      "source": [
        "***ANALYSIS:*** This looks sort of like a flower. I think this can be further extended."
      ]
    },
    {
      "cell_type": "markdown",
      "metadata": {
        "id": "LSFnFzFt_zxV"
      },
      "source": [
        "# **3D**"
      ]
    },
    {
      "cell_type": "markdown",
      "metadata": {
        "id": "0DmSn9GP_2_i"
      },
      "source": [
        "## **5)**\n",
        "\n",
        "Make a matrix for all integer 3D coordinates where the entries range from -3 to 3 and call it M"
      ]
    },
    {
      "cell_type": "code",
      "metadata": {
        "colab": {
          "base_uri": "https://localhost:8080/",
          "height": 0
        },
        "id": "en4_iPgOBnUv",
        "outputId": "814f3a0a-edba-4dd1-81d6-12b41653e3a8"
      },
      "source": [
        "M = []\n",
        "for i in range(-3,4,1):\n",
        "  for j in range(-3,4,1):\n",
        "    for k in range(-3,4,1):\n",
        "      M.append([i,j,k,1])\n",
        "M = np.array(M)\n",
        "M"
      ],
      "execution_count": 128,
      "outputs": [
        {
          "output_type": "execute_result",
          "data": {
            "text/plain": [
              "array([[-3, -3, -3,  1],\n",
              "       [-3, -3, -2,  1],\n",
              "       [-3, -3, -1,  1],\n",
              "       ...,\n",
              "       [ 3,  3,  1,  1],\n",
              "       [ 3,  3,  2,  1],\n",
              "       [ 3,  3,  3,  1]])"
            ]
          },
          "metadata": {
            "tags": []
          },
          "execution_count": 128
        }
      ]
    },
    {
      "cell_type": "markdown",
      "metadata": {
        "id": "6hIb8UZvG3cX"
      },
      "source": [
        "## **6)**\n",
        "\n",
        "For these three vectors T = {{-1, -1, 0}, {1, -1, 0}, {0, 1, -1}} calculate all integer combinations with coefficients from -3 to 3 using M from (5) and a single matrix multiplication."
      ]
    },
    {
      "cell_type": "code",
      "metadata": {
        "colab": {
          "base_uri": "https://localhost:8080/",
          "height": 0
        },
        "id": "rlzyB74vGhxw",
        "outputId": "6d4f1006-e85f-4501-f31f-15979ad936aa"
      },
      "source": [
        "T = np.array([[-1, -1, 0,1], [1, -1, 0,1], [0, 1, -1,1]])\n",
        "T"
      ],
      "execution_count": 129,
      "outputs": [
        {
          "output_type": "execute_result",
          "data": {
            "text/plain": [
              "array([[-1, -1,  0,  1],\n",
              "       [ 1, -1,  0,  1],\n",
              "       [ 0,  1, -1,  1]])"
            ]
          },
          "metadata": {
            "tags": []
          },
          "execution_count": 129
        }
      ]
    },
    {
      "cell_type": "code",
      "metadata": {
        "colab": {
          "base_uri": "https://localhost:8080/",
          "height": 0
        },
        "id": "yyBqqdVXI4gv",
        "outputId": "16478bd5-2134-44f0-98dd-d4d234cf9cfd"
      },
      "source": [
        "out = M.dot(T.T)\n",
        "out"
      ],
      "execution_count": 130,
      "outputs": [
        {
          "output_type": "execute_result",
          "data": {
            "text/plain": [
              "array([[ 7,  1,  1],\n",
              "       [ 7,  1,  0],\n",
              "       [ 7,  1, -1],\n",
              "       ...,\n",
              "       [-5,  1,  3],\n",
              "       [-5,  1,  2],\n",
              "       [-5,  1,  1]])"
            ]
          },
          "metadata": {
            "tags": []
          },
          "execution_count": 130
        }
      ]
    },
    {
      "cell_type": "markdown",
      "metadata": {
        "id": "wtPtTgi_JlKf"
      },
      "source": [
        "## **7)**\n",
        "\n",
        "Create a 2D graphic of all of these points from (6) using the technique of perspective explained in the textbook.  Use the point of view {3,2,1} centered on {0,0,0}   If you are using software with 3D capabilities, do not use the 3D capabilities, just the 2D rendering."
      ]
    },
    {
      "cell_type": "code",
      "metadata": {
        "colab": {
          "base_uri": "https://localhost:8080/",
          "height": 0
        },
        "id": "n1xOTD8dKa2Y",
        "outputId": "25af824c-a322-4372-a7b1-792d61b8e8bf"
      },
      "source": [
        "P = np.array([[1,0,0,0], [0,1,0,0], [0,0,0,0], [0,0,-np.sqrt(1/14), 1]])\n",
        "M_new = np.empty((out.shape[0], out.shape[1] + 1))\n",
        "for i in range(3):\n",
        "  M_new[:,i] = out[:,i]\n",
        "M_new[:,3] = 1\n",
        "print(P)\n",
        "print('--------------')\n",
        "print(M_new)"
      ],
      "execution_count": 132,
      "outputs": [
        {
          "output_type": "stream",
          "text": [
            "[[ 1.          0.          0.          0.        ]\n",
            " [ 0.          1.          0.          0.        ]\n",
            " [ 0.          0.          0.          0.        ]\n",
            " [ 0.          0.         -0.26726124  1.        ]]\n",
            "--------------\n",
            "[[ 7.  1.  1.  1.]\n",
            " [ 7.  1.  0.  1.]\n",
            " [ 7.  1. -1.  1.]\n",
            " ...\n",
            " [-5.  1.  3.  1.]\n",
            " [-5.  1.  2.  1.]\n",
            " [-5.  1.  1.  1.]]\n"
          ],
          "name": "stdout"
        }
      ]
    },
    {
      "cell_type": "code",
      "metadata": {
        "colab": {
          "base_uri": "https://localhost:8080/",
          "height": 0
        },
        "id": "wovV_ngpMnR8",
        "outputId": "c71229a1-01ba-42c8-ee00-62ec0b075898"
      },
      "source": [
        "sev = P.dot(M_new.T)\n",
        "sev"
      ],
      "execution_count": 138,
      "outputs": [
        {
          "output_type": "execute_result",
          "data": {
            "text/plain": [
              "array([[ 7.        ,  7.        ,  7.        , ..., -5.        ,\n",
              "        -5.        , -5.        ],\n",
              "       [ 1.        ,  1.        ,  1.        , ...,  1.        ,\n",
              "         1.        ,  1.        ],\n",
              "       [ 0.        ,  0.        ,  0.        , ...,  0.        ,\n",
              "         0.        ,  0.        ],\n",
              "       [ 0.73273876,  1.        ,  1.26726124, ...,  0.19821627,\n",
              "         0.46547752,  0.73273876]])"
            ]
          },
          "metadata": {
            "tags": []
          },
          "execution_count": 138
        }
      ]
    },
    {
      "cell_type": "code",
      "metadata": {
        "colab": {
          "base_uri": "https://localhost:8080/",
          "height": 0
        },
        "id": "MKwTqCjjNCNm",
        "outputId": "3a7b508b-eaa6-4252-ff40-7c18650d1149"
      },
      "source": [
        "sevT = sev.T\n",
        "coords = []\n",
        "for vec in sevT:\n",
        "  c1 = vec[0]/vec[3]\n",
        "  c2 = vec[0]/vec[3]\n",
        "  coords.append([c1,c2])\n",
        "coords = np.array(coords)\n",
        "coords"
      ],
      "execution_count": 139,
      "outputs": [
        {
          "output_type": "execute_result",
          "data": {
            "text/plain": [
              "array([[  9.55320013,   9.55320013],\n",
              "       [  7.        ,   7.        ],\n",
              "       [  5.52372295,   5.52372295],\n",
              "       [  4.56167966,   4.56167966],\n",
              "       [  3.88503898,   3.88503898],\n",
              "       [  3.38320341,   3.38320341],\n",
              "       [  2.99618259,   2.99618259],\n",
              "       [ 12.88998886,  12.88998886],\n",
              "       [  8.18845726,   8.18845726],\n",
              "       [  6.        ,   6.        ],\n",
              "       [  4.73461967,   4.73461967],\n",
              "       [  3.91001114,   3.91001114],\n",
              "       [  3.33003341,   3.33003341],\n",
              "       [  2.89988864,   2.89988864],\n",
              "       [ 25.22497216,  25.22497216],\n",
              "       [ 10.74165739,  10.74165739],\n",
              "       [  6.82371438,   6.82371438],\n",
              "       [  5.        ,   5.        ],\n",
              "       [  3.94551639,   3.94551639],\n",
              "       [  3.25834261,   3.25834261],\n",
              "       [  2.77502784,   2.77502784],\n",
              "       [-57.93325909, -57.93325909],\n",
              "       [ 20.17997773,  20.17997773],\n",
              "       [  8.59332591,   8.59332591],\n",
              "       [  5.4589715 ,   5.4589715 ],\n",
              "       [  4.        ,   4.        ],\n",
              "       [  3.15641311,   3.15641311],\n",
              "       [  2.60667409,   2.60667409],\n",
              "       [ -8.92044189,  -8.92044189],\n",
              "       [-43.44994432, -43.44994432],\n",
              "       [ 15.1349833 ,  15.1349833 ],\n",
              "       [  6.44499443,   6.44499443],\n",
              "       [  4.09422863,   4.09422863],\n",
              "       [  3.        ,   3.        ],\n",
              "       [  2.36730983,   2.36730983],\n",
              "       [ -3.3136313 ,  -3.3136313 ],\n",
              "       [ -5.94696126,  -5.94696126],\n",
              "       [-28.96662955, -28.96662955],\n",
              "       [ 10.08998886,  10.08998886],\n",
              "       [  4.29666295,   4.29666295],\n",
              "       [  2.72948575,   2.72948575],\n",
              "       [  2.        ,   2.        ],\n",
              "       [ -1.14833148,  -1.14833148],\n",
              "       [ -1.65681565,  -1.65681565],\n",
              "       [ -2.97348063,  -2.97348063],\n",
              "       [-14.48331477, -14.48331477],\n",
              "       [  5.04499443,   5.04499443],\n",
              "       [  2.14833148,   2.14833148],\n",
              "       [  1.36474288,   1.36474288],\n",
              "       [  8.18845726,   8.18845726],\n",
              "       [  6.        ,   6.        ],\n",
              "       [  4.73461967,   4.73461967],\n",
              "       [  3.91001114,   3.91001114],\n",
              "       [  3.33003341,   3.33003341],\n",
              "       [  2.89988864,   2.89988864],\n",
              "       [  2.56815651,   2.56815651],\n",
              "       [ 10.74165739,  10.74165739],\n",
              "       [  6.82371438,   6.82371438],\n",
              "       [  5.        ,   5.        ],\n",
              "       [  3.94551639,   3.94551639],\n",
              "       [  3.25834261,   3.25834261],\n",
              "       [  2.77502784,   2.77502784],\n",
              "       [  2.41657387,   2.41657387],\n",
              "       [ 20.17997773,  20.17997773],\n",
              "       [  8.59332591,   8.59332591],\n",
              "       [  5.4589715 ,   5.4589715 ],\n",
              "       [  4.        ,   4.        ],\n",
              "       [  3.15641311,   3.15641311],\n",
              "       [  2.60667409,   2.60667409],\n",
              "       [  2.22002227,   2.22002227],\n",
              "       [-43.44994432, -43.44994432],\n",
              "       [ 15.1349833 ,  15.1349833 ],\n",
              "       [  6.44499443,   6.44499443],\n",
              "       [  4.09422863,   4.09422863],\n",
              "       [  3.        ,   3.        ],\n",
              "       [  2.36730983,   2.36730983],\n",
              "       [  1.95500557,   1.95500557],\n",
              "       [ -5.94696126,  -5.94696126],\n",
              "       [-28.96662955, -28.96662955],\n",
              "       [ 10.08998886,  10.08998886],\n",
              "       [  4.29666295,   4.29666295],\n",
              "       [  2.72948575,   2.72948575],\n",
              "       [  2.        ,   2.        ],\n",
              "       [  1.57820656,   1.57820656],\n",
              "       [ -1.65681565,  -1.65681565],\n",
              "       [ -2.97348063,  -2.97348063],\n",
              "       [-14.48331477, -14.48331477],\n",
              "       [  5.04499443,   5.04499443],\n",
              "       [  2.14833148,   2.14833148],\n",
              "       [  1.36474288,   1.36474288],\n",
              "       [  1.        ,   1.        ],\n",
              "       [ -0.        ,  -0.        ],\n",
              "       [ -0.        ,  -0.        ],\n",
              "       [ -0.        ,  -0.        ],\n",
              "       [ -0.        ,  -0.        ],\n",
              "       [  0.        ,   0.        ],\n",
              "       [  0.        ,   0.        ],\n",
              "       [  0.        ,   0.        ],\n",
              "       [  6.82371438,   6.82371438],\n",
              "       [  5.        ,   5.        ],\n",
              "       [  3.94551639,   3.94551639],\n",
              "       [  3.25834261,   3.25834261],\n",
              "       [  2.77502784,   2.77502784],\n",
              "       [  2.41657387,   2.41657387],\n",
              "       [  2.14013042,   2.14013042],\n",
              "       [  8.59332591,   8.59332591],\n",
              "       [  5.4589715 ,   5.4589715 ],\n",
              "       [  4.        ,   4.        ],\n",
              "       [  3.15641311,   3.15641311],\n",
              "       [  2.60667409,   2.60667409],\n",
              "       [  2.22002227,   2.22002227],\n",
              "       [  1.93325909,   1.93325909],\n",
              "       [ 15.1349833 ,  15.1349833 ],\n",
              "       [  6.44499443,   6.44499443],\n",
              "       [  4.09422863,   4.09422863],\n",
              "       [  3.        ,   3.        ],\n",
              "       [  2.36730983,   2.36730983],\n",
              "       [  1.95500557,   1.95500557],\n",
              "       [  1.6650167 ,   1.6650167 ],\n",
              "       [-28.96662955, -28.96662955],\n",
              "       [ 10.08998886,  10.08998886],\n",
              "       [  4.29666295,   4.29666295],\n",
              "       [  2.72948575,   2.72948575],\n",
              "       [  2.        ,   2.        ],\n",
              "       [  1.57820656,   1.57820656],\n",
              "       [  1.30333705,   1.30333705],\n",
              "       [ -2.97348063,  -2.97348063],\n",
              "       [-14.48331477, -14.48331477],\n",
              "       [  5.04499443,   5.04499443],\n",
              "       [  2.14833148,   2.14833148],\n",
              "       [  1.36474288,   1.36474288],\n",
              "       [  1.        ,   1.        ],\n",
              "       [  0.78910328,   0.78910328],\n",
              "       [ -0.        ,  -0.        ],\n",
              "       [ -0.        ,  -0.        ],\n",
              "       [ -0.        ,  -0.        ],\n",
              "       [  0.        ,   0.        ],\n",
              "       [  0.        ,   0.        ],\n",
              "       [  0.        ,   0.        ],\n",
              "       [  0.        ,   0.        ],\n",
              "       [  1.14833148,   1.14833148],\n",
              "       [  1.65681565,   1.65681565],\n",
              "       [  2.97348063,   2.97348063],\n",
              "       [ 14.48331477,  14.48331477],\n",
              "       [ -5.04499443,  -5.04499443],\n",
              "       [ -2.14833148,  -2.14833148],\n",
              "       [ -1.36474288,  -1.36474288],\n",
              "       [  5.4589715 ,   5.4589715 ],\n",
              "       [  4.        ,   4.        ],\n",
              "       [  3.15641311,   3.15641311],\n",
              "       [  2.60667409,   2.60667409],\n",
              "       [  2.22002227,   2.22002227],\n",
              "       [  1.93325909,   1.93325909],\n",
              "       [  1.71210434,   1.71210434],\n",
              "       [  6.44499443,   6.44499443],\n",
              "       [  4.09422863,   4.09422863],\n",
              "       [  3.        ,   3.        ],\n",
              "       [  2.36730983,   2.36730983],\n",
              "       [  1.95500557,   1.95500557],\n",
              "       [  1.6650167 ,   1.6650167 ],\n",
              "       [  1.44994432,   1.44994432],\n",
              "       [ 10.08998886,  10.08998886],\n",
              "       [  4.29666295,   4.29666295],\n",
              "       [  2.72948575,   2.72948575],\n",
              "       [  2.        ,   2.        ],\n",
              "       [  1.57820656,   1.57820656],\n",
              "       [  1.30333705,   1.30333705],\n",
              "       [  1.11001114,   1.11001114],\n",
              "       [-14.48331477, -14.48331477],\n",
              "       [  5.04499443,   5.04499443],\n",
              "       [  2.14833148,   2.14833148],\n",
              "       [  1.36474288,   1.36474288],\n",
              "       [  1.        ,   1.        ],\n",
              "       [  0.78910328,   0.78910328],\n",
              "       [  0.65166852,   0.65166852],\n",
              "       [ -0.        ,  -0.        ],\n",
              "       [ -0.        ,  -0.        ],\n",
              "       [  0.        ,   0.        ],\n",
              "       [  0.        ,   0.        ],\n",
              "       [  0.        ,   0.        ],\n",
              "       [  0.        ,   0.        ],\n",
              "       [  0.        ,   0.        ],\n",
              "       [  1.65681565,   1.65681565],\n",
              "       [  2.97348063,   2.97348063],\n",
              "       [ 14.48331477,  14.48331477],\n",
              "       [ -5.04499443,  -5.04499443],\n",
              "       [ -2.14833148,  -2.14833148],\n",
              "       [ -1.36474288,  -1.36474288],\n",
              "       [ -1.        ,  -1.        ],\n",
              "       [  2.29666295,   2.29666295],\n",
              "       [  3.3136313 ,   3.3136313 ],\n",
              "       [  5.94696126,   5.94696126],\n",
              "       [ 28.96662955,  28.96662955],\n",
              "       [-10.08998886, -10.08998886],\n",
              "       [ -4.29666295,  -4.29666295],\n",
              "       [ -2.72948575,  -2.72948575],\n",
              "       [  4.09422863,   4.09422863],\n",
              "       [  3.        ,   3.        ],\n",
              "       [  2.36730983,   2.36730983],\n",
              "       [  1.95500557,   1.95500557],\n",
              "       [  1.6650167 ,   1.6650167 ],\n",
              "       [  1.44994432,   1.44994432],\n",
              "       [  1.28407825,   1.28407825],\n",
              "       [  4.29666295,   4.29666295],\n",
              "       [  2.72948575,   2.72948575],\n",
              "       [  2.        ,   2.        ],\n",
              "       [  1.57820656,   1.57820656],\n",
              "       [  1.30333705,   1.30333705],\n",
              "       [  1.11001114,   1.11001114],\n",
              "       [  0.96662955,   0.96662955],\n",
              "       [  5.04499443,   5.04499443],\n",
              "       [  2.14833148,   2.14833148],\n",
              "       [  1.36474288,   1.36474288],\n",
              "       [  1.        ,   1.        ],\n",
              "       [  0.78910328,   0.78910328],\n",
              "       [  0.65166852,   0.65166852],\n",
              "       [  0.55500557,   0.55500557],\n",
              "       [ -0.        ,  -0.        ],\n",
              "       [  0.        ,   0.        ],\n",
              "       [  0.        ,   0.        ],\n",
              "       [  0.        ,   0.        ],\n",
              "       [  0.        ,   0.        ],\n",
              "       [  0.        ,   0.        ],\n",
              "       [  0.        ,   0.        ],\n",
              "       [  2.97348063,   2.97348063],\n",
              "       [ 14.48331477,  14.48331477],\n",
              "       [ -5.04499443,  -5.04499443],\n",
              "       [ -2.14833148,  -2.14833148],\n",
              "       [ -1.36474288,  -1.36474288],\n",
              "       [ -1.        ,  -1.        ],\n",
              "       [ -0.78910328,  -0.78910328],\n",
              "       [  3.3136313 ,   3.3136313 ],\n",
              "       [  5.94696126,   5.94696126],\n",
              "       [ 28.96662955,  28.96662955],\n",
              "       [-10.08998886, -10.08998886],\n",
              "       [ -4.29666295,  -4.29666295],\n",
              "       [ -2.72948575,  -2.72948575],\n",
              "       [ -2.        ,  -2.        ],\n",
              "       [  3.44499443,   3.44499443],\n",
              "       [  4.97044695,   4.97044695],\n",
              "       [  8.92044189,   8.92044189],\n",
              "       [ 43.44994432,  43.44994432],\n",
              "       [-15.1349833 , -15.1349833 ],\n",
              "       [ -6.44499443,  -6.44499443],\n",
              "       [ -4.09422863,  -4.09422863],\n",
              "       [  2.72948575,   2.72948575],\n",
              "       [  2.        ,   2.        ],\n",
              "       [  1.57820656,   1.57820656],\n",
              "       [  1.30333705,   1.30333705],\n",
              "       [  1.11001114,   1.11001114],\n",
              "       [  0.96662955,   0.96662955],\n",
              "       [  0.85605217,   0.85605217],\n",
              "       [  2.14833148,   2.14833148],\n",
              "       [  1.36474288,   1.36474288],\n",
              "       [  1.        ,   1.        ],\n",
              "       [  0.78910328,   0.78910328],\n",
              "       [  0.65166852,   0.65166852],\n",
              "       [  0.55500557,   0.55500557],\n",
              "       [  0.48331477,   0.48331477],\n",
              "       [  0.        ,   0.        ],\n",
              "       [  0.        ,   0.        ],\n",
              "       [  0.        ,   0.        ],\n",
              "       [  0.        ,   0.        ],\n",
              "       [  0.        ,   0.        ],\n",
              "       [  0.        ,   0.        ],\n",
              "       [  0.        ,   0.        ],\n",
              "       [ 14.48331477,  14.48331477],\n",
              "       [ -5.04499443,  -5.04499443],\n",
              "       [ -2.14833148,  -2.14833148],\n",
              "       [ -1.36474288,  -1.36474288],\n",
              "       [ -1.        ,  -1.        ],\n",
              "       [ -0.78910328,  -0.78910328],\n",
              "       [ -0.65166852,  -0.65166852],\n",
              "       [  5.94696126,   5.94696126],\n",
              "       [ 28.96662955,  28.96662955],\n",
              "       [-10.08998886, -10.08998886],\n",
              "       [ -4.29666295,  -4.29666295],\n",
              "       [ -2.72948575,  -2.72948575],\n",
              "       [ -2.        ,  -2.        ],\n",
              "       [ -1.57820656,  -1.57820656],\n",
              "       [  4.97044695,   4.97044695],\n",
              "       [  8.92044189,   8.92044189],\n",
              "       [ 43.44994432,  43.44994432],\n",
              "       [-15.1349833 , -15.1349833 ],\n",
              "       [ -6.44499443,  -6.44499443],\n",
              "       [ -4.09422863,  -4.09422863],\n",
              "       [ -3.        ,  -3.        ],\n",
              "       [  4.59332591,   4.59332591],\n",
              "       [  6.6272626 ,   6.6272626 ],\n",
              "       [ 11.89392252,  11.89392252],\n",
              "       [ 57.93325909,  57.93325909],\n",
              "       [-20.17997773, -20.17997773],\n",
              "       [ -8.59332591,  -8.59332591],\n",
              "       [ -5.4589715 ,  -5.4589715 ],\n",
              "       [  1.36474288,   1.36474288],\n",
              "       [  1.        ,   1.        ],\n",
              "       [  0.78910328,   0.78910328],\n",
              "       [  0.65166852,   0.65166852],\n",
              "       [  0.55500557,   0.55500557],\n",
              "       [  0.48331477,   0.48331477],\n",
              "       [  0.42802608,   0.42802608],\n",
              "       [  0.        ,   0.        ],\n",
              "       [  0.        ,   0.        ],\n",
              "       [  0.        ,   0.        ],\n",
              "       [  0.        ,   0.        ],\n",
              "       [  0.        ,   0.        ],\n",
              "       [  0.        ,   0.        ],\n",
              "       [  0.        ,   0.        ],\n",
              "       [ -5.04499443,  -5.04499443],\n",
              "       [ -2.14833148,  -2.14833148],\n",
              "       [ -1.36474288,  -1.36474288],\n",
              "       [ -1.        ,  -1.        ],\n",
              "       [ -0.78910328,  -0.78910328],\n",
              "       [ -0.65166852,  -0.65166852],\n",
              "       [ -0.55500557,  -0.55500557],\n",
              "       [ 28.96662955,  28.96662955],\n",
              "       [-10.08998886, -10.08998886],\n",
              "       [ -4.29666295,  -4.29666295],\n",
              "       [ -2.72948575,  -2.72948575],\n",
              "       [ -2.        ,  -2.        ],\n",
              "       [ -1.57820656,  -1.57820656],\n",
              "       [ -1.30333705,  -1.30333705],\n",
              "       [  8.92044189,   8.92044189],\n",
              "       [ 43.44994432,  43.44994432],\n",
              "       [-15.1349833 , -15.1349833 ],\n",
              "       [ -6.44499443,  -6.44499443],\n",
              "       [ -4.09422863,  -4.09422863],\n",
              "       [ -3.        ,  -3.        ],\n",
              "       [ -2.36730983,  -2.36730983],\n",
              "       [  6.6272626 ,   6.6272626 ],\n",
              "       [ 11.89392252,  11.89392252],\n",
              "       [ 57.93325909,  57.93325909],\n",
              "       [-20.17997773, -20.17997773],\n",
              "       [ -8.59332591,  -8.59332591],\n",
              "       [ -5.4589715 ,  -5.4589715 ],\n",
              "       [ -4.        ,  -4.        ],\n",
              "       [  5.74165739,   5.74165739],\n",
              "       [  8.28407825,   8.28407825],\n",
              "       [ 14.86740315,  14.86740315],\n",
              "       [ 72.41657387,  72.41657387],\n",
              "       [-25.22497216, -25.22497216],\n",
              "       [-10.74165739, -10.74165739],\n",
              "       [ -6.82371438,  -6.82371438]])"
            ]
          },
          "metadata": {
            "tags": []
          },
          "execution_count": 139
        }
      ]
    },
    {
      "cell_type": "code",
      "metadata": {
        "colab": {
          "base_uri": "https://localhost:8080/",
          "height": 265
        },
        "id": "Viuk0HAxN7Pm",
        "outputId": "2fcc5b1e-4e1f-48fa-acec-a59a085b74c4"
      },
      "source": [
        "plt.scatter(coords[:,0], coords[:,1])\n",
        "plt.show()"
      ],
      "execution_count": 140,
      "outputs": [
        {
          "output_type": "display_data",
          "data": {
            "image/png": "[encoded data removed]",
            "text/plain": [
              "<Figure size 432x288 with 1 Axes>"
            ]
          },
          "metadata": {
            "tags": [],
            "needs_background": "light"
          }
        }
      ]
    }
  ]
}