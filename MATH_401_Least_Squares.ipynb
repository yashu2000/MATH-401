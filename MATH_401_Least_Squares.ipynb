{
  "nbformat": 4,
  "nbformat_minor": 0,
  "metadata": {
    "colab": {
      "name": "MATH 401 Least Squares.ipynb",
      "provenance": []
    },
    "kernelspec": {
      "name": "python3",
      "display_name": "Python 3"
    },
    "language_info": {
      "name": "python"
    }
  },
  "cells": [
    {
      "cell_type": "code",
      "metadata": {
        "id": "iEUkMlvs4-WS"
      },
      "source": [
        "import numpy as np\n",
        "import matplotlib.pyplot as plt"
      ],
      "execution_count": null,
      "outputs": []
    },
    {
      "cell_type": "code",
      "metadata": {
        "colab": {
          "base_uri": "https://localhost:8080/"
        },
        "id": "v9PP_9-vaxR3",
        "outputId": "23d0550f-f853-47cb-c339-67dbc0ae9290"
      },
      "source": [
        "atainv = np.array([[1/2,-1/2], [-1/2, 3/2]])\n",
        "At = np.array([[0,1,0,1,1], [0,0,0,1,0]])\n",
        "b = np.array([0,1,0,1,1])\n",
        "x = atainv.dot(At.dot(b))\n",
        "x"
      ],
      "execution_count": null,
      "outputs": [
        {
          "output_type": "execute_result",
          "data": {
            "text/plain": [
              "array([1., 0.])"
            ]
          },
          "metadata": {
            "tags": []
          },
          "execution_count": 7
        }
      ]
    },
    {
      "cell_type": "markdown",
      "metadata": {
        "id": "Iy9AAndlOR3u"
      },
      "source": [
        "# **Remarks**\n",
        "\n",
        "***Name:*** Yashaswi Sharma\n",
        "\n",
        "***UID:*** 116245821\n",
        "\n",
        "***Link To File:*** **https://colab.research.google.com/drive/1rwP_ncekLp8wso4hryFT2q2wYR-zNGI8?usp=sharing**"
      ]
    },
    {
      "cell_type": "markdown",
      "metadata": {
        "id": "wTyV3d4gOke6"
      },
      "source": [
        "I am sharing this file because at times google colab has image formatting issues. Hence, with access to this link if there are any images that are misplaced or half presented, the grader will have full and ready access to the actual image."
      ]
    },
    {
      "cell_type": "markdown",
      "metadata": {
        "id": "gH5-yIjZ0M8A"
      },
      "source": [
        "# **1**\n",
        "\n",
        "An encoder equates \"cat\" with vector  {-8,-4} and it equates \"dog\" with {-6,-3}.\n",
        "\n",
        "The decoder equates {3, -1} with \"animal\".\n",
        "\n",
        "The same encoder  equates \"car\" with vector  {2,-5} and it equates \"truck\" with {7,-6}.  The decoder equates {-6, -5} with \"machine\".\n",
        "\n",
        "The model is matrix multiplication.  \n",
        "\n",
        "$T(\\vec{v}) = A \\cdot \\vec{v}$"
      ]
    },
    {
      "cell_type": "markdown",
      "metadata": {
        "id": "zNU-NeCV0cMO"
      },
      "source": [
        "## **a**\n",
        "\n",
        "What are the dimensions of the matrix A?"
      ]
    },
    {
      "cell_type": "markdown",
      "metadata": {
        "id": "MqN_7QsJ0hVv"
      },
      "source": [
        "the dimensionality of A is dependent upon the column space of A which is dependent upon the number of independent columns A has. \n",
        "\n",
        "Since A maps a 2-D vector to a 2-D output, we know that A has to be 2x2. Hence the dimension of A is **2**."
      ]
    },
    {
      "cell_type": "markdown",
      "metadata": {
        "id": "j9VNXCM51y9S"
      },
      "source": [
        "## **b**\n",
        "\n",
        "Use least squares to model the error as a function of the matrix A.  Don't refer to the coefficients of A, but instead write the input and output as matrices.  Write the error expression as a matrix expression."
      ]
    },
    {
      "cell_type": "markdown",
      "metadata": {
        "id": "TpcLPB5R8Tcf"
      },
      "source": [
        "$error = ||B \\cdot A - target||_2^2$"
      ]
    },
    {
      "cell_type": "markdown",
      "metadata": {
        "id": "7A9F5b__8tyV"
      },
      "source": [
        "## **c**\n",
        "\n",
        "Use technology to solve the least squares problem.  (either LeastSquares, lsqr, or linalg.lstsq )"
      ]
    },
    {
      "cell_type": "code",
      "metadata": {
        "colab": {
          "base_uri": "https://localhost:8080/"
        },
        "id": "LBw_ZGKT802x",
        "outputId": "75ecfed0-198a-4803-eb3c-248418083f8b"
      },
      "source": [
        "B = np.array([[-8, -4], [-6, -3], [2, -5], [7, -6]])\n",
        "target = np.array([[3, -1], [3, -1], [-6, -5], [-6, -5]])\n",
        "print(B.T)\n",
        "print(target.T)"
      ],
      "execution_count": null,
      "outputs": [
        {
          "output_type": "stream",
          "text": [
            "[[-8 -6  2  7]\n",
            " [-4 -3 -5 -6]]\n",
            "[[ 3  3 -6 -6]\n",
            " [-1 -1 -5 -5]]\n"
          ],
          "name": "stdout"
        }
      ]
    },
    {
      "cell_type": "code",
      "metadata": {
        "colab": {
          "base_uri": "https://localhost:8080/"
        },
        "id": "qVlaAX0j9E_R",
        "outputId": "1467ddf7-54cd-4166-f026-ee8b652b2fe3"
      },
      "source": [
        "A = np.linalg.lstsq(B, target)"
      ],
      "execution_count": null,
      "outputs": [
        {
          "output_type": "stream",
          "text": [
            "/usr/local/lib/python3.7/dist-packages/ipykernel_launcher.py:1: FutureWarning: `rcond` parameter will change to the default of machine precision times ``max(M, N)`` where M and N are the input matrix dimensions.\n",
            "To use the future default and silence this warning we advise to pass `rcond=None`, to keep using the old, explicitly pass `rcond=-1`.\n",
            "  \"\"\"Entry point for launching an IPython kernel.\n"
          ],
          "name": "stderr"
        }
      ]
    },
    {
      "cell_type": "code",
      "metadata": {
        "colab": {
          "base_uri": "https://localhost:8080/"
        },
        "id": "M-NhxNI59wkw",
        "outputId": "9f9fdebe-da72-4baa-9e99-2b796ecf343b"
      },
      "source": [
        "print(A)"
      ],
      "execution_count": null,
      "outputs": [
        {
          "output_type": "stream",
          "text": [
            "(array([[-0.62079976, -0.1932492 ],\n",
            "       [ 0.50881861,  0.71643607]]), array([7.50638589, 1.59023871]), 2, array([12.37172779,  9.27040191]))\n"
          ],
          "name": "stdout"
        }
      ]
    },
    {
      "cell_type": "markdown",
      "metadata": {
        "id": "B6PrwKWn9ykZ"
      },
      "source": [
        "## **d**\n",
        "\n",
        "What is the mean squared error for the solution in (c)?  \n",
        "\n",
        "Recall the mean squared error is the total of the squared-lengths of the error vectors divided by the number of vectors."
      ]
    },
    {
      "cell_type": "code",
      "metadata": {
        "colab": {
          "base_uri": "https://localhost:8080/"
        },
        "id": "0HAHEjuA98_5",
        "outputId": "3be04423-72ba-46bd-9f92-93b9ab37a0a6"
      },
      "source": [
        "sum = 0\n",
        "for i in range(len(B)):\n",
        "  sum += (np.linalg.norm(A[0].dot(B[i]) - target[i])) ** 2\n",
        "sum /= 4\n",
        "print('The MSE is {}'.format(sum))"
      ],
      "execution_count": null,
      "outputs": [
        {
          "output_type": "stream",
          "text": [
            "The MSE is 31.724884111918794\n"
          ],
          "name": "stdout"
        }
      ]
    },
    {
      "cell_type": "markdown",
      "metadata": {
        "id": "1XSYq3N8_MlT"
      },
      "source": [
        "## **e**\n",
        "\n",
        "Suppose that \"mouse\" is encoded as {-5,3}   Does T(v) map that closer to \"animal\" or to \"machine\" ?  If you consider \"mouse\" as testing the model, does this test support the model?"
      ]
    },
    {
      "cell_type": "code",
      "metadata": {
        "colab": {
          "base_uri": "https://localhost:8080/"
        },
        "id": "IHZJPrCgAEul",
        "outputId": "41c2f23c-7441-42b6-c080-0b9a1bd35253"
      },
      "source": [
        "mouse = np.array([-5,3])\n",
        "out = A[0].dot(mouse)\n",
        "print(out)"
      ],
      "execution_count": null,
      "outputs": [
        {
          "output_type": "stream",
          "text": [
            "[ 2.52425118 -0.39478486]\n"
          ],
          "name": "stdout"
        }
      ]
    },
    {
      "cell_type": "code",
      "metadata": {
        "colab": {
          "base_uri": "https://localhost:8080/"
        },
        "id": "zpGxpa7YAU53",
        "outputId": "1feda4b6-4bad-46fc-8f8c-937cc0f5333f"
      },
      "source": [
        "animal = np.array([3,-1])\n",
        "machine = np.array([-6,-5])\n",
        "andiff = np.linalg.norm(animal - out) ** 2\n",
        "mdiff = np.linalg.norm(machine - out) ** 2\n",
        "print(andiff)\n",
        "print(mdiff)"
      ],
      "execution_count": null,
      "outputs": [
        {
          "output_type": "stream",
          "text": [
            "0.5926223114451791\n",
            "93.87086467118367\n"
          ],
          "name": "stdout"
        }
      ]
    },
    {
      "cell_type": "markdown",
      "metadata": {
        "id": "0aV3LGIgAqAN"
      },
      "source": [
        "The model considers the \"mouse\" encoding to be closer to an animal as compared to a machine. This test does suppro the model"
      ]
    },
    {
      "cell_type": "markdown",
      "metadata": {
        "id": "tZfP3TVlAzRT"
      },
      "source": [
        "## **f**\n",
        "\n",
        "Make a picture showing the points in the plane, the encodings as vectors in a plane, with colors or labels to distinguish animals from machines.   Make a picture showing the vectors after the transformation T(v).  Which component is doing the most important part:  the encoding, the transformation T, or the decoding?"
      ]
    },
    {
      "cell_type": "code",
      "metadata": {
        "colab": {
          "base_uri": "https://localhost:8080/",
          "height": 232
        },
        "id": "L1oU7jxMBZ4r",
        "outputId": "3bfe3cf7-1ff2-4eb3-de48-fdcd9ef86cfe"
      },
      "source": [
        "color_vecs = ['b', 'g', 'r', 'c', 'm', 'y', 'k']\n",
        "plt.figure(figsize=(7,7))\n",
        "plt.xlim(-10,10)\n",
        "plt.ylim(-10,10)\n",
        "origin = np.array([[0, 0],[0, 0]])\n",
        "plt.scatter(animal[0], animal[1], label='Animal', color=color_vecs[-1])\n",
        "plt.scatter(machine[0], machine[1], label='Machine', color=color_vecs[-1])\n",
        "\n",
        "labs = [\"cat\", 'dog', 'car', 'truck']\n",
        "\n",
        "for i in range(len(B)):\n",
        "  plt.quiver(*origin, B[i][0], B[i][1],length=5, label=labs[i], color=color_vecs[i])\n",
        "  est = A[0].dot(B[i])\n",
        "  laber = labs[i] + ' estimate'\n",
        "  plt.quiver(*B[i], est[0], est[1],length=5, label=laber, color=color_vecs[-i])\n",
        "plt.legend(bbox_to_anchor=(1.5,1.0))\n",
        "plt.show()"
      ],
      "execution_count": null,
      "outputs": [
        {
          "output_type": "error",
          "ename": "NameError",
          "evalue": "ignored",
          "traceback": [
            "\u001b[0;31m---------------------------------------------------------------------------\u001b[0m",
            "\u001b[0;31mNameError\u001b[0m                                 Traceback (most recent call last)",
            "\u001b[0;32m<ipython-input-1-652cb9b7fc79>\u001b[0m in \u001b[0;36m<module>\u001b[0;34m()\u001b[0m\n\u001b[1;32m      1\u001b[0m \u001b[0mcolor_vecs\u001b[0m \u001b[0;34m=\u001b[0m \u001b[0;34m[\u001b[0m\u001b[0;34m'b'\u001b[0m\u001b[0;34m,\u001b[0m \u001b[0;34m'g'\u001b[0m\u001b[0;34m,\u001b[0m \u001b[0;34m'r'\u001b[0m\u001b[0;34m,\u001b[0m \u001b[0;34m'c'\u001b[0m\u001b[0;34m,\u001b[0m \u001b[0;34m'm'\u001b[0m\u001b[0;34m,\u001b[0m \u001b[0;34m'y'\u001b[0m\u001b[0;34m,\u001b[0m \u001b[0;34m'k'\u001b[0m\u001b[0;34m]\u001b[0m\u001b[0;34m\u001b[0m\u001b[0;34m\u001b[0m\u001b[0m\n\u001b[0;32m----> 2\u001b[0;31m \u001b[0mplt\u001b[0m\u001b[0;34m.\u001b[0m\u001b[0mfigure\u001b[0m\u001b[0;34m(\u001b[0m\u001b[0mfigsize\u001b[0m\u001b[0;34m=\u001b[0m\u001b[0;34m(\u001b[0m\u001b[0;36m7\u001b[0m\u001b[0;34m,\u001b[0m\u001b[0;36m7\u001b[0m\u001b[0;34m)\u001b[0m\u001b[0;34m)\u001b[0m\u001b[0;34m\u001b[0m\u001b[0;34m\u001b[0m\u001b[0m\n\u001b[0m\u001b[1;32m      3\u001b[0m \u001b[0mplt\u001b[0m\u001b[0;34m.\u001b[0m\u001b[0mxlim\u001b[0m\u001b[0;34m(\u001b[0m\u001b[0;34m-\u001b[0m\u001b[0;36m10\u001b[0m\u001b[0;34m,\u001b[0m\u001b[0;36m10\u001b[0m\u001b[0;34m)\u001b[0m\u001b[0;34m\u001b[0m\u001b[0;34m\u001b[0m\u001b[0m\n\u001b[1;32m      4\u001b[0m \u001b[0mplt\u001b[0m\u001b[0;34m.\u001b[0m\u001b[0mylim\u001b[0m\u001b[0;34m(\u001b[0m\u001b[0;34m-\u001b[0m\u001b[0;36m10\u001b[0m\u001b[0;34m,\u001b[0m\u001b[0;36m10\u001b[0m\u001b[0;34m)\u001b[0m\u001b[0;34m\u001b[0m\u001b[0;34m\u001b[0m\u001b[0m\n\u001b[1;32m      5\u001b[0m \u001b[0morigin\u001b[0m \u001b[0;34m=\u001b[0m \u001b[0mnp\u001b[0m\u001b[0;34m.\u001b[0m\u001b[0marray\u001b[0m\u001b[0;34m(\u001b[0m\u001b[0;34m[\u001b[0m\u001b[0;34m[\u001b[0m\u001b[0;36m0\u001b[0m\u001b[0;34m,\u001b[0m \u001b[0;36m0\u001b[0m\u001b[0;34m]\u001b[0m\u001b[0;34m,\u001b[0m\u001b[0;34m[\u001b[0m\u001b[0;36m0\u001b[0m\u001b[0;34m,\u001b[0m \u001b[0;36m0\u001b[0m\u001b[0;34m]\u001b[0m\u001b[0;34m]\u001b[0m\u001b[0;34m)\u001b[0m\u001b[0;34m\u001b[0m\u001b[0;34m\u001b[0m\u001b[0m\n",
            "\u001b[0;31mNameError\u001b[0m: name 'plt' is not defined"
          ]
        }
      ]
    },
    {
      "cell_type": "markdown",
      "metadata": {
        "id": "Au9JZ3s0DufB"
      },
      "source": [
        "The encoding is doing the most important part by putting it near the correct endpoint to determine whether the encoded vector belongs to class animals or class machines. "
      ]
    },
    {
      "cell_type": "markdown",
      "metadata": {
        "id": "yINVXBh4PjSg"
      },
      "source": [
        "***NOTE:*** In my opinion, the graph below is a better visual because I am not sure how to scale these vectors s.t. they actually reach the point where they are at. It makes it very difficult to visually see what is happening, hence plotting the encodings as points themselves, and then showing the transformation as a vector gives an easier visual. This is something extra I built."
      ]
    },
    {
      "cell_type": "code",
      "metadata": {
        "colab": {
          "base_uri": "https://localhost:8080/",
          "height": 432
        },
        "id": "A-LNT4CfPbcW",
        "outputId": "7d8f8e18-631d-4f54-d363-cc817e31791e"
      },
      "source": [
        "color_vecs = ['b', 'g', 'r', 'c', 'm', 'y', 'k']\n",
        "plt.figure(figsize=(7,7))\n",
        "plt.xlim(-10,10)\n",
        "plt.ylim(-10,10)\n",
        "origin = np.array([[0, 0],[0, 0]])\n",
        "plt.scatter(animal[0], animal[1], label='Animal', color=color_vecs[-1])\n",
        "plt.scatter(machine[0], machine[1], label='Machine', color=color_vecs[-1])\n",
        "\n",
        "labs = [\"cat\", 'dog', 'car', 'truck']\n",
        "\n",
        "for i in range(len(B)):\n",
        "  plt.scatter( B[i][0], B[i][1], label=labs[i], color=color_vecs[i])\n",
        "  est = A[0].dot(B[i])\n",
        "  laber = labs[i] + ' estimate'\n",
        "  plt.quiver(*B[i], est[0], est[1], label=laber, color=color_vecs[-i])\n",
        "plt.legend(bbox_to_anchor=(1.5,1.0))\n",
        "plt.show()"
      ],
      "execution_count": null,
      "outputs": [
        {
          "output_type": "display_data",
          "data": {
            "image/png": "[encoded data removed]",
            "text/plain": [
              "<Figure size 504x504 with 1 Axes>"
            ]
          },
          "metadata": {
            "tags": [],
            "needs_background": "light"
          }
        }
      ]
    },
    {
      "cell_type": "markdown",
      "metadata": {
        "id": "iALEAyxqD75v"
      },
      "source": [
        "# **2**\n",
        "\n",
        "Suppose now that \"bus\" is encoded as {-2,2} and it is supposed to be transformed close to the point for \"machine\".\n",
        "\n",
        "Use the data from (1) including \"mouse in (1c) and including \"bus\" as {-2,2}  with the model U(v) = M dot v + b"
      ]
    },
    {
      "cell_type": "markdown",
      "metadata": {
        "id": "SGzQV1wND_Us"
      },
      "source": [
        "## **a**\n",
        "\n",
        "What are the dimensions of the matrix M and the vector b?"
      ]
    },
    {
      "cell_type": "markdown",
      "metadata": {
        "id": "2FnS2hC-EFF1"
      },
      "source": [
        "***M*** has dimension 2 because M is 2x2\n",
        "\n",
        "***b*** has dimension 2 as well as b is 2x1"
      ]
    },
    {
      "cell_type": "markdown",
      "metadata": {
        "id": "Q4ou5hYeEN7q"
      },
      "source": [
        "## **b**\n",
        "\n",
        "Convert the least squares problem into matrix form by augmenting the vectors with1's so that U(v)=U(v') = X dot v'  What are the dimensions of X?  "
      ]
    },
    {
      "cell_type": "code",
      "metadata": {
        "colab": {
          "base_uri": "https://localhost:8080/"
        },
        "id": "W26G699cEslE",
        "outputId": "46393b47-7c95-4692-cbcc-7b54a57733dd"
      },
      "source": [
        "B2augmented = np.array([[-8, -4, 1], [-6, -3, 1], [-5, 3, 1], [2, -5, 1], [7, -6, 1], [-2, 2, 1]])\n",
        "target2 = np.array([[3, -1], [3, -1], [3, -1], [-6, -5], [-6, -5], [-6, -5]])\n",
        "print(B2augmented.shape)\n",
        "print(target2.shape)"
      ],
      "execution_count": null,
      "outputs": [
        {
          "output_type": "stream",
          "text": [
            "(6, 3)\n",
            "(6, 2)\n"
          ],
          "name": "stdout"
        }
      ]
    },
    {
      "cell_type": "markdown",
      "metadata": {
        "id": "zbdr_BLSFSFq"
      },
      "source": [
        "We know that X has to be a 2x3 matrix, and since there are 3 vectors occupying in a 2-D space by default, we know that the dimensionality of X is 2."
      ]
    },
    {
      "cell_type": "markdown",
      "metadata": {
        "id": "hgTiTUpFFhOs"
      },
      "source": [
        "## **c**\n",
        "\n",
        "Use technology to solve the least squares problem for X.  (either LeastSquares, lsqr, or linalg.lstsq )"
      ]
    },
    {
      "cell_type": "code",
      "metadata": {
        "colab": {
          "base_uri": "https://localhost:8080/"
        },
        "id": "GgI5PADjFlUy",
        "outputId": "39fe8278-8f7d-4b32-feb5-3ef6b10f223c"
      },
      "source": [
        "X = np.linalg.lstsq(B2augmented, target2)"
      ],
      "execution_count": null,
      "outputs": [
        {
          "output_type": "stream",
          "text": [
            "/usr/local/lib/python3.7/dist-packages/ipykernel_launcher.py:1: FutureWarning: `rcond` parameter will change to the default of machine precision times ``max(M, N)`` where M and N are the input matrix dimensions.\n",
            "To use the future default and silence this warning we advise to pass `rcond=None`, to keep using the old, explicitly pass `rcond=-1`.\n",
            "  \"\"\"Entry point for launching an IPython kernel.\n"
          ],
          "name": "stderr"
        }
      ]
    },
    {
      "cell_type": "code",
      "metadata": {
        "colab": {
          "base_uri": "https://localhost:8080/"
        },
        "id": "95miXjBsFq5k",
        "outputId": "2fe4306d-51e2-4af7-f031-27e347367b99"
      },
      "source": [
        "print(X)"
      ],
      "execution_count": null,
      "outputs": [
        {
          "output_type": "stream",
          "text": [
            "(array([[-0.80488348, -0.35772599],\n",
            "       [-0.2164168 , -0.09618525],\n",
            "       [-3.57867003, -3.92385335]]), array([32.19801098,  6.36010094]), 3, array([13.69049041,  9.82820072,  1.72538193]))\n"
          ],
          "name": "stdout"
        }
      ]
    },
    {
      "cell_type": "markdown",
      "metadata": {
        "id": "qqXvKYTUF6Vc"
      },
      "source": [
        "## **d**\n",
        "\n",
        "From X, derive the offset vector b for the least squares solution and the matrix M."
      ]
    },
    {
      "cell_type": "code",
      "metadata": {
        "colab": {
          "base_uri": "https://localhost:8080/"
        },
        "id": "ArdRwjJFGAz2",
        "outputId": "a80cc5a7-453b-4954-d7c7-97fc105d64c9"
      },
      "source": [
        "M = X[0]\n",
        "b = X[1]\n",
        "print(M.T)\n",
        "print(b)"
      ],
      "execution_count": null,
      "outputs": [
        {
          "output_type": "stream",
          "text": [
            "[[-0.80488348 -0.2164168  -3.57867003]\n",
            " [-0.35772599 -0.09618525 -3.92385335]]\n",
            "[32.19801098  6.36010094]\n"
          ],
          "name": "stdout"
        }
      ]
    },
    {
      "cell_type": "markdown",
      "metadata": {
        "id": "YiooQNgXGG4F"
      },
      "source": [
        "## **e**\n",
        "\n",
        "Make a picture showing the points in the plane for the encodings as vectors in a plane, with colors or labels to distinguish animals from machines.   Make a picture showing the vectors after the transformation U(v), and include a (labeled or colored) point for the offset vector b.  Compare with the picture for T(v) in (1f)  Which one  do you think is a better model, T or U?"
      ]
    },
    {
      "cell_type": "code",
      "metadata": {
        "colab": {
          "base_uri": "https://localhost:8080/",
          "height": 456
        },
        "id": "LLGCRotjGYRy",
        "outputId": "d4a7a88f-9372-4275-8f1c-db21dd328240"
      },
      "source": [
        "color_vecs = ['b', 'g', 'r', 'c', 'm', 'y', 'k']\n",
        "plt.figure(figsize=(15,15))\n",
        "plt.xlim(-10,10)\n",
        "plt.ylim(-10,10)\n",
        "\n",
        "plt.scatter(animal[0], animal[1], label='Animal', color=color_vecs[-1])\n",
        "plt.scatter(machine[0], machine[1], label='Machine', color=color_vecs[-1])\n",
        "\n",
        "labs = [\"cat\", 'dog','mouse', 'car', 'truck','bus']\n",
        "origin = np.array([[0, 0],[0, 0]])\n",
        "for i in range(len(B2augmented)):\n",
        "  plt.quiver(*origin, B2augmented[i][0], B2augmented[i][1], label=labs[i], color=color_vecs[i])\n",
        "  est = M.T.dot(B2augmented[i]) + b\n",
        "  laber = labs[i] + ' estimate'\n",
        "  plt.quiver(*B2augmented[i], est[0], est[1], label=laber, color=color_vecs[-i])\n",
        "plt.legend(bbox_to_anchor=(1.5,1.0))\n",
        "plt.show()"
      ],
      "execution_count": null,
      "outputs": [
        {
          "output_type": "display_data",
          "data": {
            "image/png": "[encoded data removed]",
            "text/plain": [
              "<Figure size 1080x1080 with 1 Axes>"
            ]
          },
          "metadata": {
            "tags": [],
            "needs_background": "light"
          }
        }
      ]
    },
    {
      "cell_type": "markdown",
      "metadata": {
        "id": "4qDVTuevK6dd"
      },
      "source": [
        "Our new model U is worse than model T because we have a strong bias towards being an animal over a machine as all the vectors are pointing up. This causes our model to be inherently biased towards calling every object an animal and not a machine. Hence model T is better."
      ]
    },
    {
      "cell_type": "markdown",
      "metadata": {
        "id": "ztDbukEZP--e"
      },
      "source": [
        "***NOTE:*** In my opinion, the graph below is a better visual because I am not sure how to scale these vectors s.t. they actually reach the point where they are at. It makes it very difficult to visually see what is happening, hence plotting the encodings as points themselves, and then showing the transformation as a vector gives an easier visual. This is something extra I built."
      ]
    },
    {
      "cell_type": "code",
      "metadata": {
        "colab": {
          "base_uri": "https://localhost:8080/",
          "height": 867
        },
        "id": "xkLEA30APOiu",
        "outputId": "db565106-75a2-4a1a-8fb8-1111be93800b"
      },
      "source": [
        "color_vecs = ['b', 'g', 'r', 'c', 'm', 'y', 'k']\n",
        "plt.figure(figsize=(15,15))\n",
        "plt.xlim(-10,10)\n",
        "plt.ylim(-10,10)\n",
        "\n",
        "plt.scatter(animal[0], animal[1], label='Animal', color=color_vecs[-1])\n",
        "plt.scatter(machine[0], machine[1], label='Machine', color=color_vecs[-1])\n",
        "\n",
        "labs = [\"cat\", 'dog','mouse', 'car', 'truck','bus']\n",
        "origin = np.array([[0, 0],[0, 0]])\n",
        "for i in range(len(B2augmented)):\n",
        "  plt.scatter(B2augmented[i][0], B2augmented[i][1], label=labs[i], color=color_vecs[i])\n",
        "  est = M.T.dot(B2augmented[i]) + b\n",
        "  laber = labs[i] + ' estimate'\n",
        "  plt.quiver(*B2augmented[i], est[0], est[1], label=laber, color=color_vecs[-i])\n",
        "plt.legend(bbox_to_anchor=(1.5,1.0))\n",
        "plt.show()"
      ],
      "execution_count": null,
      "outputs": [
        {
          "output_type": "display_data",
          "data": {
            "image/png": "[encoded data removed]",
            "text/plain": [
              "<Figure size 1080x1080 with 1 Axes>"
            ]
          },
          "metadata": {
            "tags": [],
            "needs_background": "light"
          }
        }
      ]
    },
    {
      "cell_type": "markdown",
      "metadata": {
        "id": "zDRmJWhGLKC2"
      },
      "source": [
        "# **3**"
      ]
    },
    {
      "cell_type": "markdown",
      "metadata": {
        "id": "Hxp00J86LNiG"
      },
      "source": [
        "## **a**\n",
        "\n",
        "Given A1 = {{0, 7}, {-8, 3}}   Find the inverse of A1 (numerically, no fractions)"
      ]
    },
    {
      "cell_type": "code",
      "metadata": {
        "colab": {
          "base_uri": "https://localhost:8080/"
        },
        "id": "-ReMkuxuLRTZ",
        "outputId": "efe50ddf-06b5-4e0c-bef5-95381e290e51"
      },
      "source": [
        "A1 = np.array([[0, 7], [-8, 3]])\n",
        "A1_inv = np.linalg.inv(A1)\n",
        "print(A1_inv.T)"
      ],
      "execution_count": null,
      "outputs": [
        {
          "output_type": "stream",
          "text": [
            "[[ 0.05357143  0.14285714]\n",
            " [-0.125       0.        ]]\n"
          ],
          "name": "stdout"
        }
      ]
    },
    {
      "cell_type": "markdown",
      "metadata": {
        "id": "_5vnXKvvLcGK"
      },
      "source": [
        "## **b**\n",
        "\n",
        "Given A2 = {{0, 7}, {-8, 3},{0,-1}}   Find the pseudoinverse of A2 (numerically, no fractions)"
      ]
    },
    {
      "cell_type": "code",
      "metadata": {
        "colab": {
          "base_uri": "https://localhost:8080/"
        },
        "id": "PQ0moVX_Lg_s",
        "outputId": "b089396a-0df9-4319-a972-cbb753a1d26d"
      },
      "source": [
        "A2 = [[0, 7], [-8, 3], [0, -1]]\n",
        "A2_inv = np.linalg.pinv(A2)\n",
        "print(A2_inv.T)"
      ],
      "execution_count": null,
      "outputs": [
        {
          "output_type": "stream",
          "text": [
            "[[ 5.25000000e-02  1.40000000e-01]\n",
            " [-1.25000000e-01 -9.14594931e-18]\n",
            " [-7.50000000e-03 -2.00000000e-02]]\n"
          ],
          "name": "stdout"
        }
      ]
    },
    {
      "cell_type": "markdown",
      "metadata": {
        "id": "1KF4FE6QLzO2"
      },
      "source": [
        "## **c**\n",
        "\n",
        "Given A3 = {{0, 7}, {-8, 3},{0,-1},{1,0}}   Find the pseudoinverse of A3 (numerically, no fractions)"
      ]
    },
    {
      "cell_type": "code",
      "metadata": {
        "colab": {
          "base_uri": "https://localhost:8080/"
        },
        "id": "8Vxbc2wNL2PQ",
        "outputId": "630ea3a1-40ae-4efe-9ad7-aa6aa2797bd1"
      },
      "source": [
        "A3 = [[0, 7], [-8, 3], [0, -1], [1, 0]]\n",
        "A3_inv = np.linalg.pinv(A3)\n",
        "print(A3_inv.T)"
      ],
      "execution_count": null,
      "outputs": [
        {
          "output_type": "stream",
          "text": [
            "[[ 0.05154956  0.13961338]\n",
            " [-0.12273704  0.00092053]\n",
            " [-0.00736422 -0.01994477]\n",
            " [ 0.01810371  0.00736422]]\n"
          ],
          "name": "stdout"
        }
      ]
    },
    {
      "cell_type": "markdown",
      "metadata": {
        "id": "mVqdhnWUMApl"
      },
      "source": [
        "## **d**\n",
        "\n",
        "Compare a with b with c and say what is in common.  Can you explain why some of their coefficients are very close?  (MatrixPlot might be helpful)"
      ]
    },
    {
      "cell_type": "code",
      "metadata": {
        "colab": {
          "base_uri": "https://localhost:8080/",
          "height": 791
        },
        "id": "BiVoNqpMMEHq",
        "outputId": "703486d9-c671-4484-c50f-d10f002876f1"
      },
      "source": [
        "plt.matshow(A1_inv)\n",
        "plt.matshow(A2_inv)\n",
        "plt.matshow(A3_inv)\n",
        "plt.show()"
      ],
      "execution_count": null,
      "outputs": [
        {
          "output_type": "display_data",
          "data": {
            "image/png": "[encoded data removed]",
            "text/plain": [
              "<Figure size 288x288 with 1 Axes>"
            ]
          },
          "metadata": {
            "tags": [],
            "needs_background": "light"
          }
        },
        {
          "output_type": "display_data",
          "data": {
            "image/png": "[encoded data removed]",
            "text/plain": [
              "<Figure size 432x288 with 1 Axes>"
            ]
          },
          "metadata": {
            "tags": [],
            "needs_background": "light"
          }
        },
        {
          "output_type": "display_data",
          "data": {
            "image/png": "[encoded data removed]",
            "text/plain": [
              "<Figure size 576x288 with 1 Axes>"
            ]
          },
          "metadata": {
            "tags": [],
            "needs_background": "light"
          }
        }
      ]
    },
    {
      "cell_type": "markdown",
      "metadata": {
        "id": "GTy9uGR5NJnB"
      },
      "source": [
        "The coefficients in the inverse matrices are very close. As per our diagram, we can see that the colors are very similar across all the inverse matrices in the common squares. \n",
        "\n",
        "This is because we approximate the inverse by effectively taking a least squares and then deriving what the closest value would be to an actual inverse of the matrix. Hence that is why all the values seem so close."
      ]
    }
  ]
}