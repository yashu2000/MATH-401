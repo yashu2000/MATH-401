{
  "nbformat": 4,
  "nbformat_minor": 0,
  "metadata": {
    "colab": {
      "name": "MATH 401 Markov Chains Project.ipynb",
      "provenance": [],
      "collapsed_sections": []
    },
    "kernelspec": {
      "name": "python3",
      "display_name": "Python 3"
    },
    "language_info": {
      "name": "python"
    }
  },
  "cells": [
    {
      "cell_type": "markdown",
      "metadata": {
        "id": "YNbkhhaku6WI"
      },
      "source": [
        "## **Description**"
      ]
    },
    {
      "cell_type": "markdown",
      "metadata": {
        "id": "KzOCG8O1vCpU"
      },
      "source": [
        "Analyze a **Markov Chain** that models an epidemic.  You will find the steady state solution two ways, by calculation and by eigenvectors.  Also you will compare the short term behavior to the long term behavior.\n",
        "\n",
        "Let's imagine a future where there are three colonies on the moon:  **Artemis**, **Luna**, **Selene**\n",
        "\n",
        "The probability vector gives the probability of disease in each of the three colonies.  \n",
        "\n",
        "$\\begin{pmatrix}0.5 \\\\ 0.2 \\\\ 0.7 \\end{pmatrix}$ means that in Artemis the probability is 0.5, in Luna the probability is 0.2, on Selene the probability is 0.7\n",
        "\n",
        "The transition matrix determines how the probabilities change every day.\n",
        "\n",
        "Go to this cloud page to find your transition matrix A and the number n which you need for question 2."
      ]
    },
    {
      "cell_type": "code",
      "metadata": {
        "id": "hksGF-Blw3d5"
      },
      "source": [
        "import numpy as np\n",
        "import matplotlib.pyplot as plt"
      ],
      "execution_count": 83,
      "outputs": []
    },
    {
      "cell_type": "markdown",
      "metadata": {
        "id": "fnv3rrIiv9SN"
      },
      "source": [
        "## **1)**\n",
        "\n",
        "Use the powering trick to compute  $X_2=A^2$ , $X_4=A^4$ , $X_8=A^8$ ,  $X_{16}=A^{16}$ ,  $X_{32}=A^{32}$ , and $X_{64}=A^{64}$.   It is recommended to use technology for the dot product (for this step just use ordinary matrix multiplication with technology, do not use MatrixPower).  Don't use more than six matrix multiplications."
      ]
    },
    {
      "cell_type": "markdown",
      "metadata": {
        "id": "DJS6Hu8Fikbz"
      },
      "source": [
        "***NOTE:*** Each vector is represented as a 1-D array within the matrix. Hence the rows and columns are visually flipped. This is done s.t. we have consistency when we execute our dot products. "
      ]
    },
    {
      "cell_type": "code",
      "metadata": {
        "colab": {
          "base_uri": "https://localhost:8080/",
          "height": 0
        },
        "id": "z0IW_Ye8lRR6",
        "outputId": "de406f7c-9370-4b67-9e38-b161f4b30c37"
      },
      "source": [
        "A = [[0.97, 0.03, 0], [0, 0.93, 0.07], [0.07, 0, 0.93]]\n",
        "A = np.array([np.array(x) for x in A])\n",
        "print(A)"
      ],
      "execution_count": 84,
      "outputs": [
        {
          "output_type": "stream",
          "text": [
            "[[0.97 0.03 0.  ]\n",
            " [0.   0.93 0.07]\n",
            " [0.07 0.   0.93]]\n"
          ],
          "name": "stdout"
        }
      ]
    },
    {
      "cell_type": "code",
      "metadata": {
        "colab": {
          "base_uri": "https://localhost:8080/",
          "height": 0
        },
        "id": "jsyLIVt4w2A8",
        "outputId": "c0392c3b-b560-4d3e-b765-3ad932d2e5b9"
      },
      "source": [
        "X_2 = A.dot(A)\n",
        "print(X_2)"
      ],
      "execution_count": 85,
      "outputs": [
        {
          "output_type": "stream",
          "text": [
            "[[0.9409 0.057  0.0021]\n",
            " [0.0049 0.8649 0.1302]\n",
            " [0.133  0.0021 0.8649]]\n"
          ],
          "name": "stdout"
        }
      ]
    },
    {
      "cell_type": "code",
      "metadata": {
        "colab": {
          "base_uri": "https://localhost:8080/",
          "height": 0
        },
        "id": "Ds5yKVLIw_oA",
        "outputId": "4586b17d-6565-4c18-bd26-0d6cbfe63f71"
      },
      "source": [
        "X_4 = X_2.dot(X_2)\n",
        "print(X_4)"
      ],
      "execution_count": 86,
      "outputs": [
        {
          "output_type": "stream",
          "text": [
            "[[0.88585141 0.10293501 0.01121358]\n",
            " [0.02616502 0.74860473 0.22523025]\n",
            " [0.24018169 0.01121358 0.74860473]]\n"
          ],
          "name": "stdout"
        }
      ]
    },
    {
      "cell_type": "code",
      "metadata": {
        "colab": {
          "base_uri": "https://localhost:8080/",
          "height": 0
        },
        "id": "wHQ_s43LxJuF",
        "outputId": "eb19dc76-1620-4978-c7db-8b550512365c"
      },
      "source": [
        "X_8 = X_4.dot(X_4)\n",
        "print(X_8)"
      ],
      "execution_count": 87,
      "outputs": [
        {
          "output_type": "stream",
          "text": [
            "[[0.79011931 0.1683685  0.04151218]\n",
            " [0.09686176 0.56562798 0.33751026]\n",
            " [0.39285984 0.04151218 0.56562798]]\n"
          ],
          "name": "stdout"
        }
      ]
    },
    {
      "cell_type": "code",
      "metadata": {
        "colab": {
          "base_uri": "https://localhost:8080/",
          "height": 0
        },
        "id": "ZERpINhnxakU",
        "outputId": "39725ab1-874d-404e-9b67-a898e3a00895"
      },
      "source": [
        "X_16 = X_8.dot(X_8)\n",
        "print(X_16)"
      ],
      "execution_count": 88,
      "outputs": [
        {
          "output_type": "stream",
          "text": [
            "[[0.65690547 0.2299884  0.11310613]\n",
            " [0.2639143  0.35025426 0.38583144]\n",
            " [0.53663961 0.11310613 0.35025426]]\n"
          ],
          "name": "stdout"
        }
      ]
    },
    {
      "cell_type": "code",
      "metadata": {
        "colab": {
          "base_uri": "https://localhost:8080/",
          "height": 0
        },
        "id": "LpaWKNe5xdlr",
        "outputId": "6aa63274-4410-47cc-b1f4-040d5c8cdee8"
      },
      "source": [
        "X_32 = X_16.dot(X_16)\n",
        "print(X_32)"
      ],
      "execution_count": 89,
      "outputs": [
        {
          "output_type": "stream",
          "text": [
            "[[0.55291925 0.24442806 0.20265269]\n",
            " [0.47285629 0.22701518 0.30012854]\n",
            " [0.57033213 0.20265269 0.22701518]]\n"
          ],
          "name": "stdout"
        }
      ]
    },
    {
      "cell_type": "code",
      "metadata": {
        "colab": {
          "base_uri": "https://localhost:8080/",
          "height": 0
        },
        "id": "3T9jJowUxk1A",
        "outputId": "299daf66-413c-4df7-cddc-80d974f786da"
      },
      "source": [
        "X_64 = X_32.dot(X_32)\n",
        "print(X_64)"
      ],
      "execution_count": 91,
      "outputs": [
        {
          "output_type": "stream",
          "text": [
            "[[0.53687838 0.23170597 0.23141565]\n",
            " [0.53996984 0.22793709 0.23209307]\n",
            " [0.54064726 0.23141565 0.22793709]]\n"
          ],
          "name": "stdout"
        }
      ]
    },
    {
      "cell_type": "markdown",
      "metadata": {
        "id": "4nHWm4oq23ZH"
      },
      "source": [
        "### Describe how close these matrices are each other.  Try to give a numerical measure of closeness."
      ]
    },
    {
      "cell_type": "markdown",
      "metadata": {
        "id": "0ySIB81YW5Hv"
      },
      "source": [
        "The initial matrices, $A$ & $X_2$ are very close to each other. But as we continuously dot matrices with themselves, the further we get from $A$ and every other matrix within our \"series\" of matrices.\n",
        "\n",
        "However, eventually our matrices start to converge, hence the differences between matrix $X_{32}$ & $X_{64}$ is far more miniscule than the difference between $A$ & $X_2$\n",
        "\n",
        "The greatest difference we observe is between matrices $X_4$ and $X_8$.\n",
        "\n",
        "Shown below is the evolution of the difference between each matrix."
      ]
    },
    {
      "cell_type": "code",
      "metadata": {
        "colab": {
          "base_uri": "https://localhost:8080/",
          "height": 0
        },
        "id": "F6x_fVDfjFXo",
        "outputId": "a104b58c-d568-477b-d5d2-015adc07d649"
      },
      "source": [
        "print('Difference between A & X2: {}'.format(np.linalg.norm(X_2) - np.linalg.norm(A)))\n",
        "print('Difference between X2 & X4: {}'.format(np.linalg.norm(X_4) - np.linalg.norm(X_2)))\n",
        "print('Difference between X4 & X8: {}'.format(np.linalg.norm(X_8) - np.linalg.norm(X_4)))\n",
        "print('Difference between X8 & X16: {}'.format(np.linalg.norm(X_16) - np.linalg.norm(X_8)))\n",
        "print('Difference between X16 & X32: {}'.format(np.linalg.norm(X_32) - np.linalg.norm(X_16)))\n",
        "print('Difference between X32 & X64: {}'.format(np.linalg.norm(X_64) - np.linalg.norm(X_32)))"
      ],
      "execution_count": 105,
      "outputs": [
        {
          "output_type": "stream",
          "text": [
            "Difference between A & X2: -0.08208184506212857\n",
            "Difference between X2 & X4: -0.1322161807759772\n",
            "Difference between X4 & X8: -0.16877300378268822\n",
            "Difference between X8 & X16: -0.1311015183672224\n",
            "Difference between X16 & X32: -0.03262772791063617\n",
            "Difference between X32 & X64: 0.0004837359262186425\n"
          ],
          "name": "stdout"
        }
      ]
    },
    {
      "cell_type": "markdown",
      "metadata": {
        "id": "Nw9P2JtP-5MY"
      },
      "source": [
        "## **2)**\n",
        "\n",
        "Use A, X2, X4, X8, and X16 to compute An where n is given on the cloud page, using the second part of the powering trick.\n",
        "\n",
        "**n = 22**"
      ]
    },
    {
      "cell_type": "markdown",
      "metadata": {
        "id": "i3U0zMQL_VhS"
      },
      "source": [
        "22 can be broken into summation of {1,2,4,8,16,32,64}\n",
        "\n",
        "22 = 16 + 4 + 2\n",
        "\n",
        "Hence we will multiply $X_{16}, X_4, X_2$ together to produce $X_{22}$"
      ]
    },
    {
      "cell_type": "code",
      "metadata": {
        "colab": {
          "base_uri": "https://localhost:8080/",
          "height": 0
        },
        "id": "2_bAXKKq_Hde",
        "outputId": "9a5125dc-8f40-4f0b-dc5e-fed773de0aca"
      },
      "source": [
        "X_22 = X_16.dot(X_4.dot(X_2))\n",
        "print(X_22)"
      ],
      "execution_count": 92,
      "outputs": [
        {
          "output_type": "stream",
          "text": [
            "[[0.59906333 0.24385347 0.1570832 ]\n",
            " [0.36652747 0.27392537 0.35954715]\n",
            " [0.56899142 0.1570832  0.27392537]]\n"
          ],
          "name": "stdout"
        }
      ]
    },
    {
      "cell_type": "markdown",
      "metadata": {
        "id": "IoE6oUrQ_yu1"
      },
      "source": [
        "## **3)**\n",
        "\n",
        "On $day=0$, the initial probabilities for the disease is $\\begin{pmatrix} 0.5\\\\ 0 \\\\ 0 \\end{pmatrix}$ because the disease originated in Artemis."
      ]
    },
    {
      "cell_type": "markdown",
      "metadata": {
        "id": "AEtlGDz2C8vR"
      },
      "source": [
        "### **a)**\n",
        "\n",
        "Calculate the disease probabilities for the first 3 days after $day=0$.  Make a timeseries plot."
      ]
    },
    {
      "cell_type": "code",
      "metadata": {
        "id": "P1n2WWXtDGIK"
      },
      "source": [
        "day0 = np.array([0.5, 0, 0])\n",
        "day1 = A.dot(day0)\n",
        "day2 = X_2.dot(day0)\n",
        "day3 = A.dot(day2)"
      ],
      "execution_count": 93,
      "outputs": []
    },
    {
      "cell_type": "code",
      "metadata": {
        "colab": {
          "base_uri": "https://localhost:8080/",
          "height": 312
        },
        "id": "QUVs-hOTDYxu",
        "outputId": "dcce0cf3-be20-452d-e91b-306f72ddcb47"
      },
      "source": [
        "artemis = [day0[0], day1[0], day2[0], day3[0]]\n",
        "luna = [day0[1], day1[1], day2[1], day3[1]]\n",
        "selene = [day0[2], day1[2], day2[2], day3[2]]\n",
        "days = [0, 1,2,3]\n",
        "fig, axis = plt.subplots()\n",
        "axis.plot(days, artemis, '-b', label='Artemis')\n",
        "axis.plot(days, luna, '-r', label='Luna')\n",
        "axis.plot(days, selene, '-g', label='Selene')\n",
        "axis.set_xlabel('Days')\n",
        "axis.set_ylabel('Disease Probabilities')\n",
        "axis.set_title('Disease Probabilities Over Time')\n",
        "axis.legend(loc='center right', frameon=True)"
      ],
      "execution_count": 94,
      "outputs": [
        {
          "output_type": "execute_result",
          "data": {
            "text/plain": [
              "<matplotlib.legend.Legend at 0x7f2c17d460d0>"
            ]
          },
          "metadata": {
            "tags": []
          },
          "execution_count": 94
        },
        {
          "output_type": "display_data",
          "data": {
            "image/png": "[encoded data removed]",
            "text/plain": [
              "<Figure size 432x288 with 1 Axes>"
            ]
          },
          "metadata": {
            "tags": [],
            "needs_background": "light"
          }
        }
      ]
    },
    {
      "cell_type": "markdown",
      "metadata": {
        "id": "rm172qCWJq7Z"
      },
      "source": [
        "### **b)**\n",
        "\n",
        "Calculate the disease probabilities for $day=n$ using your result for $A^n$\n",
        "\n",
        "**n = 22**"
      ]
    },
    {
      "cell_type": "code",
      "metadata": {
        "colab": {
          "base_uri": "https://localhost:8080/",
          "height": 0
        },
        "id": "EsJCrIB-EP-g",
        "outputId": "7ce852d4-ac21-465c-c624-f3a269ed7408"
      },
      "source": [
        "day22 = X_22.dot(day0)\n",
        "print(day22)"
      ],
      "execution_count": 95,
      "outputs": [
        {
          "output_type": "stream",
          "text": [
            "[0.29953167 0.18326374 0.28449571]\n"
          ],
          "name": "stdout"
        }
      ]
    },
    {
      "cell_type": "markdown",
      "metadata": {
        "id": "Q1QEJ6miKrVM"
      },
      "source": [
        "### **c)**\n",
        "\n",
        "Calculate the dominant eigenvector v for A (It is recommended to use technology, but since it is 3x3 this is feasible by hand.  Much easier with technology.)  Give your answer as a probability vector."
      ]
    },
    {
      "cell_type": "code",
      "metadata": {
        "colab": {
          "base_uri": "https://localhost:8080/",
          "height": 0
        },
        "id": "QfD0FfUgJ76q",
        "outputId": "43f3ccc0-e5b1-4754-8fdc-a0447e80febc"
      },
      "source": [
        "eig_vals, eig_vecs = np.linalg.eig(A)\n",
        "print(eig_vals)\n",
        "print('------------------------------')\n",
        "print(eig_vecs)"
      ],
      "execution_count": 96,
      "outputs": [
        {
          "output_type": "stream",
          "text": [
            "[1.   +0.j         0.915+0.04330127j 0.915-0.04330127j]\n",
            "------------------------------\n",
            "[[ 0.57735027+0.j          0.26519929+0.20879029j  0.26519929-0.20879029j]\n",
            " [ 0.57735027+0.j         -0.78756153+0.j         -0.78756153-0.j        ]\n",
            " [ 0.57735027+0.j          0.16876319-0.48717735j  0.16876319+0.48717735j]]\n"
          ],
          "name": "stdout"
        }
      ]
    },
    {
      "cell_type": "code",
      "metadata": {
        "colab": {
          "base_uri": "https://localhost:8080/",
          "height": 0
        },
        "id": "QfzCVl8wVQ1K",
        "outputId": "9d9573a6-694d-48ae-f82e-339f7874f4c7"
      },
      "source": [
        "dominant_eig_vec = eig_vecs[:,0].real\n",
        "print('Dominant Eigenvector is: {}'.format(dominant_eig_vec))"
      ],
      "execution_count": 97,
      "outputs": [
        {
          "output_type": "stream",
          "text": [
            "Dominant Eigenvector is: [0.57735027 0.57735027 0.57735027]\n"
          ],
          "name": "stdout"
        }
      ]
    },
    {
      "cell_type": "markdown",
      "metadata": {
        "id": "FzJlfWihOOi3"
      },
      "source": [
        "### **d)**\n",
        "\n",
        "Compare (3a)+(3b)+(3c). Explain similarities and differences.  Are any of these truly equal?"
      ]
    },
    {
      "cell_type": "code",
      "metadata": {
        "colab": {
          "base_uri": "https://localhost:8080/",
          "height": 0
        },
        "id": "xTEYsTlZUd2f",
        "outputId": "cc7d7bdf-eb4a-45f7-8644-f1c302687a0e"
      },
      "source": [
        "print('day 0: {}'.format(day0))\n",
        "print('day 1: {}'.format(day1))\n",
        "print('day 2: {}'.format(day2))\n",
        "print('day 3: {}'.format(day3))\n",
        "print('day 22: {}'.format(day22))\n",
        "print('Dominant Eigenvector: {}'.format(dominant_eig_vec))"
      ],
      "execution_count": 98,
      "outputs": [
        {
          "output_type": "stream",
          "text": [
            "day 0: [0.5 0.  0. ]\n",
            "day 1: [0.485 0.    0.035]\n",
            "day 2: [0.47045 0.00245 0.0665 ]\n",
            "day 3: [0.45641   0.0069335 0.0947765]\n",
            "day 22: [0.29953167 0.18326374 0.28449571]\n",
            "Dominant Eigenvector: [0.57735027 0.57735027 0.57735027]\n"
          ],
          "name": "stdout"
        }
      ]
    },
    {
      "cell_type": "markdown",
      "metadata": {
        "id": "Kp4VjOTcUarq"
      },
      "source": [
        "The first 3 day vectors, day 0 through day 3, are very similar. As we transition from state to state, the probability of disease in colony Artemis subsides as the probability of disease in colonies Selene and Luna increase.\n",
        "\n",
        "The more we transition away from day 0 via our transition matrix A, the less similar we are to the earlier vectors. Hence, day1 vector and day22 vectors are not similar as we have transitioned greatly over that time period.\n",
        "\n",
        "Shown below is the evolution of the transitions up until day 22. Each time/day slice is the vector hence, we are seeing the evolution of the components."
      ]
    },
    {
      "cell_type": "code",
      "metadata": {
        "colab": {
          "base_uri": "https://localhost:8080/",
          "height": 312
        },
        "id": "WvzL_36Cez4f",
        "outputId": "e2022b8a-adfb-41ae-af8c-80f8258ecee8"
      },
      "source": [
        "days = [x for x in range(23)]\n",
        "artemis = []\n",
        "luna = []\n",
        "selene = []\n",
        "dayt = day0.copy()\n",
        "for day in days:\n",
        "  artemis.append(dayt[0])\n",
        "  luna.append(dayt[1])\n",
        "  selene.append(dayt[2])\n",
        "  dayt = A.dot(dayt)\n",
        "\n",
        "fig, axis = plt.subplots()\n",
        "axis.plot(days, artemis, '-b', label='Artemis')\n",
        "axis.plot(days, luna, '-r', label='Luna')\n",
        "axis.plot(days, selene, '-g', label='Selene')\n",
        "axis.set_xlabel('Days')\n",
        "axis.set_ylabel('Disease Probabilities')\n",
        "axis.set_title('Disease Probabilities Over Time')\n",
        "axis.legend(loc='center right', frameon=True)"
      ],
      "execution_count": 102,
      "outputs": [
        {
          "output_type": "execute_result",
          "data": {
            "text/plain": [
              "<matplotlib.legend.Legend at 0x7f2c136f3d50>"
            ]
          },
          "metadata": {
            "tags": []
          },
          "execution_count": 102
        },
        {
          "output_type": "display_data",
          "data": {
            "image/png": "[encoded data removed]",
            "text/plain": [
              "<Figure size 432x288 with 1 Axes>"
            ]
          },
          "metadata": {
            "tags": [],
            "needs_background": "light"
          }
        }
      ]
    },
    {
      "cell_type": "markdown",
      "metadata": {
        "id": "uw4-xccIg0IL"
      },
      "source": [
        "Hence, we can say that the first few vectors, day 0-3, are relatively similar, but as we get further into our transitions we start to converge to a different vector that is not similar to them. The day 22 vector is wildly different as compared to the day 0-3 vectors.\n",
        "\n",
        "By effect, we know that the transition matrix A is pushing the probability vector to the dominant eigenvector. This is done as we continuously multiply the transition matrix to the original probability vector."
      ]
    },
    {
      "cell_type": "markdown",
      "metadata": {
        "id": "JZUEcie5iMwM"
      },
      "source": [
        "### **e)**\n",
        "\n",
        "Write the 3x3 matrix where each column is the vector from (3c)."
      ]
    },
    {
      "cell_type": "code",
      "metadata": {
        "colab": {
          "base_uri": "https://localhost:8080/",
          "height": 0
        },
        "id": "JSEi4vLgiRz5",
        "outputId": "f82334d1-f610-418d-d91a-34f934480148"
      },
      "source": [
        "vec1 = eig_vecs[:,0]\n",
        "vec2 = eig_vecs[:,1]\n",
        "vec3 = eig_vecs[:,2]\n",
        "equiv_mtrx = np.array([vec1, vec2, vec3])\n",
        "print(equiv_mtrx)"
      ],
      "execution_count": 103,
      "outputs": [
        {
          "output_type": "stream",
          "text": [
            "[[ 0.57735027+0.j          0.57735027+0.j          0.57735027+0.j        ]\n",
            " [ 0.26519929+0.20879029j -0.78756153+0.j          0.16876319-0.48717735j]\n",
            " [ 0.26519929-0.20879029j -0.78756153-0.j          0.16876319+0.48717735j]]\n"
          ],
          "name": "stdout"
        }
      ]
    },
    {
      "cell_type": "markdown",
      "metadata": {
        "id": "1Mu8AQdzkW0b"
      },
      "source": [
        "### **f)**\n",
        "\n",
        "Compare the result in (3e) with A64 and explain any similarities or differences. "
      ]
    },
    {
      "cell_type": "code",
      "metadata": {
        "colab": {
          "base_uri": "https://localhost:8080/",
          "height": 0
        },
        "id": "X_VSlR9uihFV",
        "outputId": "d0a27577-be4e-4928-eab0-34cc36c4a909"
      },
      "source": [
        "np.linalg.norm(equiv_mtrx) - np.linalg.norm(X_64)"
      ],
      "execution_count": 109,
      "outputs": [
        {
          "output_type": "execute_result",
          "data": {
            "text/plain": [
              "0.6408692559393696"
            ]
          },
          "metadata": {
            "tags": []
          },
          "execution_count": 109
        }
      ]
    },
    {
      "cell_type": "markdown",
      "metadata": {
        "id": "Nw5fnA8Ekmp8"
      },
      "source": [
        "The difference between the eigenvector matrix and the $X_{64}$ matrix are larger than the differences between any other matrix we observed earlier. "
      ]
    },
    {
      "cell_type": "markdown",
      "metadata": {
        "id": "tmrtXX-6lZ4U"
      },
      "source": [
        "## **4)**\n",
        "\n",
        "What is your long term prediction?  Explain in terms of your results in question (3)."
      ]
    },
    {
      "cell_type": "markdown",
      "metadata": {
        "id": "qK9V7_n7llcW"
      },
      "source": [
        "My long term prediction is that eventually the Transition Matrix will converge to the eigenvalue matrix and that eventually the disease vector will converge to the dominant eigenvector of our Transition Matrix.\n",
        "\n",
        "We can see from our graph in 3d that there is convergence happening for the disease vector to our dominant eigen vector.\n",
        "\n",
        "By observing that math we are conducting, it is also clear that when we multiply our transition matrix to itself thousands of times, the matrix itself is converging to the eigenmatrix produced. Hence over time we will see convergence of our transition matrix to our eigenmatrix."
      ]
    }
  ]
}