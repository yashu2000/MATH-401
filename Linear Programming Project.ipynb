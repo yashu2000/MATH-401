{
 "cells": [
  {
   "cell_type": "code",
   "execution_count": 14,
   "id": "concerned-adrian",
   "metadata": {},
   "outputs": [],
   "source": [
    "import numpy as np\n",
    "import pandas as pd\n",
    "import matplotlib.pyplot as plt\n",
    "from scipy.optimize import linprog as lp"
   ]
  },
  {
   "cell_type": "markdown",
   "id": "terminal-concern",
   "metadata": {},
   "source": [
    "### General Comments"
   ]
  },
  {
   "cell_type": "markdown",
   "id": "combined-morocco",
   "metadata": {},
   "source": [
    "**Name:** Yashaswi Sharma\n",
    "\n",
    "**UID:** 116245821\n",
    "\n",
    "**email:** ysharma2@terpmail.umd.edu\n",
    "\n",
    "Please find that I have labelled each problem with the problem number in parantheses. \n",
    "\n",
    "For example, for problem 1, I have the title \"Imagine that your...each serving. (1)\". Here the \"(1)\" is the problem number. "
   ]
  },
  {
   "cell_type": "markdown",
   "id": "monetary-flush",
   "metadata": {},
   "source": [
    "# Choose a Diet with Linear Programming"
   ]
  },
  {
   "cell_type": "markdown",
   "id": "expensive-robert",
   "metadata": {},
   "source": [
    "## Imagine that your grocery store carries 25 foods.   The data is below.  It gives the fraction of the daily recommendation in one serving of food for 18 vitamins and minerals.  Also given is the cost of each serving, and the calories of each serving. (1)"
   ]
  },
  {
   "cell_type": "markdown",
   "id": "binding-headset",
   "metadata": {},
   "source": [
    "Pick 6-8 foods that you like to eat out of the 25.  For each of these parts in this question, find the optimum amount of each food using Linear Programming.\n",
    "\n",
    "Each of these problems comes with the constraints: Your daily diet needs to get at least 100%=1 of each nutrient.  Your budget is $20  and the most you can eat is 9 servings of any particular item."
   ]
  },
  {
   "cell_type": "code",
   "execution_count": 26,
   "id": "military-spencer",
   "metadata": {},
   "outputs": [
    {
     "name": "stdout",
     "output_type": "stream",
     "text": [
      "(8, 18)\n",
      "(8,)\n",
      "(8,)\n",
      "['Ice Cream', 'Corn', 'Chili', 'Pear', 'Soybean', 'Asparagus', 'Eggplant', 'Peanut Butter']\n"
     ]
    }
   ],
   "source": [
    "foods = [\"Ice Cream\", \"Corn\", \"Chili\", \"Pear\", \"Soybean\", \"Asparagus\", \"Eggplant\", \"Peanut Butter\", \"Persimmon\", \"Broccoli\", \"Cabbage\", \"Green Peas\", \"Nuts\", \"KFC\", \"Taco\", \"Turkey\", \"Cottage Cheese\", \"Cake\", \"Chicken\",  \"Fish\", \"Chickpeas\", \"Beef\", \"Grapefruit\", \"Pancakes\", \"Oatmeal Cookie\"]\n",
    "costs = [2.5, .6, 1.12, .4, 1., .58, .75, .62, 5., .76, .58, .57, .84,1.36, 1.19, .36, 1.14, 1., .4, 1.14, .22, 1.14, .36, .58, 1.96]\n",
    "calories = [249, 365, 157, 29, 122, 22, 33, 590, 70, 29, 25, 68, 619, 269, 189, 120, 72, 418, 176, 195, 378, 254, 37, 194, 406]\n",
    "\n",
    "nutrition = [[0.05, 0.04, 0.04, 0.06, 0.12, 0.03, 0.15, 0.04, 0., 0.03, 0.01, \n",
    "  0.03, 0.05, 0.06, 0.73, 0.03, 0.13, 0.16], [0.08, 0.34, 0.2, 0.28, \n",
    "  0.01, 0.32, 0.3, 0.02, 0.21, 0., 0.23, 0.48, 0., 0.17, 0., 0.32, \n",
    "  0.15, 0.], [0.09, 0.18, 0.2, 0.24, 0.03, 0.04, 0.15, 0.25, 0.04, \n",
    "  0.08, 0.22, 0.25, 0., 0.22, 1.6, 0.03, 0.16, 0.52], [0.02, 0.03, \n",
    "  0.01, 0., 0., 0.01, 0.01, 0., 0.01, 0.01, 0., 0.01, 0.01, 0., 0., \n",
    "  0.01, 0.01, 0.], [0.14, 0.26, 0.11, 0.01, 0.07, 0.18, 0.23, 0.01, \n",
    "  0.31, 0., 0.07, 0.14, 0., 0.23, 0.01, 0.28, 0.09, 0.], [0.07, 0.11, \n",
    "  0.05, 0.11, 0.02, 0.04, 0.08, 0.16, 0.07, 0.1, 0.07, 0.06, 0.05, \n",
    "  0.04, 1.12, 0.14, 0.11, 0.], [0.04, 0.03, 0.01, 0., 0.01, 0.03, \n",
    "  0.02, 0.16, 0.05, 0.03, 0.04, 0.07, 0.02, 0.01, 0.04, 0.06, 0.02, \n",
    "  0.], [0.22, 0.24, 0.25, 0.14, 0.04, 0.4, 0.45, 0.14, 0., 0.6, 0.86, \n",
    "  0.35, 0.12, 0.43, 0., 0.1, 0.08, 0.], [0.05, 0.02, 0.01, 0.01, 0.01,\n",
    "   0.02, 0.02, 0., 0.15, 0.05, 0.01, 0.08, 0.01, 0.01, 1.81, 0.02, \n",
    "  0.02, 0.], [0.07, 0.09, 0.03, 0.03, 0.04, 0.04, 0.08, 0.01, 0.11, \n",
    "  0.09, 0.03, 0.13, 0., 0.05, 1.26, 0.06, 0.09, 0.], [0.05, 0.06, \n",
    "  0.02, 0.01, 0.04, 0.03, 0.04, 0.01, 0.07, 0.01, 0.01, 0.1, 0.02, \n",
    "  0.02, 0.11, 0.05, 0.03, 0.], [0.03, 0.15, 0.06, 0.03, 0.02, 0.04, \n",
    "  0.1, 0.18, 0.09, 0.03, 0.06, 0.04, 0.05, 0.08, 0.96, 0.09, 0.04, \n",
    "  0.], [0.15, 0.39, 0.31, 0.31, 0.06, 0.5, 0.73, 0., 1.69, 0.14, 0.03,\n",
    "   0.45, 0.06, 0.43, 0.04, 0.05, 0.1, 0.], [0.07, 0.11, 0.13, 0.43, \n",
    "  0.06, 0.06, 0.33, 0.52, 0.07, 0.05, 0.35, 0.11, 0.12, 0.34, 0.06, \n",
    "  0.07, 0.2, 0.17], [0.06, 0.2, 0.07, 0.23, 0.12, 0.06, 0.35, 0.41, \n",
    "  0.11, 0.02, 0.32, 0.08, 0., 0.24, 0.03, 0.13, 0.08, 0.05], [0.11, \n",
    "  0.26, 0.17, 0.48, 0., 0.05, 0.23, 0.45, 0.01, 0., 0.28, 0.29, 0., \n",
    "  0.31, 0., 0.03, 0.09, 0.15], [0.04, 0.02, 0.04, 0.17, 0.09, 0.03, \n",
    "  0.27, 0.25, 0.01, 0., 0.01, 0.01, 0.03, 0.18, 0.01, 0.02, 0.17, \n",
    "  0.19], [0.04, 0.24, 0.07, 0.31, 0.05, 0.06, 0.15, 0.23, 0.2, 0., \n",
    "  0.1, 0.02, 0., 0.12, 0.12, 0.17, 0.18, 0.08], [0.08, 0.16, 0.17, \n",
    "  0.53, 0.01, 0.06, 0.29, 0.05, 0.01, 0.01, 0.36, 0.34, 0.12, 0.44, \n",
    "  0.03, 0.07, 0.14, 0.18], [0.12, 0.14, 0.05, 0.66, 0.08, 0.08, 0.33, \n",
    "  0.05, 0.02, 0., 0.14, 0.35, 0., 0.29, 0.12, 0.05, 0.15, \n",
    "  4.17], [0.21, 0.54, 0.25, 0., 0.06, 0.2, 0.36, 0.02, 9.26, 0.05, \n",
    "  0.1, 0.41, 0.18, 0.37, 0.07, 0.4, 0.16, 0.], [0.08, 0.24, 0.38, \n",
    "  0.27, 0.02, 0.04, 0.23, 0.04, 0., 0.01, 0.26, 0.25, 0.1, 0.31, 0.02,\n",
    "   0.04, 0.12, 0.89], [0.04, 0.01, 0.01, 0., 0.01, 0.02, 0.02, 0., \n",
    "  0.01, 0., 0.01, 0.03, 0., 0.01, 0.29, 0.03, 0.02, 0.], [0.05, 0.2, \n",
    "  0.04, 0.25, 0.13, 0.05, 0.48, 0.42, 0.12, 0., 0.11, 0.07, 0.03, \n",
    "  0.09, 0.04, 0.18, 0.17, 0.08], [0.08, 0.3, 0., 0., 0.04, 0., 0., \n",
    "  0.23, 0., 0., 0.11, 0., 0., 0.09, 0.02, 0.23, 0.12, 0.]]\n",
    "\n",
    "costs = np.array(costs)\n",
    "calo = np.array(calories)\n",
    "nutri = np.array(nutrition)\n",
    "\n",
    "# our foods chosen will be just the first 7\n",
    "nutri = nutri[:8]\n",
    "costs = costs[:8]\n",
    "calo = calo[:8]\n",
    "foods = foods[:8]\n",
    "print(nutri.shape)\n",
    "print(costs.shape)\n",
    "print(calo.shape)\n",
    "print(foods)\n",
    "\n"
   ]
  },
  {
   "cell_type": "markdown",
   "id": "limited-fundamentals",
   "metadata": {},
   "source": [
    "### You want to maximize healthy nutrients = sum of the vitamins and minerals. How much do you eat of each food, how much does it cost, and what is the total nutrition? (a)"
   ]
  },
  {
   "cell_type": "code",
   "execution_count": 85,
   "id": "governmental-scholar",
   "metadata": {},
   "outputs": [],
   "source": [
    "c = []\n",
    "for food in nutri:\n",
    "    c.append(food.sum())\n",
    "c = np.array(c)\n",
    "\n",
    "nutri_sum = c.copy() # USED FOR LATER TO CALCULATE NET NUTRITION\n",
    "\n",
    "bounds = [(0,9) for x in range(8)]\n",
    "nutri_constr = []\n",
    "for i in range(18):\n",
    "    nutri_constr.append(-nutri[:,i])\n",
    "A_ub = [costs]\n",
    "A_ub.extend(nutri_constr)\n",
    "b_ub = [20]\n",
    "b_ub.extend(-np.ones(18))"
   ]
  },
  {
   "cell_type": "code",
   "execution_count": 86,
   "id": "fifth-thursday",
   "metadata": {},
   "outputs": [
    {
     "data": {
      "text/plain": [
       "     con: array([], dtype=float64)\n",
       "     fun: -90.06648557673012\n",
       " message: 'Optimization terminated successfully.'\n",
       "     nit: 9\n",
       "   slack: array([ 6.32098818e-11,  2.83579808e+00,  6.28421154e+00,  4.14099519e+00,\n",
       "        3.21021635e+00, -7.67719222e-12,  6.71547115e+00,  7.55856250e+00,\n",
       "        9.84322115e-01,  3.08667308e+00,  4.55384615e+00,  9.64510577e+00,\n",
       "        7.76752885e+00,  8.00000000e-02,  6.39061538e+00,  2.14777404e+00,\n",
       "        4.70475000e+00,  1.96061538e+00,  1.08935083e-11])\n",
       "  status: 0\n",
       " success: True\n",
       "       x: array([4.17691725e-12, 8.63509615e+00, 1.92307692e+00, 1.46672845e-11,\n",
       "       7.08509615e+00, 1.39765346e-10, 8.43396337e-12, 9.00000000e+00])"
      ]
     },
     "execution_count": 86,
     "metadata": {},
     "output_type": "execute_result"
    }
   ],
   "source": [
    "res = lp(-c, A_ub=A_ub, b_ub=b_ub, bounds=bounds)\n",
    "res"
   ]
  },
  {
   "cell_type": "code",
   "execution_count": 87,
   "id": "urban-quarterly",
   "metadata": {},
   "outputs": [
    {
     "name": "stdout",
     "output_type": "stream",
     "text": [
      "Food Group Ice Cream eat amount 4.176917248861946e-12\n",
      "Food Group Corn eat amount 8.635096153801756\n",
      "Food Group Chili eat amount 1.923076923096587\n",
      "Food Group Pear eat amount 1.466728452598493e-11\n",
      "Food Group Soybean eat amount 7.085096153712395\n",
      "Food Group Asparagus eat amount 1.3976534630789584e-10\n",
      "Food Group Eggplant eat amount 8.433963373841575e-12\n",
      "Food Group Peanut Butter eat amount 8.999999999953976\n"
     ]
    }
   ],
   "source": [
    "for i in range(len(foods)):\n",
    "    print('Food Group {} eat amount {}'.format(foods[i], res['x'][i]))"
   ]
  },
  {
   "cell_type": "code",
   "execution_count": 88,
   "id": "alpha-video",
   "metadata": {},
   "outputs": [
    {
     "name": "stdout",
     "output_type": "stream",
     "text": [
      "The Total Cost of this Diet Plan: 19.99999999993679\n"
     ]
    }
   ],
   "source": [
    "sum_cost = costs.dot(res['x'])\n",
    "print('The Total Cost of this Diet Plan: {}'.format(sum_cost))"
   ]
  },
  {
   "cell_type": "code",
   "execution_count": 89,
   "id": "eligible-jerusalem",
   "metadata": {},
   "outputs": [
    {
     "name": "stdout",
     "output_type": "stream",
     "text": [
      "The Total Nutrition of this Diet Plan 90.06648557673012\n"
     ]
    }
   ],
   "source": [
    "print('The Total Nutrition of this Diet Plan {}'.format(c.dot(res['x'])))"
   ]
  },
  {
   "cell_type": "markdown",
   "id": "associate-reserve",
   "metadata": {},
   "source": [
    "### You want to minimize calories. How much do you eat of each food, how much does it cost, and what is the total nutrition? (b)"
   ]
  },
  {
   "cell_type": "code",
   "execution_count": 90,
   "id": "stopped-crime",
   "metadata": {},
   "outputs": [],
   "source": [
    "c = calo\n",
    "bounds = [(0,9) for x in range(8)]\n",
    "nutri_constr = []\n",
    "for i in range(18):\n",
    "    nutri_constr.append(-nutri[:,i])\n",
    "A_ub = [costs]\n",
    "A_ub.extend(nutri_constr)\n",
    "b_ub = [20]\n",
    "b_ub.extend(-np.ones(18))"
   ]
  },
  {
   "cell_type": "code",
   "execution_count": 91,
   "id": "liable-enough",
   "metadata": {},
   "outputs": [
    {
     "data": {
      "text/plain": [
       "     con: array([], dtype=float64)\n",
       "     fun: 3640.491055136164\n",
       " message: 'Optimization terminated successfully.'\n",
       "     nit: 13\n",
       "   slack: array([ 1.87392217e-08,  1.26412372e+00,  2.31366611e+00,  1.14117564e+00,\n",
       "        9.41472542e-01, -2.20592422e-09,  1.68858245e+00,  2.89765034e+00,\n",
       "        1.34751648e+00,  1.09617879e+00,  2.13406573e+00,  3.17693792e+00,\n",
       "        1.73977533e+00, -2.63299449e-09,  2.29801350e+00,  1.28536492e+01,\n",
       "        2.00405646e+00,  1.20735909e+00, -6.62164990e-10])\n",
       "  status: 0\n",
       " success: True\n",
       "       x: array([2.73809603e+00, 5.04625900e-10, 1.08058584e+00, 6.39082351e-09,\n",
       "       4.59017858e+00, 8.99999999e+00, 2.35521244e-08, 3.44245997e+00])"
      ]
     },
     "execution_count": 91,
     "metadata": {},
     "output_type": "execute_result"
    }
   ],
   "source": [
    "res = lp(c, A_ub=A_ub, b_ub=b_ub, bounds=bounds)\n",
    "res"
   ]
  },
  {
   "cell_type": "code",
   "execution_count": 92,
   "id": "homeless-republic",
   "metadata": {},
   "outputs": [
    {
     "name": "stdout",
     "output_type": "stream",
     "text": [
      "Food Group Ice Cream eat amount 2.7380960284999087\n",
      "Food Group Corn eat amount 5.046258999574524e-10\n",
      "Food Group Chili eat amount 1.0805858361112493\n",
      "Food Group Pear eat amount 6.390823514932155e-09\n",
      "Food Group Soybean eat amount 4.590178580244781\n",
      "Food Group Asparagus eat amount 8.999999989208161\n",
      "Food Group Eggplant eat amount 2.355212443267235e-08\n",
      "Food Group Peanut Butter eat amount 3.442459966222094\n"
     ]
    }
   ],
   "source": [
    "for i in range(len(foods)):\n",
    "    print('Food Group {} eat amount {}'.format(foods[i], res['x'][i]))"
   ]
  },
  {
   "cell_type": "code",
   "execution_count": 93,
   "id": "spatial-elizabeth",
   "metadata": {},
   "outputs": [
    {
     "name": "stdout",
     "output_type": "stream",
     "text": [
      "The Total Cost of this Diet Plan: 19.99999998126078\n"
     ]
    }
   ],
   "source": [
    "sum_cost = costs.dot(res['x'])\n",
    "print('The Total Cost of this Diet Plan: {}'.format(sum_cost))"
   ]
  },
  {
   "cell_type": "code",
   "execution_count": 94,
   "id": "cosmetic-kentucky",
   "metadata": {},
   "outputs": [
    {
     "name": "stdout",
     "output_type": "stream",
     "text": [
      "The Total Nutrition of this Diet Plan 56.104223309500746\n"
     ]
    }
   ],
   "source": [
    "print('The Total Nutrition of this Diet Plan {}'.format(nutri_sum.dot(res['x'])))"
   ]
  },
  {
   "cell_type": "markdown",
   "id": "structural-strengthening",
   "metadata": {},
   "source": [
    "### You want to minimize cost. How much do you eat of each food, how much does it cost, and what is the total nutrition? (c)"
   ]
  },
  {
   "cell_type": "code",
   "execution_count": 95,
   "id": "foster-plane",
   "metadata": {},
   "outputs": [],
   "source": [
    "c = costs\n",
    "bounds = [(0,9) for x in range(8)]\n",
    "nutri_constr = []\n",
    "for i in range(18):\n",
    "    nutri_constr.append(-nutri[:,i])\n",
    "A_ub = [costs]\n",
    "A_ub.extend(nutri_constr)\n",
    "b_ub = [20]\n",
    "b_ub.extend(-np.ones(18))"
   ]
  },
  {
   "cell_type": "code",
   "execution_count": 96,
   "id": "exposed-senator",
   "metadata": {},
   "outputs": [
    {
     "data": {
      "text/plain": [
       "     con: array([], dtype=float64)\n",
       "     fun: 16.02014651364979\n",
       " message: 'Optimization terminated successfully.'\n",
       "     nit: 7\n",
       "   slack: array([ 3.97985349e+00,  2.22435896e+00,  3.60805859e+00,  2.42490841e+00,\n",
       "        7.15201467e-01, -4.45366133e-09,  3.97619045e+00,  5.03937726e+00,\n",
       "        7.34432235e-01,  1.77380951e+00,  4.15384612e+00,  7.19871789e+00,\n",
       "        3.61538460e+00, -5.18704646e-09,  5.00732597e+00,  2.16391947e+00,\n",
       "        2.32692306e+00,  7.57326006e-01,  5.97063243e-09])\n",
       "  status: 0\n",
       " success: True\n",
       "       x: array([1.61913870e-08, 2.15666675e-08, 1.92307693e+00, 2.88207046e-08,\n",
       "       8.69963363e+00, 3.39508320e-08, 1.96366426e-08, 8.33333326e+00])"
      ]
     },
     "execution_count": 96,
     "metadata": {},
     "output_type": "execute_result"
    }
   ],
   "source": [
    "res = lp(c, A_ub=A_ub, b_ub=b_ub, bounds=bounds)\n",
    "res"
   ]
  },
  {
   "cell_type": "code",
   "execution_count": 97,
   "id": "extraordinary-rapid",
   "metadata": {},
   "outputs": [
    {
     "name": "stdout",
     "output_type": "stream",
     "text": [
      "Food Group Ice Cream eat amount 1.6191387007492913e-08\n",
      "Food Group Corn eat amount 2.156666749310237e-08\n",
      "Food Group Chili eat amount 1.9230769295769432\n",
      "Food Group Pear eat amount 2.882070460868978e-08\n",
      "Food Group Soybean eat amount 8.699633629762568\n",
      "Food Group Asparagus eat amount 3.3950831976879015e-08\n",
      "Food Group Eggplant eat amount 1.9636642560631776e-08\n",
      "Food Group Peanut Butter eat amount 8.333333263540856\n"
     ]
    }
   ],
   "source": [
    "for i in range(len(foods)):\n",
    "    print('Food Group {} eat amount {}'.format(foods[i], res['x'][i]))"
   ]
  },
  {
   "cell_type": "code",
   "execution_count": 98,
   "id": "representative-mystery",
   "metadata": {},
   "outputs": [
    {
     "name": "stdout",
     "output_type": "stream",
     "text": [
      "The Total Cost of this Diet Plan: 16.02014651364979\n"
     ]
    }
   ],
   "source": [
    "sum_cost = costs.dot(res['x'])\n",
    "print('The Total Cost of this Diet Plan: {}'.format(sum_cost))"
   ]
  },
  {
   "cell_type": "code",
   "execution_count": 99,
   "id": "cognitive-identification",
   "metadata": {},
   "outputs": [
    {
     "name": "stdout",
     "output_type": "stream",
     "text": [
      "The Total Nutrition of this Diet Plan 63.71977998337685\n"
     ]
    }
   ],
   "source": [
    "print('The Total Nutrition of this Diet Plan {}'.format(nutri_sum.dot(res['x'])))"
   ]
  },
  {
   "cell_type": "markdown",
   "id": "hindu-evidence",
   "metadata": {},
   "source": [
    "### Repeat c but with the constraint that each quantity has to be a whole number. (d)"
   ]
  },
  {
   "cell_type": "markdown",
   "id": "occupied-hunter",
   "metadata": {},
   "source": [
    "**FIGURE OUT HOW TO DO THIS**"
   ]
  },
  {
   "cell_type": "markdown",
   "id": "textile-community",
   "metadata": {},
   "source": [
    "### Remove the upper limit on the number of servings you can eat, remove the constraint on cost, and redo (1a) with only the constraint on getting at least 100% nutrition.  What goes wrong with linear programming with the weaker constraint? (e)"
   ]
  },
  {
   "cell_type": "code",
   "execution_count": 101,
   "id": "incomplete-willow",
   "metadata": {},
   "outputs": [],
   "source": [
    "c = nutri_sum.copy()\n",
    "bounds = [(0,None) for x in range(8)]\n",
    "nutri_constr = []\n",
    "for i in range(18):\n",
    "    nutri_constr.append(-nutri[:,i])\n",
    "A_ub = []\n",
    "A_ub.extend(nutri_constr)\n",
    "b_ub = []\n",
    "b_ub.extend(-np.ones(18))"
   ]
  },
  {
   "cell_type": "code",
   "execution_count": 102,
   "id": "focal-income",
   "metadata": {},
   "outputs": [
    {
     "data": {
      "text/plain": [
       "     con: array([], dtype=float64)\n",
       "     fun: -2193712809975.2258\n",
       " message: 'The algorithm terminated successfully and determined that the problem is unbounded.'\n",
       "     nit: 5\n",
       "   slack: array([9.08618117e+10, 1.45685672e+11, 9.90450071e+10, 8.63933401e+10,\n",
       "       5.14052986e+10, 1.35827438e+11, 1.83115931e+11, 8.47799840e+10,\n",
       "       8.61669177e+10, 1.03048411e+11, 1.75014002e+11, 1.62658399e+11,\n",
       "       3.69985822e+10, 1.39215261e+11, 3.31436667e+11, 1.20954915e+11,\n",
       "       9.39464667e+10, 6.71587053e+10])\n",
       "  status: 3\n",
       " success: False\n",
       "       x: array([2.56015893e+11, 1.21083771e+11, 5.03772355e+10, 2.08134485e+11,\n",
       "       1.39415244e+11, 4.86917319e+10, 2.00314895e+11, 1.30629651e+11])"
      ]
     },
     "execution_count": 102,
     "metadata": {},
     "output_type": "execute_result"
    }
   ],
   "source": [
    "res = lp(-c, A_ub=A_ub, b_ub=b_ub, bounds=bounds)\n",
    "res"
   ]
  },
  {
   "cell_type": "markdown",
   "id": "developing-correlation",
   "metadata": {},
   "source": [
    "**Answer:** The problem becomes unbounded wit hthe weaker constraint, leading to a undeterministic solution. "
   ]
  },
  {
   "cell_type": "markdown",
   "id": "surgical-startup",
   "metadata": {},
   "source": [
    "# Plan your study schedule"
   ]
  },
  {
   "cell_type": "markdown",
   "id": "artificial-decrease",
   "metadata": {},
   "source": [
    "## Assume you have five exams to study for. The subject matter on the exams overlaps, for example \"Completing the Square\" could be subject A and it is on exam 1 and exam 3.  Label the subjects A to H.  Assume that the expected grade is proportional to the amount of time. (2)\n",
    "\n",
    "Exam 1 = A + B\n",
    "\n",
    "Exam 2 = C + D\n",
    "\n",
    "Exam 3 = A + C + E + F\n",
    "\n",
    "Exam 4 = B + D + E + F + G + H\n",
    "\n",
    "Exam 5 = E + H\n",
    "\n",
    "In order to pass your courses, you need at least a certain amount on each exam.\n",
    "\n",
    "For exam 1, you need 10 hours.\n",
    "\n",
    "For exam 2, you need 2 hours.\n",
    "\n",
    "For exam 3, you need 3 hours.\n",
    "\n",
    "For exam 4, you need 5 hours.\n",
    "\n",
    "For exam 5, you need 8 hours.\n",
    "\n",
    "You have to decide how much time to spend on each subject using Linear Programming."
   ]
  },
  {
   "cell_type": "code",
   "execution_count": 118,
   "id": "qualified-subdivision",
   "metadata": {},
   "outputs": [],
   "source": [
    "M = np.array([[1,1,0,0,0,0,0,0], [0,0,1,1,0,0,0,0], [1,0,1,0,1,1,0,0], [0,1,0,1,1,1,1,1], [0,0,0,0,1,0,0,1], [-1,-1,-1,-1,-1,-1,-1,-1]])\n",
    "b = np.array([10,2,3,5,8,-40])"
   ]
  },
  {
   "cell_type": "markdown",
   "id": "super-planet",
   "metadata": {},
   "source": [
    "### What is the lower bound in the linear programming for the variable A? (a)"
   ]
  },
  {
   "cell_type": "markdown",
   "id": "narrative-society",
   "metadata": {},
   "source": [
    "We must study for subject A for at least 3 hours (derived from equation for Exam 3)"
   ]
  },
  {
   "cell_type": "markdown",
   "id": "arbitrary-vancouver",
   "metadata": {},
   "source": [
    "### You want to maximize your GPA while passing all of your courses.  The courses have equal weight and you only have forty hours to study.  How much time should be spent on A to H ?  What is the total time for each exam?  What is the expected GPA (measured in hours-studied)? (b)"
   ]
  },
  {
   "cell_type": "code",
   "execution_count": 119,
   "id": "cheap-commissioner",
   "metadata": {},
   "outputs": [
    {
     "data": {
      "text/plain": [
       "array([2, 2, 2, 2, 3, 2, 1, 2])"
      ]
     },
     "execution_count": 119,
     "metadata": {},
     "output_type": "execute_result"
    }
   ],
   "source": [
    "c = M[:5].sum(axis=0)\n",
    "c"
   ]
  },
  {
   "cell_type": "code",
   "execution_count": 120,
   "id": "exterior-universe",
   "metadata": {},
   "outputs": [
    {
     "data": {
      "text/plain": [
       "     con: array([], dtype=float64)\n",
       "     fun: -107.99999944795489\n",
       " message: 'Optimization terminated successfully.'\n",
       "     nit: 6\n",
       "   slack: array([1.31554145e-09, 4.00682096e-08, 3.09141763e+01, 2.90858233e+01,\n",
       "       1.99999998e+01, 1.37337395e-07])\n",
       "  status: 0\n",
       " success: True\n",
       "       x: array([5.01132040e+00, 4.98867960e+00, 9.02856149e-01, 1.09714389e+00,\n",
       "       2.79999997e+01, 3.25523431e-08, 1.69575842e-08, 3.21816449e-08])"
      ]
     },
     "execution_count": 120,
     "metadata": {},
     "output_type": "execute_result"
    }
   ],
   "source": [
    "res = lp(-c, A_ub=-M, b_ub=-b)\n",
    "res"
   ]
  },
  {
   "cell_type": "code",
   "execution_count": 124,
   "id": "engaged-employee",
   "metadata": {},
   "outputs": [
    {
     "name": "stdout",
     "output_type": "stream",
     "text": [
      "For Subject A we will spend 5.011320399347534 hours studying\n",
      "For Subject B we will spend 4.988679601968007 hours studying\n",
      "For Subject C we will spend 0.9028561489676091 hours studying\n",
      "For Subject D we will spend 1.0971438911006006 hours studying\n",
      "For Subject E we will spend 27.999999739587278 hours studying\n",
      "For Subject F we will spend 3.255234307462855e-08 hours studying\n",
      "For Subject G we will spend 1.695758419267457e-08 hours studying\n",
      "For Subject H we will spend 3.218164487583642e-08 hours studying\n"
     ]
    }
   ],
   "source": [
    "subjs = ['A','B','C','D','E','F','G','H']\n",
    "for i in range(len(subjs)):\n",
    "    print('For Subject {} we will spend {} hours studying'.format(subjs[i], res['x'][i]))"
   ]
  },
  {
   "cell_type": "code",
   "execution_count": 127,
   "id": "clinical-implementation",
   "metadata": {},
   "outputs": [
    {
     "name": "stdout",
     "output_type": "stream",
     "text": [
      "For Exam 1: We will be spending 10.000000001315541 hours\n",
      "For Exam 2: We will be spending 2.0000000400682096 hours\n",
      "For Exam 3: We will be spending 33.914176320454764 hours\n",
      "For Exam 4: We will be spending 34.08582331434746 hours\n",
      "For Exam 5: We will be spending 27.999999771768923 hours\n"
     ]
    }
   ],
   "source": [
    "print('For Exam 1: We will be spending {} hours'.format(res['x'][0] + res['x'][1]))\n",
    "print('For Exam 2: We will be spending {} hours'.format(res['x'][2] + res['x'][3]))\n",
    "print('For Exam 3: We will be spending {} hours'.format(res['x'][0] + res['x'][2] + res['x'][4] + res['x'][5]))\n",
    "print('For Exam 4: We will be spending {} hours'.format(res['x'][1] + res['x'][3] + res['x'][4] + res['x'][5] + res['x'][6] + res['x'][7]))\n",
    "print('For Exam 5: We will be spending {} hours'.format(res['x'][4] + res['x'][7]))"
   ]
  },
  {
   "cell_type": "code",
   "execution_count": 134,
   "id": "concrete-basket",
   "metadata": {},
   "outputs": [
    {
     "name": "stdout",
     "output_type": "stream",
     "text": [
      "Expected GPA: 107.99999944795489 measured in hours studied\n"
     ]
    }
   ],
   "source": [
    "print('Expected GPA: {} measured in hours studied'.format(c.dot(res['x'])))"
   ]
  },
  {
   "cell_type": "markdown",
   "id": "found-participant",
   "metadata": {},
   "source": [
    "### You want to minimize the time spent studying to pass your courses.   You only have forty hours to study. (c) \n",
    "\n",
    "How much time should be spent on A to H ?  What is the total time for each exam?  What is the expected GPA (measured in hours-studied)?  Which exams do you more than pass?"
   ]
  },
  {
   "cell_type": "code",
   "execution_count": 135,
   "id": "structured-compound",
   "metadata": {},
   "outputs": [
    {
     "data": {
      "text/plain": [
       "array([2, 2, 2, 2, 3, 2, 1, 2])"
      ]
     },
     "execution_count": 135,
     "metadata": {},
     "output_type": "execute_result"
    }
   ],
   "source": [
    "c = M[:5].sum(axis=0)\n",
    "c"
   ]
  },
  {
   "cell_type": "code",
   "execution_count": 136,
   "id": "czech-joining",
   "metadata": {},
   "outputs": [
    {
     "data": {
      "text/plain": [
       "     con: array([], dtype=float64)\n",
       "     fun: 39.999999770917746\n",
       " message: 'Optimization terminated successfully.'\n",
       "     nit: 5\n",
       "   slack: array([-1.23947638e-07,  2.94109861e-08,  4.12066813e+00,  7.87933181e+00,\n",
       "       -7.80847422e-08,  2.00000001e+01])\n",
       "  status: 0\n",
       " success: True\n",
       "       x: array([6.08783175e+00, 3.91216813e+00, 1.03283635e+00, 9.67163684e-01,\n",
       "       1.91851575e-08, 1.35000266e-08, 6.99753234e-08, 7.99999990e+00])"
      ]
     },
     "execution_count": 136,
     "metadata": {},
     "output_type": "execute_result"
    }
   ],
   "source": [
    "res = lp(c, A_ub=-M, b_ub=-b)\n",
    "res"
   ]
  },
  {
   "cell_type": "code",
   "execution_count": 137,
   "id": "endangered-sunset",
   "metadata": {},
   "outputs": [
    {
     "name": "stdout",
     "output_type": "stream",
     "text": [
      "For Subject A we will spend 6.0878317508040585 hours studying\n",
      "For Subject B we will spend 3.912168125248303 hours studying\n",
      "For Subject C we will spend 1.0328363451938587 hours studying\n",
      "For Subject D we will spend 0.9671636842171273 hours studying\n",
      "For Subject E we will spend 1.9185157501824494e-08 hours studying\n",
      "For Subject F we will spend 1.3500026555804324e-08 hours studying\n",
      "For Subject G we will spend 6.997532344869189e-08 hours studying\n",
      "For Subject H we will spend 7.9999999027301 hours studying\n"
     ]
    }
   ],
   "source": [
    "subjs = ['A','B','C','D','E','F','G','H']\n",
    "for i in range(len(subjs)):\n",
    "    print('For Subject {} we will spend {} hours studying'.format(subjs[i], res['x'][i]))"
   ]
  },
  {
   "cell_type": "code",
   "execution_count": 138,
   "id": "medieval-onion",
   "metadata": {},
   "outputs": [
    {
     "name": "stdout",
     "output_type": "stream",
     "text": [
      "For Exam 1: We will be spending 9.999999876052362 hours\n",
      "For Exam 2: We will be spending 2.000000029410986 hours\n",
      "For Exam 3: We will be spending 7.120668128683102 hours\n",
      "For Exam 4: We will be spending 12.879331814856037 hours\n",
      "For Exam 5: We will be spending 7.999999921915258 hours\n"
     ]
    }
   ],
   "source": [
    "print('For Exam 1: We will be spending {} hours'.format(res['x'][0] + res['x'][1]))\n",
    "print('For Exam 2: We will be spending {} hours'.format(res['x'][2] + res['x'][3]))\n",
    "print('For Exam 3: We will be spending {} hours'.format(res['x'][0] + res['x'][2] + res['x'][4] + res['x'][5]))\n",
    "print('For Exam 4: We will be spending {} hours'.format(res['x'][1] + res['x'][3] + res['x'][4] + res['x'][5] + res['x'][6] + res['x'][7]))\n",
    "print('For Exam 5: We will be spending {} hours'.format(res['x'][4] + res['x'][7]))"
   ]
  },
  {
   "cell_type": "code",
   "execution_count": 139,
   "id": "textile-panel",
   "metadata": {},
   "outputs": [
    {
     "name": "stdout",
     "output_type": "stream",
     "text": [
      "Expected GPA: 39.999999770917746 measured in hours studied\n"
     ]
    }
   ],
   "source": [
    "print('Expected GPA: {} measured in hours studied'.format(c.dot(res['x'])))"
   ]
  },
  {
   "cell_type": "markdown",
   "id": "equipped-chemical",
   "metadata": {},
   "source": [
    "We exactly pass exams:\n",
    "\n",
    "1. Exam 1\n",
    "2. Exam 5\n",
    "\n",
    "And we more than pass exams:\n",
    "\n",
    "1. Exam 2\n",
    "2. Exam 3\n",
    "3. Exam 4"
   ]
  }
 ],
 "metadata": {
  "kernelspec": {
   "display_name": "Python 3",
   "language": "python",
   "name": "python3"
  },
  "language_info": {
   "codemirror_mode": {
    "name": "ipython",
    "version": 3
   },
   "file_extension": ".py",
   "mimetype": "text/x-python",
   "name": "python",
   "nbconvert_exporter": "python",
   "pygments_lexer": "ipython3",
   "version": "3.8.6"
  }
 },
 "nbformat": 4,
 "nbformat_minor": 5
}
